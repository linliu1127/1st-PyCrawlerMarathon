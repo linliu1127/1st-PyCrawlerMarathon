{
 "cells": [
  {
   "cell_type": "markdown",
   "metadata": {},
   "source": [
    "# YAHOO電影爬蟲練習\n",
    "## 練習爬取電影放映資訊。必須逐步獲取電影的代號、放映地區、放映日期後，再送出查詢給伺服器。"
   ]
  },
  {
   "cell_type": "code",
   "execution_count": 82,
   "metadata": {},
   "outputs": [],
   "source": [
    "import requests\n",
    "import re\n",
    "from bs4 import BeautifulSoup"
   ]
  },
  {
   "cell_type": "markdown",
   "metadata": {},
   "source": [
    "### 先搜尋全部的電影代號(ID)資訊"
   ]
  },
  {
   "cell_type": "code",
   "execution_count": 83,
   "metadata": {},
   "outputs": [
    {
     "name": "stdout",
     "output_type": "stream",
     "text": "Movie: 然後我們跳了舞, ID: 10451\nMovie: 巧虎電影：英雄遊樂園, ID: 10429\nMovie: 在黑暗中漫舞：20週年數位修復版, ID: 10428\nMovie: 哥哥戀愛了，我怎麼辦！？, ID: 10414\nMovie: 青春催落去, ID: 10404\nMovie: 姊魅, ID: 10403\nMovie: 不完美的正義, ID: 10243\nMovie: 絕地戰警FOR LIFE, ID: 10242\nMovie: 大監獄行動, ID: 10450\nMovie: 惡靈20, ID: 10444\nMovie: 星星知我心, ID: 10409\nMovie: Cunningham 機遇之舞, ID: 10385\nMovie: 逃出天堂島, ID: 10384\nMovie: 鬼眼逼人, ID: 10379\nMovie: 動畫電影版 我想吃掉你的胰臟, ID: 10377\nMovie: 魯邦三世 The First, ID: 10355\nMovie: 重磅腥聞, ID: 10320\nMovie: 菠蘿蜜, ID: 10412\nMovie: 這一次不再錯過你, ID: 10389\nMovie: 別告訴她, ID: 10382\nMovie: 驅魔直播, ID: 10375\nMovie: 真愛裁會贏, ID: 10362\nMovie: 那一夜, ID: 10345\nMovie: 兔嘲男孩, ID: 10283\nMovie: 海上鋼琴師4K數位修復, ID: 10425\nMovie: 鹿皮奇談, ID: 10420\nMovie: 倒數計死, ID: 10390\nMovie: 潛艦追緝, ID: 10333\nMovie: 霹靂嬌娃, ID: 10124\nMovie: 白頭山：半島浩劫, ID: 10354\nMovie: CATS貓, ID: 10166\nMovie: 茱蒂, ID: 10112\nMovie: 燃燒女子的畫像, ID: 10069\nMovie: 葉問4：完結篇, ID: 9890\nMovie: STAR WARS : 天行者的崛起, ID: 10225\nMovie: 黑熊來了, ID: 10357\nMovie: 巴黎小情聖, ID: 10329\nMovie: 去年聖誕節, ID: 10256\nMovie: 野蠻遊戲：全面晉級, ID: 10134\nMovie: 懸案密碼前傳：瓶中信, ID: 10254\nMovie: 布魯克林孤兒, ID: 10224\nMovie: 暴走曼哈頓, ID: 10044\nMovie: 鋒迴路轉, ID: 10258\nMovie: 賽道狂人, ID: 10097\nMovie: 男人真命苦, ID: 10369\nMovie: 82年生的金智英, ID: 10298\nMovie: 冰雪奇緣2, ID: 9597\nMovie: 黑金叛徒, ID: 10321\nMovie: 安眠醫生, ID: 10098\nMovie: 魔鬼終結者：黑暗宿命, ID: 10067\nMovie: 陽光普照, ID: 10240\nMovie: 傻傻愛你，傻傻愛我, ID: 10075\nMovie: 阿達一族, ID: 9992\nMovie: 失憶的總理大臣, ID: 10246\nMovie: 陪你很久很久, ID: 10160\nMovie: 雙子殺手, ID: 10017\nMovie: 七個會議, ID: 10011\nMovie: 黑魔女2, ID: 10262\nMovie: 電影版 壞傢伙們, ID: 10249\nMovie: 江湖無難事, ID: 10241\nMovie: 小丑, ID: 9949\nMovie: 教父II, ID: 10289\nMovie: 瞞天機密, ID: 10206\nMovie: 無間行動, ID: 10155\nMovie: 囧媽的極地任務, ID: 7772\nMovie: 返校, ID: 10109\nMovie: 從前，有個好萊塢, ID: 9884\nMovie: 獅子王, ID: 9116\nMovie: 寄生上流, ID: 10020\nMovie: 玩具總動員4, ID: 9924\nMovie: 毀滅者, ID: 9405\nMovie: 庫爾斯克號：深海救援, ID: 9134\nMovie: 厄夜追緝令, ID: 9589\nMovie: 苦兒流浪記, ID: 9538\nMovie: 活個精彩, ID: 9394\nMovie: 限時好友, ID: 9578\nMovie: 祝你忌日快樂, ID: 9568\nMovie: 艾莉塔：戰鬥天使, ID: 8553\nMovie: 馴龍高手3, ID: 8350\nMovie: 幸福綠皮書, ID: 9150\nMovie: 《新天堂樂園》25週年數位修復版, ID: 6201\nMovie: 一首搖滾上月球, ID: 4887\nMovie: 錢不夠用2, ID: 3026\nMovie: 國際市場：半世紀的諾言, ID: 8273\n"
    }
   ],
   "source": [
    "# 查看目前上映那些電影，並擷取出其ID資訊\n",
    "url = 'https://movies.yahoo.com.tw/'\n",
    "resp = requests.get(url)\n",
    "resp.encoding = 'utf-8'\n",
    "\n",
    "soup = BeautifulSoup(resp.text, 'lxml')\n",
    "html = soup.find(\"select\", attrs={'name':'movie_id'})\n",
    "movie_item = html.find_all(\"option\", attrs={'data-name':re.compile('.*')})#.*代表任意多的字元(正則表達式)\n",
    "\n",
    "for p in movie_item:\n",
    "    print(\"Movie: %s, ID: %s\" % (p[\"data-name\"], p[\"value\"]))"
   ]
  },
  {
   "cell_type": "markdown",
   "metadata": {},
   "source": [
    "### 指定你有興趣的電影其ID，然後查詢其放映地區資訊。"
   ]
  },
  {
   "cell_type": "code",
   "execution_count": 84,
   "metadata": {},
   "outputs": [],
   "source": [
    "# 參考前一個步驟中擷取到的ID資訊，並指定ID\n",
    "movie_id = 10429#巧虎電影：英雄遊樂園"
   ]
  },
  {
   "cell_type": "code",
   "execution_count": 85,
   "metadata": {},
   "outputs": [
    {
     "name": "stdout",
     "output_type": "stream",
     "text": "放映地區: 台北市, 代號(area_id): 28\n放映地區: 新北市, 代號(area_id): 8\n放映地區: 桃園, 代號(area_id): 16\n放映地區: 新竹, 代號(area_id): 20\n放映地區: 苗栗, 代號(area_id): 15\n放映地區: 台中, 代號(area_id): 2\n放映地區: 台南, 代號(area_id): 10\n放映地區: 高雄, 代號(area_id): 17\n"
    }
   ],
   "source": [
    "url = 'https://movies.yahoo.com.tw/api/v1/areas_by_movie_theater'\n",
    "payload = {'movie_id':str(movie_id)}\n",
    "\n",
    "# 模擬一個header\n",
    "headers = {\n",
    "    'authority': 'movies.yahoo.com.tw',\n",
    "    'method': 'GET',\n",
    "    'path': '/api/v1/areas_by_movie_theater?movie_id=' + str(movie_id),\n",
    "    'scheme': 'https',\n",
    "    'accept': 'application/json, text/javascript, */*; q=0.01',\n",
    "    'accept-encoding': 'gzip, deflate, br',\n",
    "    'accept-language': 'zh-TW,zh;q=0.9,en-US;q=0.8,en;q=0.7,zh-CN;q=0.6',\n",
    "    'cookie': 'rxx=9s3x2fws06.1g16irnc&v=1; _ga=GA1.3.2056742944.1551651301; GUC=AQEBAQFczFpdm0IfmwSB&s=AQAAACoo4N5D&g=XMsVBw; BX=4hkdk1decm57t&b=3&s=mr; _ga=GA1.4.2056742944.1551651301; nexagesuid=82843256dd234e8e91aa73f2062f8218; browsed_movie=eyJpdiI6IlJXWWtiSWJaZlNGK2MxQnhscnVUYWc9PSIsInZhbHVlIjoiMXRhMmVHRXRIeUNjc1RBWDJzdGYwbnlIQURmWGsrcjJSMzhkbkcraDNJVUNIZEZsbzU3amlFcVZ1NzlmazJrTGpoMjVrbHk1YmpoRENXaHZTOUw1TmI2ZTZVWHdOejZQZm16RmVuMWlHTTJLaTZLVFZZVkFOMDlTd1wvSGltcytJIiwibWFjIjoiZWQ2ZjA4MmVjZmZlYjlmNjJmYmY2NGMyMDI0Njc0NWViYjVkOWE2NDg0N2RhODMxZjBjZDhiMmJhZTc2MDZhYiJ9; avi=eyJpdiI6Im1NeWFJRlVRWDR1endEcGRGUGJUbVE9PSIsInZhbHVlIjoickRpU3JuUytmcGl6cjF5OW0rNU9iZz09IiwibWFjIjoiY2VmY2NkNzZmM2NhNjY5YzlkOTcyNjE5OGEyMzU0NWYxOTdmMDRkMDY3OWNmMmZjOTMxYjc5MjI5N2Q5NGE5MiJ9; cmp=t=1559391030&j=0; _gid=GA1.4.779543841.1559391031; XSRF-TOKEN=eyJpdiI6IkhpS2hGcDRQaHlmWUJmaHdSS2Q2bHc9PSIsInZhbHVlIjoiOUVoNFk4OHI1UUZmUWRtYXhza0MyWjJSTlhlZ3RnT0VGeVJPN2JuczVRMGRFdWt2OUlsamVKeHRobFwvcHBGM0dhU3VyMXNGTHlsb2dVM2l0U1hpUGxBPT0iLCJtYWMiOiJkZWU4YzJhNjAxMTY3MzE4Y2ExNWIxYmE1ZjE1YWZlZTlhOTcyYjc4M2RlZGY4ZWNjZDYyMTA2NGYwZGViMzc2In0%3D; m_s=eyJpdiI6InpsZHZ2Tk1BZ0dxaHhETml1RjBnUXc9PSIsInZhbHVlIjoiSkNGeHUranRoXC85bDFiaDhySTJqNkJRcWdjWUxjeVRJSHVYZ1wvd2d4bWJZUTUrSHVDM0lUcW5KNHdETFZ4T1lieU81OUhzc1VoUXhZcWk0UDZSQXVFdz09IiwibWFjIjoiYmJkMDJkMDhlODIzMzcyMWY4M2NmYWNjNGVlOWRjMDIwZmVmNzAyMjE3Yzg3ZGY3ODBkZWEzZTI4MTI5ZWNmOSJ9; _gat=1; nexagesd=10',\n",
    "    'dnt': '1',\n",
    "    'mv-authorization': '21835b082e15b91a69b3851eec7b31b82ce82afb',\n",
    "    'referer': 'https://movies.yahoo.com.tw/',\n",
    "    'user-agent': 'Mozilla/5.0 (Windows NT 10.0; Win64; x64) AppleWebKit/537.36 (KHTML, like Gecko) Chrome/74.0.3729.169 Safari/537.36',\n",
    "    'x-requested-with': 'XMLHttpRequest',\n",
    "}\n",
    "    \n",
    "resp = requests.get(url, params=payload, headers=headers)\n",
    "#print(resp.json())  # 若有需要，列印出json原始碼\n",
    "\n",
    "# 這裡回傳的格式是JSON格式的資料，要解析JSON擷取資料\n",
    "for p in resp.json():\n",
    "    print('放映地區: {0}, 代號(area_id): {1}'.format(p['title'], p['area_id']))"
   ]
  },
  {
   "cell_type": "markdown",
   "metadata": {},
   "source": [
    "### 指定你想要觀看的放映地區，查詢有上映電影的場次日期"
   ]
  },
  {
   "cell_type": "code",
   "execution_count": 86,
   "metadata": {},
   "outputs": [],
   "source": [
    "# 指定放映地區\n",
    "area_id = 28"
   ]
  },
  {
   "cell_type": "code",
   "execution_count": 87,
   "metadata": {},
   "outputs": [
    {
     "name": "stdout",
     "output_type": "stream",
     "text": "一月 19\n一月 20\n一月 21\n一月 22\n一月 23\n"
    }
   ],
   "source": [
    "# 向網站發送請求\n",
    "url = 'https://movies.yahoo.com.tw/movietime_result.html'\n",
    "payload = {'movie_id':str(movie_id), 'area_id':str(area_id)}\n",
    "resp = requests.get(url, params=payload)\n",
    "resp.encoding = 'utf-8'\n",
    "\n",
    "soup = BeautifulSoup(resp.text, 'lxml')\n",
    "movie_date = soup.find_all(\"label\", attrs={'for':re.compile(\"date_[\\d]\")})\n",
    "\n",
    "# 列印播放日期\n",
    "for date in movie_date:\n",
    "    print(\"%s %s\" % (date.p.string, date.h3.string))"
   ]
  },
  {
   "cell_type": "markdown",
   "metadata": {},
   "source": [
    "### 最後指定觀看的日期，查詢並列印出放映的電影院、放映類型(數位、3D、IMAX 3D...)、放映時間等資訊。"
   ]
  },
  {
   "cell_type": "code",
   "execution_count": 93,
   "metadata": {},
   "outputs": [],
   "source": [
    "# 選定要觀看的日期\n",
    "date = \"2020-01-21\""
   ]
  },
  {
   "cell_type": "code",
   "execution_count": 107,
   "metadata": {},
   "outputs": [
    {
     "name": "stdout",
     "output_type": "stream",
     "text": "ata-movie_type=\"數位\"\n                        data-movie_title=\"巧虎電影：英雄遊樂園\"\n                        data-movie_date=\"01.21\"\n                        data-movie_time=\"16:50\"\n                        data-ga=\"['電影頁_時刻表', '電影頁_時刻表_場次', '巧虎電影：英雄遊樂園']\" data-ezding=\"ezding\"\n                        />\n                    <label for=\"72774912\" class=\"select\">16:50</label>\n                                               </div>\n           </li>\n          </ul>\n      <ul id=\"theater_id_45\" class=\"area_time _c jq_area_time\" data-theater_name=\"台北信義威秀影城\" data-theater_url=\"http://www.vscinemas.com.tw/\" data-theater_schedules=\"https://movies.yahoo.com.tw/theater_result.html/id=45\" >\n       <li class=\"adds\">\n           <a href=\"https://movies.yahoo.com.tw/theater_result.html/id=45\">台北信義威秀影城</a>\n           <span>02-87805566</span>\n       </li>\n                         <li class=\"taps\">\n                <span class=\"tapR\">數位</span>                           </li>\n           <li class=\"time _c\">\n               <div class=\"input_picker jq_input_picker\">\n                                                                   <input type=\"radio\" name=\"schedule_list\" id=\"72775036\" class=\"gabtn\"\n                        value=\"2020-01-21 09:10:00\"  data-movie=\"7024dbcb3c8541ce9085e0a685a59deb\"\n                        data-cinema=\"40288eb0050f542401050f554e7e0674\" data-session=\"fb79478a0305434f9e95bb07357137e6\"\n                        data-date=\"1579536000\" data-time=\"1579569000\"\n                        data-movie_type=\"數位\"\n                        data-movie_title=\"巧虎電影：英雄遊樂園\"\n                        data-movie_date=\"01.21\"\n                        data-movie_time=\"09:10\"\n                        data-ga=\"['電影頁_時刻表', '電影頁_時刻表_場次', '巧虎電影：英雄遊樂園']\" data-ezding=\"ezding\"\n                        />\n                    <label for=\"72775036\" class=\"select\">09:10</label>\n                                                                                    <input type=\"radio\" name=\"schedule_list\" id=\"72775037\" class=\"gabtn\"\n                        value=\"2020-01-21 11:45:00\"  data-movie=\"7024dbcb3c8541ce9085e0a685a59deb\"\n                        data-cinema=\"40288eb0050f542401050f554e7e0674\" data-session=\"f79fc4f158a8425787925c4fd653fd5d\"\n                        data-date=\"1579536000\" data-time=\"1579578300\"\n                        data-movie_type=\"數位\"\n                        data-movie_title=\"巧虎電影：英雄遊樂園\"\n                        data-movie_date=\"01.21\"\n                        data-movie_time=\"11:45\"\n                        data-ga=\"['電影頁_時刻表', '電影頁_時刻表_場次', '巧虎電影：英雄遊樂園']\" data-ezding=\"ezding\"\n                        />\n                    <label for=\"72775037\" class=\"select\">11:45</label>\n                                                                                    <input type=\"radio\" name=\"schedule_list\" id=\"72775038\" class=\"gabtn\"\n                        value=\"2020-01-21 13:35:00\"  data-movie=\"7024dbcb3c8541ce9085e0a685a59deb\"\n                        data-cinema=\"40288eb0050f542401050f554e7e0674\" data-session=\"d5d5b95987b74517b6397bb4b65c533b\"\n                        data-date=\"1579536000\" data-time=\"1579584900\"\n                        data-movie_type=\"數位\"\n                        data-movie_title=\"巧虎電影：英雄遊樂園\"\n                        data-movie_date=\"01.21\"\n                        data-movie_time=\"13:35\"\n                        data-ga=\"['電影頁_時刻表', '電影頁_時刻表_場次', '巧虎電影：英雄遊樂園']\" data-ezding=\"ezding\"\n                        />\n                    <label for=\"72775038\" class=\"select\">13:35</label>\n                                                                                    <input type=\"radio\" name=\"schedule_list\" id=\"72775039\" class=\"gabtn\"\n                        value=\"2020-01-21 14:45:00\"  data-movie=\"7024dbcb3c8541ce9085e0a685a59deb\"\n                        data-cinema=\"40288eb0050f542401050f554e7e0674\" data-session=\"6ee018deb9a646a192b2a7824c10c85a\"\n                        data-date=\"1579536000\" data-time=\"1579589100\"\n                        data-movie_type=\"數位\"\n                        data-movie_title=\"巧虎電影：英雄遊樂園\"\n                        data-movie_date=\"01.21\"\n                        data-movie_time=\"14:45\"\n                        data-ga=\"['電影頁_時刻表', '電影頁_時刻表_場次', '巧虎電影：英雄遊樂園']\" data-ezding=\"ezding\"\n                        />\n                    <label for=\"72775039\" class=\"select\">14:45</label>\n                                                                                    <input type=\"radio\" name=\"schedule_list\" id=\"72775040\" class=\"gabtn\"\n                        value=\"2020-01-21 16:05:00\"  data-movie=\"7024dbcb3c8541ce9085e0a685a59deb\"\n                        data-cinema=\"40288eb0050f542401050f554e7e0674\" data-session=\"d9877310bfdb40c2a15154298d32fed9\"\n                        data-date=\"1579536000\" data-time=\"1579593900\"\n                        data-movie_type=\"數位\"\n                        data-movie_title=\"巧虎電影：英雄遊樂園\"\n                        data-movie_date=\"01.21\"\n                        data-movie_time=\"16:05\"\n                        data-ga=\"['電影頁_時刻表', '電影頁_時刻表_場次', '巧虎電影：英雄遊樂園']\" data-ezding=\"ezding\"\n                        />\n                    <label for=\"72775040\" class=\"select\">16:05</label>\n                                                                                    <input type=\"radio\" name=\"schedule_list\" id=\"72775041\" class=\"gabtn\"\n                        value=\"2020-01-21 18:05:00\"  data-movie=\"7024dbcb3c8541ce9085e0a685a59deb\"\n                        data-cinema=\"40288eb0050f542401050f554e7e0674\" data-session=\"188b92c0fdaf4c768f13a2383fa4e500\"\n                        data-date=\"1579536000\" data-time=\"1579601100\"\n                        data-movie_type=\"數位\"\n                        data-movie_title=\"巧虎電影：英雄遊樂園\"\n                        data-movie_date=\"01.21\"\n                        data-movie_time=\"18:05\"\n                        data-ga=\"['電影頁_時刻表', '電影頁_時刻表_場次', '巧虎電影：英雄遊樂園']\" data-ezding=\"ezding\"\n                        />\n                    <label for=\"72775041\" class=\"select\">18:05</label>\n                                                                                    <input type=\"radio\" name=\"schedule_list\" id=\"72775042\" class=\"gabtn\"\n                        value=\"2020-01-21 19:25:00\"  data-movie=\"7024dbcb3c8541ce9085e0a685a59deb\"\n                        data-cinema=\"40288eb0050f542401050f554e7e0674\" data-session=\"a71c8441b8364edd9919eda0fb024bad\"\n                        data-date=\"1579536000\" data-time=\"1579605900\"\n                        data-movie_type=\"數位\"\n                        data-movie_title=\"巧虎電影：英雄遊樂園\"\n                        data-movie_date=\"01.21\"\n                        data-movie_time=\"19:25\"\n                        data-ga=\"['電影頁_時刻表', '電影頁_時刻表_場次', '巧虎電影：英雄遊樂園']\" data-ezding=\"ezding\"\n                        />\n                    <label for=\"72775042\" class=\"select\">19:25</label>\n                                               </div>\n           </li>\n          </ul>\n      <ul id=\"theater_id_118\" class=\"area_time _c jq_area_time\" data-theater_name=\"京站威秀影城\" data-theater_url=\"http://www.vscinemas.com.tw/\" data-theater_schedules=\"https://movies.yahoo.com.tw/theater_result.html/id=118\" >\n       <li class=\"adds\">\n           <a href=\"https://movies.yahoo.com.tw/theater_result.html/id=118\">京站威秀影城</a>\n           <span>02-25525511</span>\n       </li>\n                         <li class=\"taps\">\n                <span class=\"tapR\">數位</span>                           </li>\n           <li class=\"time _c\">\n               <div class=\"input_picker jq_input_picker\">\n                                                                   <input type=\"radio\" name=\"schedule_list\" id=\"72774595\" class=\"gabtn\"\n                        value=\"2020-01-21 10:05:00\"  data-movie=\"fceff273cf574dd9bfbed73d06d49d7a\"\n                        data-cinema=\"5f60dacd-45b3-102d-8d74-e400529c\" data-session=\"8265e1d20faa45bc81e43ff341c58347\"\n                        data-date=\"1579536000\" data-time=\"1579572300\"\n                        data-movie_type=\"數位\"\n                        data-movie_title=\"巧虎電影：英雄遊樂園\"\n                        data-movie_date=\"01.21\"\n                        data-movie_time=\"10:05\"\n                        data-ga=\"['電影頁_時刻表', '電影頁_時刻表_場次', '巧虎電影：英雄遊樂園']\" data-ezding=\"ezding\"\n                        />\n                    <label for=\"72774595\" class=\"select\">10:05</label>\n                                                                                    <input type=\"radio\" name=\"schedule_list\" id=\"72774596\" class=\"gabtn\"\n                        value=\"2020-01-21 11:25:00\"  data-movie=\"fceff273cf574dd9bfbed73d06d49d7a\"\n                        data-cinema=\"5f60dacd-45b3-102d-8d74-e400529c\" data-session=\"71fb38880e60466b96d14bc2d8c7054f\"\n                        data-date=\"1579536000\" data-time=\"1579577100\"\n                        data-movie_type=\"數位\"\n                        data-movie_title=\"巧虎電影：英雄遊樂園\"\n                        data-movie_date=\"01.21\"\n                        data-movie_time=\"11:25\"\n                        data-ga=\"['電影頁_時刻表', '電影頁_時刻表_場次', '巧虎電影：英雄遊樂園']\" data-ezding=\"ezding\"\n                        />\n                    <label for=\"72774596\" class=\"select\">11:25</label>\n                                                                                    <input type=\"radio\" name=\"schedule_list\" id=\"72774597\" class=\"gabtn\"\n                        value=\"2020-01-21 14:00:00\"  data-movie=\"fceff273cf574dd9bfbed73d06d49d7a\"\n                        data-cinema=\"5f60dacd-45b3-102d-8d74-e400529c\" data-session=\"9d1c22afb92f4b6fa8f1482d19fb9a62\"\n                        data-date=\"1579536000\" data-time=\"1579586400\"\n                        data-movie_type=\"數位\"\n                        data-movie_title=\"巧虎電影：英雄遊樂園\"\n                        data-movie_date=\"01.21\"\n                        data-movie_time=\"14:00\"\n                        data-ga=\"['電影頁_時刻表', '電影頁_時刻表_場次', '巧虎電影：英雄遊樂園']\" data-ezding=\"ezding\"\n                        />\n                    <label for=\"72774597\" class=\"select\">14:00</label>\n                                                                                    <input type=\"radio\" name=\"schedule_list\" id=\"72774598\" class=\"gabtn\"\n                        value=\"2020-01-21 15:15:00\"  data-movie=\"fceff273cf574dd9bfbed73d06d49d7a\"\n                        data-cinema=\"5f60dacd-45b3-102d-8d74-e400529c\" data-session=\"1d5db7a72db34ca3818b0c4c8134f9b5\"\n                        data-date=\"1579536000\" data-time=\"1579590900\"\n                        data-movie_type=\"數位\"\n                        data-movie_title=\"巧虎電影：英雄遊樂園\"\n                        data-movie_date=\"01.21\"\n                        data-movie_time=\"15:15\"\n                        data-ga=\"['電影頁_時刻表', '電影頁_時刻表_場次', '巧虎電影：英雄遊樂園']\" data-ezding=\"ezding\"\n                        />\n                    <label for=\"72774598\" class=\"select\">15:15</label>\n                                                                                    <input type=\"radio\" name=\"schedule_list\" id=\"72774599\" class=\"gabtn\"\n                        value=\"2020-01-21 16:35:00\"  data-movie=\"fceff273cf574dd9bfbed73d06d49d7a\"\n                        data-cinema=\"5f60dacd-45b3-102d-8d74-e400529c\" data-session=\"e54d32b1be4247ac951b75810f72fbae\"\n                        data-date=\"1579536000\" data-time=\"1579595700\"\n                        data-movie_type=\"數位\"\n                        data-movie_title=\"巧虎電影：英雄遊樂園\"\n                        data-movie_date=\"01.21\"\n                        data-movie_time=\"16:35\"\n                        data-ga=\"['電影頁_時刻表', '電影頁_時刻表_場次', '巧虎電影：英雄遊樂園']\" data-ezding=\"ezding\"\n                        />\n                    <label for=\"72774599\" class=\"select\">16:35</label>\n                                                                                    <input type=\"radio\" name=\"schedule_list\" id=\"72774600\" class=\"gabtn\"\n                        value=\"2020-01-21 18:35:00\"  data-movie=\"fceff273cf574dd9bfbed73d06d49d7a\"\n                        data-cinema=\"5f60dacd-45b3-102d-8d74-e400529c\" data-session=\"72895a09024942ca8a94c68cd17162c8\"\n                        data-date=\"1579536000\" data-time=\"1579602900\"\n                        data-movie_type=\"數位\"\n                        data-movie_title=\"巧虎電影：英雄遊樂園\"\n                        data-movie_date=\"01.21\"\n                        data-movie_time=\"18:35\"\n                        data-ga=\"['電影頁_時刻表', '電影頁_時刻表_場次', '巧虎電影：英雄遊樂園']\" data-ezding=\"ezding\"\n                        />\n                    <label for=\"72774600\" class=\"select\">18:35</label>\n                                               </div>\n           </li>\n          </ul>\n      <ul id=\"theater_id_254\" class=\"area_time _c jq_area_time\" data-theater_name=\"MUVIE CINEMAS台北松仁威秀\" data-theater_url=\"https://www.vscinemas.com.tw/vsweb/theater/detail2.aspx?id=23\" data-theater_schedules=\"https://movies.yahoo.com.tw/theater_result.html/id=254\" >\n       <li class=\"adds\">\n           <a href=\"https://movies.yahoo.com.tw/theater_result.html/id=254\">MUVIE CINEMAS台北松仁威秀</a>\n           <span>(02)8780-0800</span>\n       </li>\n                         <li class=\"taps\">\n                <span class=\"tapR\">數位</span>                           </li>\n           <li class=\"time _c\">\n               <div class=\"input_picker jq_input_picker\">\n                                                                   <input type=\"radio\" name=\"schedule_list\" id=\"72774842\" class=\"gabtn\"\n                        value=\"2020-01-21 09:55:00\"  data-movie=\"426b606674c047e39557ac4b93995954\"\n                        data-cinema=\"470e99e70b5611eaa91e06ba2bcebcfa\" data-session=\"c423e4cb64024e3f9e33133ab5477b1c\"\n                        data-date=\"1579536000\" data-time=\"1579571700\"\n                        data-movie_type=\"數位\"\n                        data-movie_title=\"巧虎電影：英雄遊樂園\"\n                        data-movie_date=\"01.21\"\n                        data-movie_time=\"09:55\"\n                        data-ga=\"['電影頁_時刻表', '電影頁_時刻表_場次', '巧虎電影：英雄遊樂園']\" data-ezding=\"ezding\"\n                        />\n                    <label for=\"72774842\" class=\"select\">09:55</label>\n                                                                                    <input type=\"radio\" name=\"schedule_list\" id=\"72774843\" class=\"gabtn\"\n                        value=\"2020-01-21 12:40:00\"  data-movie=\"426b606674c047e39557ac4b93995954\"\n                        data-cinema=\"470e99e70b5611eaa91e06ba2bcebcfa\" data-session=\"69423bf59bb646d4a609010ca6b323f0\"\n                        data-date=\"1579536000\" data-time=\"1579581600\"\n                        data-movie_type=\"數位\"\n                        data-movie_title=\"巧虎電影：英雄遊樂園\"\n                        data-movie_date=\"01.21\"\n                        data-movie_time=\"12:40\"\n                        data-ga=\"['電影頁_時刻表', '電影頁_時刻表_場次', '巧虎電影：英雄遊樂園']\" data-ezding=\"ezding\"\n                        />\n                    <label for=\"72774843\" class=\"select\">12:40</label>\n                                                                                    <input type=\"radio\" name=\"schedule_list\" id=\"72774844\" class=\"gabtn\"\n                        value=\"2020-01-21 14:35:00\"  data-movie=\"426b606674c047e39557ac4b93995954\"\n                        data-cinema=\"470e99e70b5611eaa91e06ba2bcebcfa\" data-session=\"df605100a4684e7186f21c247dad093c\"\n                        data-date=\"1579536000\" data-time=\"1579588500\"\n                        data-movie_type=\"數位\"\n                        data-movie_title=\"巧虎電影：英雄遊樂園\"\n                        data-movie_date=\"01.21\"\n                        data-movie_time=\"14:35\"\n                        data-ga=\"['電影頁_時刻表', '電影頁_時刻表_場次', '巧虎電影：英雄遊樂園']\" data-ezding=\"ezding\"\n                        />\n                    <label for=\"72774844\" class=\"select\">14:35</label>\n                                                                                    <input type=\"radio\" name=\"schedule_list\" id=\"72774845\" class=\"gabtn\"\n                        value=\"2020-01-21 18:05:00\"  data-movie=\"426b606674c047e39557ac4b93995954\"\n                        data-cinema=\"470e99e70b5611eaa91e06ba2bcebcfa\" data-session=\"af8a3ca3a5dd425ab1c925baf67b7cb7\"\n                        data-date=\"1579536000\" data-time=\"1579601100\"\n                        data-movie_type=\"數位\"\n                        data-movie_title=\"巧虎電影：英雄遊樂園\"\n                        data-movie_date=\"01.21\"\n                        data-movie_time=\"18:05\"\n                        data-ga=\"['電影頁_時刻表', '電影頁_時刻表_場次', '巧虎電影：英雄遊樂園']\" data-ezding=\"ezding\"\n                        />\n                    <label for=\"72774845\" class=\"select\">18:05</label>\n                                               </div>\n           </li>\n          </ul>\n   </div>\n\n    <div class=\"booking_modal jq_booking_modal\">\n    <div class=\"booking_modal_backdrop\"></div>\n    <!-- 時報訂票 ＆ 有官網訂票 新增 class => no_seats -->\n    <div class=\"booking_modal_content jq_booking_modal_content\">\n        <form method=\"get\" action=\"https://movies.yahoo.com.tw/ticket/ezding_ticket\" target=\"_blank\" id=\"form_schedule\">\n                <div class=\"ezding_ticket_value\">\n            <input type=\"hidden\" name=\"movie_id\" value=\"\">\n            <input type=\"hidden\" name=\"cinema_id\" value=\"\">\n            <input type=\"hidden\" name=\"session_id\" value=\"\">\n            <input type=\"hidden\" name=\"date\" value=\"\">\n            <input type=\"hidden\" name=\"time\" value=\"\">\n            <input type=\"hidden\" name=\"campaign_code\" value=\"yahoopc\">\n        </div>\n        <ul class=\"top_infos\">\n            <li>\n                <p>片名</p>\n                <h3 id=\"top_infos_movie\"></h3>\n            </li>\n            <li>\n                <p>影城</p>\n                <h3 id=\"top_infos_theater\"></h3>\n            </li>\n            <li>\n                <p>日期</p>\n                <h3 id=\"top_infos_date\"></h3>\n            </li>\n            <li>\n                <p>版本</p>\n                <h3 id=\"top_infos_movie_type\"></h3>\n            </li>\n            <li>\n                <p>時間</p>\n                <h3 id=\"top_infos_time\"></h3>\n            </li>\n        </ul>\n        \n        <div class=\"booking_seats\">\n            <a href=\"#\" class=\"theater_schedules gabtn\" data-ga=\"['電影頁_時刻表', '電影頁_時刻表_一般戲院_全部電影場次', '']\">全部電影場次</a>\n            <a href=\"#\" class=\"theater_url gabtn\" data-ga=\"['電影頁_時刻表', '電影頁_時刻表_一般戲院_官網訂票', '']\" target=\"_blank\">官網訂票</a>\n            <p id=\"no_theater_url\" class=\"no_theater_url\">無提供官網訂票</p>\n\n            <p id=\"booking_number\" class=\"booking_number\">人數</p>\n            <div class=\"booking_seat_group jq_booking_seat_group\">\n                                    <input type=\"radio\" name=\"tickets\" id=\"seat_1\" value=\"1\" />\n                    <label for=\"seat_1\">1</label>\n                                    <input type=\"radio\" name=\"tickets\" id=\"seat_2\" value=\"2\"  checked />\n                    <label for=\"seat_2\">2</label>\n                                    <input type=\"radio\" name=\"tickets\" id=\"seat_3\" value=\"3\" />\n                    <label for=\"seat_3\">3</label>\n                                    <input type=\"radio\" name=\"tickets\" id=\"seat_4\" value=\"4\" />\n                    <label for=\"seat_4\">4</label>\n                                    <input type=\"radio\" name=\"tickets\" id=\"seat_5\" value=\"5\" />\n                    <label for=\"seat_5\">5</label>\n                                    <input type=\"radio\" name=\"tickets\" id=\"seat_6\" value=\"6\" />\n                    <label for=\"seat_6\">6</label>\n                            </div>\n            <button type=\"submit\" class=\"action_btn action_booking_btn jq_booking_btn gabtn\" data-ga=\"['電影頁_時刻表', '電影頁_時刻表_一般戲院_選位', '']\">選位</button>\n            <a href=\"#\" class=\"action_btn action_link jq_booking_link gabtn\" data-ga=\"['電影頁_時刻表', '電影頁_時刻表_時報戲院_官網選位', '']\" target=\"_blank\">官網訂票</a>\n            <button type=\"button\" class=\"action_btn close jq_close_booking_btn\">關閉</button>\n        </div>\n        </form>\n\n        <!-- 無官網訂票區塊 -->\n        <div class=\"no_theater_section\">\n            <p>無提供官網訂票</p>\n            <button type=\"button\" class=\"action_btn close jq_close_booking_btn\">關閉</button>\n        </div>\n    </div>\n</div></div>\n"
    }
   ],
   "source": [
    "# 向網站發送請求，獲取上映的電影院及時間資訊\n",
    "url = \"https://movies.yahoo.com.tw/ajax/pc/get_schedule_by_movie\"\n",
    "payload = {'movie_id':str(movie_id),\n",
    "           'date':date,\n",
    "           'area_id':str(area_id),'theater_id':'','datetime':'','movie_type_id':''}\n",
    "\n",
    "resp = requests.get(url, params=payload)\n",
    "print(resp.json()['view'])  # 若有需要，列印出json原始碼\n",
    "\n",
    "soup = BeautifulSoup(resp.json()['view'], 'lxml')\n",
    "html = soup.find_all(\"ul\", attrs={'data-theater_name':re.compile(\".*\")})#與之前不同，一個標籤下有很多attrs\n"
   ]
  },
  {
   "cell_type": "code",
   "execution_count": 114,
   "metadata": {},
   "outputs": [
    {
     "name": "stdout",
     "output_type": "stream",
     "text": "電影院: 台北日新威秀影城\n數位 09:45\n數位 11:30\n數位 14:05\n數位 16:50\n電影院: 台北信義威秀影城\n數位 09:10\n數位 11:45\n數位 13:35\n數位 14:45\n數位 16:05\n數位 18:05\n數位 19:25\n電影院: 京站威秀影城\n數位 10:05\n數位 11:25\n數位 14:00\n數位 15:15\n數位 16:35\n數位 18:35\n電影院: MUVIE CINEMAS台北松仁威秀\n數位 09:55\n數位 12:40\n數位 14:35\n數位 18:05\n"
    }
   ],
   "source": [
    "#html = soup.find_all(\"ul\")#這樣不行，因為還有其他地方也有用到ul的標籤，但裡面不見得都有\"data-theater_name\"這個attrs所以要照上面那樣寫，只找有'data-theater_name'的ul，print(d[\"data-theater_name\"])時才不會出錯\n",
    "#html = soup.find_all(\"ul\", attrs={'data-theater_url':re.compile(\".*\")}) #這樣也可以，因為有'data-theater_url'的ul都是我們要找的\n",
    "for d in html:\n",
    "  print(\"電影院:\",d[\"data-theater_name\"])\n",
    "  for k in d.find_all(\"input\"):\n",
    "    print(k[\"data-movie_type\"],k[\"data-movie_time\"])"
   ]
  },
  {
   "cell_type": "code",
   "execution_count": null,
   "metadata": {},
   "outputs": [],
   "source": []
  }
 ],
 "metadata": {
  "kernelspec": {
   "display_name": "Python 3.7.4 64-bit",
   "language": "python",
   "name": "python37464bita9990edcc1d34e4b85b4a57067bf3139"
  },
  "language_info": {
   "codemirror_mode": {
    "name": "ipython",
    "version": 3
   },
   "file_extension": ".py",
   "mimetype": "text/x-python",
   "name": "python",
   "nbconvert_exporter": "python",
   "pygments_lexer": "ipython3",
   "version": "3.7.4-final"
  }
 },
 "nbformat": 4,
 "nbformat_minor": 2
}
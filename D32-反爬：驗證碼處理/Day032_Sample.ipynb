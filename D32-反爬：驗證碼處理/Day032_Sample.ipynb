{
 "cells": [
  {
   "cell_type": "markdown",
   "metadata": {},
   "source": [
    "# 反爬：驗證碼處理\n",
    "\n",
    "* 了解「驗證碼機制」的反爬蟲機制\n",
    "* 「驗證碼機制」反爬蟲的因應策略\n"
   ]
  },
  {
   "cell_type": "markdown",
   "metadata": {},
   "source": [
    "## 存取一張圖片，解析成文字"
   ]
  },
  {
   "cell_type": "code",
   "execution_count": 1,
   "metadata": {},
   "outputs": [],
   "source": [
    "import requests\n",
    "import pytesseract\n",
    "from PIL import Image\n",
    "from io import BytesIO\n",
    "import pytesseract"
   ]
  },
  {
   "cell_type": "code",
   "execution_count": 2,
   "metadata": {},
   "outputs": [
    {
     "name": "stdout",
     "output_type": "stream",
     "text": "�PNG\n\u001a\n\u0000\u001b�\u0004\u001b�\u0004\u0001\t\u0000\u001c�\u0004\u001b�\u0004\u001b�\u0004\na\u0002\tD\u0001\u0018�\u0003\u0002\u0014\u0000\u0016�\u0003\u0014�\u0003\ng\u0002\u0014�\u0003\u0002\u000f\u0000\u00062\u0001\u0017�\u0003\u000bR\u0001\u0012�\u0002\n_\u0002\nK\u0001\u000eh\u0002PT�\u0000\u0000\u000b�IDATx���g_�J\u001f�a��$�\u001a\u0005\u0004)�ʂ��e�\n�\u0015c\u000fh\u001f9�*BN�d!�g\u001b�O\u0006�^�����!!\"�y�\u0007\u0002h���gW�\u0002(��.�J�^RN*r���\u0003�)���w�D�d��\u0017(�w\u0012@[|&\"�\u0007.\u000b�nV`\u0017\u0003��7[M���\f�4yu\"���>�����Ĥ�s\u0001��P}b}�^�G.�\u001b<\u001b�w\u001e@mF�3��\u0016��J���ӛzɭ���\\gܭ\u0000��z��\u0013'7W��إ��\u001e� ���3�\u0017:�j\u0015�e_�\u0000v5�I9dn\n�\"�5~�L~���iׂ����H^�-�\n\u001b\u0002h���|Y�\u0004-��q��V� ���������n�/|\u000f\t\u0002��\u0000�C>G�\"'�\u0001�ܪ����R��b̛��d\u0000\u001f�����8L\no�zc��\u00040�2�Gۊ�0�T%������1�!%��/���3�;6�w�\f�sbл��x&O?l'B\u0004��=`\"b`�\u0001-E�\u0013yh���\u0011G����\u0000Z�\"\u000ey�\u00119i�\\\f~2�Ç&�~s���O�i{�Y\u0000\u0007\u000f\u0007���p\u0017wc������±�z�>�6{_\u0006���BBt\u0012@�ŏ����Q��\u0000\u001eإGV�c��t\u0000=r�Ycm�!>\u001f�>�k<��j[\u0000����\u0013�\f�߭�t\u0014@�qr�,�j6�\u0007К�(�K�y;\t��i\u0018KӚa\u001aF\u000b�7vv��0\u0015��4��/\t��\u0003N\u000f5���\u0016@�7�\u0010l����'�R�=`3���\u0017\u0013����M*��)\u0016X����kK�\u0002(��\u0010q�\u0005\u0001l�8s��\u0000:r\u0015cr^���)����\u0018L��~��/�\u0007|�NH=�J���'|����\u0013��W��Y\u0000WT�H\n���)�\u001a��\"-�ڭ8m���Vۧa�_�\u00036�\u0002I/�����/].�˕e\f��\u0000�\u000e�\u0006'��}�� �qx�j�� u���s�?�\u000b�\u001d=MD\u000fM��\"W�ND���\u0004�u)\u0007���}�D�O���5&�Wj�0ND�6���G\u0019k�%�&�]K���gZ��\u0017\u0013�Ra��=�^�\u001eq\u0015��\u0000�3�d��~��T�b7���Ş�I�\u0007�ho�7\u0015fL��Gz��+��\"pw�֫M\u0016s�d��ɭ�~=V�`%e�E~\u0014��>����\\�V����S/�\u0013ߏ�ٻ�\u000e\u0003h��l�\u001e0m{Z��4�;�n�i��Z����k��,���|������\f����*���j��������_���\t�;vU|�\u0018;\u0011۰�T]\u0017\"�:W�o\u0018���b�'\u0002g�z���\u0016�jG���&\"vS�n\u0002�d�6���*��F��>�V�������3�b��~�1��7\u0003�,\u001f�_�-����\\of�5���Li�\u0011r�ځ���X��M�>\u0017l����'�'��z���.�G�5��\u0014\tL\u0019F{�����f����<���Y!̏��\u0018\u001d/u4�r��%��d֖r�\u001f��R#e�NoMn쥶\u001c+w�\u001aѽ\u001b@�y�$��M5wo��ӣ�r,�0��\u0012�.�����z���\u0011�f��[�.�ݟR���`R[�\u000eڃ�&�G�\u001c\u0014�Ik2�2qgjz��h��o�q&��z9X���+�ܔ:;�ICw�^�äDT٧\\�m�R�·۪0�wP�?\u0017\f�\u000e�ǒ���7���<\u000e�I\u0011�O�\u001fߍq���|�k�Kj�Z�R]'q\u0006{�a۫�7��K�L�}+����R]��\u001a�\u0014\"3�\u001e�zt3�xj���\u001a�3놦��gW\"��^*\u0010�i�vg��:\u001dCi\u001e#2\u0018����}�X,�46b葤t�4�j\u001b���?΍7{�\u0007}����\u000e}�:6�th�D`�٥�e�~[�6�\u001e�/�Φ�\u0011��Nf\u0016ʆ��Ni!\u001e6���e4:�w�l\u0018\u0003��\u000b��h���\u0018�]�k6�\u001eTڮsw*�����\u0014���\u0016,i[�ע�Ƕ�Il#k{��Ǘ�M�Y����7�����ơE�+��\u0007\u0003��^�6?�=�tPv\u0012�.���*��b���]{~����#������^S��J&�GW3Y�a�^�)56'����ޡ\u001bvSzc7%��\u0000\u0001\u0000\u0000\u0000\u0000\u0000\u0000\u0000\u0000\u0000\u0000\u0000\u0000\u0000\u0000\u0000\u0000\u0000\u0000\u0000\u0000\u0000\u0000\u0000\u0000\u0000\u0000\u0000\u0000\u0000\u0000\u0000\u0000\u0000\u0000\u0000\u0000\u0000\u0000\u0000\u0000\u0000\u0000\u0000\u0000\u0000\u0000\u0000\u0000\u0000\u0000\u0000\u0000\u0000\u0000\u0000\u0000\u0000\u0000\u0000\u0000\u0000\u0000\u0000\u0000\u0000\u0000\u0000\u0000\u0000\u0000\u0000\u0000\u0000\u0000\u0000\u0000\u0000\u0000\u0000\u0000\u0000\u0000\u0000\u0000\u0000\u0000\u0000\u0000\u0000\u0000\u0000\u0000\u0000\u0000\u0000\u0000\u0000\u0000\u0000\u0000\u0000\u0000\u0000\u0000\u0000\u0000\u0000\u0000\u0000\u0000\u0000\u0000\u0000\u0000\u0000\u0000\u0000\u0000\u0000\u0000\u0000\u0000\u0000\u0000\u0000\u0000\u0000\u0000\u0000\u0000\u0000\u0000\u0000\u0000\u0000\u0000\u0000\u0000\u0000\u0000\u0000\u0000\u0000\u0000\u0000\u0000\u0000\u0000\u0000\u0000\u0000\u0000\u0000\u0000\u0000��\u0001)��5˞9�\u0000\u0000\u0000\u0000IEND�B`�\nb'\\x89PNG\\r\\n\\x1a\\n\\x00\\x00\\x00\\rIHDR\\x00\\x00\\x02\\x80\\x00\\x00\\x01y\\x08\\x03\\x00\\x00\\x008fk]\\x00\\x00\\x00\\x04gAMA\\x00\\x00\\xb1\\x8f\\x0b\\xfca\\x05\\x00\\x00\\x00\\x01sRGB\\x00\\xae\\xce\\x1c\\xe9\\x00\\x00\\x00\\tpHYs\\x00\\x00\\x0e\\xc3\\x00\\x00\\x0e\\xc3\\x01\\xc7o\\xa8d\\x00\\x00\\x01,PLTE\\x00\\x00\\x00\\x1b\\xcf\\x04\\x1a\\xc5\\x04\\x01\\x05\\x00\\x1b\\xc8\\x04\\x00\\x02\\x00\\x01\\x07\\x00\\x00\\x03\\x00\\x1c\\xd0\\x04\\x00\\x01\\x00\\x1a\\xc2\\x04\\x02\\r\\x00\\x1b\\xca\\x04\\x1b\\xce\\x04\\x01\\t\\x00\\x1c\\xd1\\x04\\x1b\\xcd\\x04\\x1b\\xcc\\x04\\nI\\x01\\x19\\xb9\\x03\\x0cZ\\x01\\x15\\x9f\\x03\\x17\\xad\\x03\\x01\\x0b\\x00\\x1a\\xc4\\x04\\x078\\x01\\x03\\x17\\x00\\x19\\xbd\\x04\\x0bV\\x01\\x0bW\\x01\\x19\\xbf\\x04\\x08@\\x01\\x1a\\xc1\\x04\\x19\\xc0\\x04\\x03\\x19\\x00\\x05\\'\\x00\\x04$\\x00\\x19\\xbb\\x03\\x10w\\x02\\x12\\x8a\\x03\\x0ei\\x02\\x03\\x1c\\x00\\x10y\\x02\\x12\\x8b\\x02\\x13\\x92\\x03\\x1a\\xc6\\x04\\x05)\\x00\\x12\\x86\\x03\\x02\\x12\\x00\\x18\\xb5\\x03\\ra\\x02\\tD\\x01\\x18\\xb3\\x03\\x02\\x14\\x00\\x16\\xa2\\x03\\x14\\x99\\x03\\nP\\x02\\x0el\\x02\\x18\\xb7\\x04\\x04!\\x00\\x0fq\\x02\\x08=\\x01\\x04\\x1f\\x00\\tG\\x01\\x0fr\\x02\\x08B\\x01\\x16\\xaa\\x03\\x05+\\x01\\rd\\x02\\x0c\\\\\\x02\\x075\\x01\\rg\\x02\\x14\\x97\\x03\\x02\\x0f\\x00\\x062\\x01\\x17\\xb1\\x03\\x0bR\\x01\\x12\\x8e\\x02\\nN\\x01\\x15\\x9e\\x03\\x05%\\x00\\x1c\\xd4\\x04\\x17\\xb0\\x03\\x0ft\\x02\\x10}\\x02\\x06-\\x00\\x07:\\x01\\x18\\xb6\\x03\\x16\\xa8\\x03\\rb\\x02\\x0fo\\x02\\x16\\xa5\\x03\\x15\\x9b\\x03\\x11\\x81\\x02\\x0bU\\x01\\x0em\\x02\\x13\\x94\\x02\\r_\\x02\\nK\\x01\\x0eh\\x02PT\\x7f\\xd9\\x00\\x00\\x0b\\xdcIDATx\\xda\\xed\\xdcg_\\xe2J\\x1f\\xc7a\\x81\\xa1$\\x84\\x1a\\x05\\x04)\\xf6\\xca\\x82\\x82\\xace\\xc1\\n*\\xf6\\x82\\x05,\\xab\\xfb\\xfe\\xdf\\xc3\\x9d\\xa0@\\xc4\\xb2\\xb8\\xca}\\xf6|\\xce\\xf7\\xda\\x07.\\x8e\\xfe\\x93\\xc8\\xcf\\xc9d2\\xb1\\xa7\\x07\\x00\\x00\\x00\\x00\\x00\\x00\\x00\\x00\\x00\\x00\\x00\\x00\\x00\\x00\\x00\\x00\\x00\\x00\\x00\\x00\\x00\\x00\\x00\\x00\\x00\\x00\\x00\\x00\\x00\\x00\\x00\\x00\\x00\\x00\\x00\\x00\\x00\\x00\\x00\\x00\\x00\\x00\\x00\\x00\\x00\\x00\\x00\\x00\\x00\\x00\\x00\\x00\\x00\\x00\\x00\\x00\\x00\\x00\\x00\\x00\\x00\\x00\\x00\\x00\\x00\\x00\\x00\\x00\\x00\\x00\\x00\\x00\\x00\\x00\\x00\\x00\\x00\\x00\\x00\\x00\\x00\\x00\\x00\\x00\\x00\\x00\\x00\\x00\\x00\\x00\\x00\\x00\\x00\\x00\\x00\\x00\\x00\\x00\\x00\\x00\\x00\\x00\\x00\\x00\\x00\\x00\\x00\\x00\\x00\\x00\\x00\\x00\\x00\\x00\\x00\\x00\\x00\\x00\\x00\\x00\\x00\\x00\\x00\\x00\\x00\\x00\\x00\\x00\\x00\\x00\\x00\\x00\\x00\\x00\\x00\\x00\\x00\\x00\\x00\\x00\\x00\\x00\\x00\\x00\\x00\\x00\\x00\\x00\\x00\\x00\\x00\\x00\\x00\\x00\\x00\\x00\\x00\\x00\\x00\\x00\\x00\\x00\\x00\\xf0\\x9f`w\\x07-R\\xeb\\xa5\\xd5\\x16\\xb4\\xd9\\xff\\xba\\x9d\\x94,A\\xb7\\xdd\\xf8\\xd2\\xed6\\xee4\\xfe\\xc5\\xf9;\\x8an\\xc6wZ\\xaf\\xd3\\x99\\xcd\\xbd\\x82\\xb5\\xb3TX\\xed:\\xab\\xf4\\xa1\\xa6?\\x92^\\xdb\\xbc\\x1di%\\xd0R)\\xce\\xf5\\xbb\\xbf \\xd7O\\xbb\\xf9\\xfb\\xaf#\\xed\\xdd\\xe2\\xee\\xcd\\x86\\xa6\\x87\\x9b?_\\xa9\\xbcm\\x0e\\x1cX:\\xf9N\\xcbr\\xde\\xbf\\xb2\\xb2\\xe2\\xef\\x1fz\\xd1cZ\\x8e\\xe2\\x8fM\\xe1/\\xeaL+3\\xe6\\x93\\xdbV\\xe2\\xd2\\x8b\\xea\\xe0\\xd9\\xe4\\xa7\\xab:+\\x19m7\\xfd+\\x95\\x1d\\xe97_\\x97?\\xb2\\x11\\x95\\xeep\\x8e)\\xc7\\x81\\xfeV\\x003K\\xc7\\xe2W\\'\\x9d\\x8b\\xb5P]W/f/\\xd4\\xbeh\\xba\\xbdW]>\\rhMK\\xea\\xf5\\xde\\xce\\xd7\\xece<{,\\xaa\\xce\\xe6\\xcb\\xa1q\\x87\\xe7p\\xf8\\xb3E-\\xa5\\xf1\\xac:;\\xab^L\\xe7\\xdf\\xfd\\x8d\\xb3\\x97S\\x97\\xa7\\xcbD\\xa5;v\\xa6|\\x9e\\x93\\xf3f\\x00\\xad+\\xaaG,v\\x12@[\\xbe\\xcfs\\xecqx]b\\xba\\xfd\\xcdq\\xaf\\xd5<\\x1e\\xbd)\\x99\\x9a\\xfc\\xa2\\x00\\xcez\\x94UC\\x00\\xf7\\x1d\\x9e\\xdc\\xb7O\\x9f\\xd7\\x8b\\xea\\xb1\\xc7c\\xf2\\xba\"\\xbf\\x82\\xef\\x1e\\xe9\\x80jZ\\xcfs\\x12\\xeeZ\\x0f\\xe81\\xf4\\x80\\xd6\\xcc\\x92CLt\\x12@\\xfbF*\\xa1\\x08\\x11\\x92\\xbd}\\xedQ\\xb0\\x94\\xf7\\xe5\\xc7\\xa6\\xef#_\\xd5\\x03:\\xc4\\x0fC\\x00\\xa7]\\x8e\\xbeO\\xf7\\x80\\xc1\\x95\\x9cPDRN\\x8a)\\xe7\\xbb\\x01\\xdc4{T\\xbf\\x95\\xact)\\x80\\xc2\\xf1G\\x01\\xec\\t\\xe6\\xb7NW\\xcf\\xd6\\x85\\xebE\\x00{\\x9c\\xf1_ZS@\\xb8\\xfe\\xea\\x00J\\xe1\\x83\\xea\\xe9\\xea\\xb8\\xaa(\\xef\\x07\\xd0\\xbd\\x95t\\x10\\xc0\\xbf/\\x80\\xda\\\\\\x883X\\x98v\\x99^\\x06\\xb0\\xde42c2\\xfd\\xd5\\x01\\xec\\x91lA\\xa73\\x1fp\\xfc\\xbe\\x07$\\x80\\x7fa\\x00\\xeb\\xe6S\\xaf\\x05\\xf01%\\x7f}\\x00\\xeb\\xca\\x01\\xcfo\\x02\\xe8&\\x80\\xffh\\x00\\xed\\x96G\\xaf\\xce\\xa8\\x84\\xc7\\xdf\\x0c\\xe0\\xe4\\x9b\\x01\\xb4\\xbeW\\xf1\\xcf\\x02(=\\x95l\\x9f\\x9e\\xd66e5\\x1c\\xc4+W\\x12\\xfdo\\x05\\xb0QR\\xa2\\x07\\xfc\\'\\x03(\\xa5\\xfbo\\x8b\\xba\\xbdRZ\\xfa\\x92\\x00Z\\xd3\\xe5\\x83\\xdez\\xc5\\xce\\xa7\\t\\x1b\\x01\\x94\\xdci\\xdbk\\x01t\\x1fe\\xa2z\\xc9hf\\xe4\\xd9\\x84\\x9d\\xa5\\xe0_\\xd8\\xb0i\\x07q>\\xa0\\xb5\\xf6f^NY\\xbe\\x19@\\xcbd<Z\\xafXp\\xcf\\x11\\xc0\\x7f,\\x80\\xf6\\xe5\\x81\\x19U\\x96\\x13r\";3P\\xb0\\x7fA\\x00\\xb5\\x8a\\xe3\\'\\x83z\\xc5\\xd9\\x9fs\\x15\\xdb\\x87\\x02(\\xcdg\\x8a\\xfd\\xce\\x17\\x01\\x94\\xd2kc\\xb5\\x88\\xac\\x89\\xe4N\\xf3\\xc6YI\\xe7\\xc0\\xe5l5\\xdc34\\xb0=\\x1a\\x92C\\x89\\xdc\\xd67K\\x87\\x01\\xb4T\\x16\\xfb\\xf4\\x92\\x91\\xda\\xd6\\xf0\\xaf\\x10\\x01\\xecf\\x00=\\x81\\x92\\xe1\\xad\\xbe0\\x06\\xd0>\\xbc\\x1a\\x90\\xbd\\x0e\\x9dO\\xbe\\xac\\xbe|\\xfb>\\x1c@Keu=\\xa1\\x98\\xea\\x15C\\'7\\xfd\\xc1\\x8f\\x04\\xd0\\xb2\\xf6=;]\\x96\\xda\\x02h\\x1d\\x8a^\\xab\\xc2\\xa5\\x97t\\tu{/\\xdc\\xea\\xa9\\xe7\\xa7\\x84k\\xfb[\\xf8\\xea2\\xa4\\x1f\\x84\\xcb<;5b\\xef(\\x80\\xee\\xd2M6\\xa9\\x97t)\\xeb\\xd5\\x94\\xec\"\\x80\\xdd\\xed\\x01m\\r\\xee\\x15c\\x0fh\\x1f9\\xcd*BN\\xe8d!\\xb2g\\x1b\\xf6O\\x06\\xd0^\\xb9\\xb9\\xd0g\\x08\\xf5\\x8a!!\"\\xfby\\xdb\\x07\\x02h\\xbb\\x97\\x8fgW\\xda\\x02(\\x85\\xe7.\\xcdJ\\xb2^RN*r\\xad\\xd8\\xea\\x03\\xc3)\\xaf\\xf7\\xb2w\\xe2D\\xdbd\\xbd\\xd5\\x17(\\xcew\\x12@[|&\"\\xea\\x07.\\x0b\\xf3nVV\\x08`\\x17\\x03\\xa8\\xa87[M\\xa9\\x88\\xd2\\x0c\\xa04yu\"\\xe4\\xdc\\xe9\\xbd>\\xbc\\xaa\\xe6\\x92\\xca\\xc5\\xc4\\xa4\\xf5s\\x01\\x9c\\x9cP}b}\\xaa^\\xf1G.\\xe4\\x1b<\\x1b\\xb6w\\x1e@mF\\xce3\\xfa\\xd0\\x16\\xc0\\xe0J\\x9f\\xa2\\xa8\\xd3\\x9bz\\xc9\\xad\\xfd\\x88\\xa2\\\\g\\xdc\\xad\\x00\\xfa\\x84z\\xb8\\xeb\\x13\\'7W\\xc5\\xe2\\xd8\\xa5\\x92\\x98\\x1e\\xee \\x80\\xf6\\xa33\\xd9\\x17:\\xacj\\x15\\xef\\xaee_\\x92\\x00v5\\x80I9dn\\n\\xc9\"\\xd9\\x08\\xa05~\\x9dL~\\xbf\\x9d\\xb4i\\xd7\\x82\\xb6\\xf0\\xed\\xa1H^\\xc7-\\x9f\\n\\xa0t~m\\x16\\x81\\x89\\xe5z\\xc5\\xa1\\xde\\x9cY\\\\.\\xd8>\\x10\\xc0\\xfa\\xf5h[\\x00\\'\\xcf\"\\x8a\\x9a\\xeaw\\xeaW\\xac\\xce\\xfcxD\\x19=\\r\\x1b\\x02h\\x96\\xcd\\xc2|Y\\xad\\x04-\\xb6\\x91q\\x9f\\xafV\\xee \\x80\\xb6\\x85\\x9a\\x90\\xaf\\xf7\\xc2\\xdan\\xce/|\\x0f\\t\\x02\\xd8\\xd5\\x00\\x9aC>G\\x93\"\\'\\x9b\\x01\\xb4\\xdc\\xaa\\xae\\xc1\\xfb\\xc6R\\x91\\x9db\\xcc\\x9b\\xdd\\xfbd\\x00\\x1f\\xb2\\xde\\xd0\\xd9\\xd38L\\no\\x8dzc\\x9b\\xee\\x8f\\x040\\xf42\\x80G\\xdb\\x8a\\xef0\\xfeT%\\x98\\xc9\\xf9\\x94\\xfd\\x821\\x80!%\\x94\\xbb/\\xe8\\xfb\\xbd3\\xe6;6\\x8ew\\xdf\\x0c\\xa0sb\\xd0\\xbb\\xd4\\xfbx&O?l\\'B\\x04\\xb0\\xab=`\"b`\\xe8\\x01-E\\xd9\\x13yh\\xfe\\xe4\\xfd\\x11G\\xe2\\xde\\xf6\\xa9\\x00Z\\xf7\"\\x0ey\\xae\\x119i\\xe5\\xc2\\x91\\\\\\x0c~2\\x80\\xc3\\x87&\\xd7~s\\xd1\\xc3\\xf2O\\x97i{\\xf9Y\\x00\\x07\\x0f\\x07\\xc2\\xf5\\x83p\\x17wc\\xfb\\x9d\\x9c\\x82\\x9d\\xab\\xc2\\xb1\\x9b\\x7fz\\x91>\\xb86{_\\x06\\xd0\\xda\\xc9BBt\\x12@\\xdf\\xc5\\x8f\\x85\\x86\\xbd\\xb1Q\\xdf\\xf3\\x00\\x1e\\xd8\\xa5GV\\x7f\\xc4c\\x9e\\xfbt\\x00=r\\xb1Ycm\\xd6!>\\x1f\\xc0>\\x93k<\\xdc\\xdaj[\\x00\\xc5\\xe8\\xbe\\x7f\\xfe\\xb1\\x13\\xb7\\x0c\\xdf\\xdf\\xad\\xedt\\x14@\\xc5qr\\xde,\\xb2j6\\xb5\\x07\\xd0\\x9a\\xde(\\x95K\\x95y;\\t\\xfa\\x92i\\x18K\\xd3\\x9aa\\x1aF\\x0b\\xa07vv\\xe0\\x7f\\xf40\\x15\\xf1\\x86\\xee\\xbf4\\x80\\x99/\\t\\xa0\\xd6\\x03N\\x0f5\\xbe\\xb2\\xd0\\x16@\\xaf7\\xf0\\x10l\\xcc\\xcb\\xd8\\xe7\\'\\xddR\\xa7=`3\\x80\\xb6\\xab\\x17\\x13\\xd1\\xd2\\xd0\\xc0M*\\x95\\xba)\\x16X\\xa5\\xf5\\xc5\\xf3\\x80kK\\xcf\\x02(\\xe4\\x88\\xda\\x10I\\x08q\\xf5\\x05\\x01l\\x858s\\xd1\\xfd\\x00:r\\x15cr^\\x94\\xfe\\xed)\\xf8\\xb5\\xc5\\x08\\xd6\\xf3\\x9c\\x9c\\x18L\\xc8\\xeb~\\xba\\xc0/\\x99\\x07|\\xfdNH=\\x80J\\xf3\\xfa\\xc4\\'|\\x86\\xde\\xeb\\xdf\\x13\\xc0\\xf7W\\xae\\xfeY\\x00WT\\x93H\\no\\xe2\\xd6B\\x84\\xba\\x1c@\\xb3hR\\xcc\\xdf\\xf3\\xf6/\\r\\xe0\\xec\\xff#\\x80\\x1b\\x7f\\x16\\xc0\\xf7N\\xc1Z\\x00\\x15\\xed>\\x9d\\x92\\x18 \\x80\\xdd\\r\\xa0op\\xffn\\xf1\\xc9]\\xf5\\xd7\\xda\\xbc\\xf4/\\xbb\\x08\\xf9\\xe3\\x006/B\\xa4\\xf0\\xe9\\x8b\\x8b\\x10\\xbb?\\xe2\\xd5\\x03(G\\t`W\\x03\\x18rDn\\x9d-\\xc1\\x17\\xeb\\x99>7\\r\\xe3\\xff\\xc8)\\xb8\\x1a\\xd4\\xfa\"-\\x80\\xda\\xad8m\\xab\\x8e\\xe6V\\xdb\\xa7a\\xbc_\\xd4\\x036\\x9e\\x02I/\\xbc\\x9c\\x86\\xb1\\xe6/].\\xaf\\xcb\\x95e\\x0c\\xd8\\xd5\\x00\\xf6\\x0e\\x9a\\x06\\'\\xc2\\xef}\\xbb\\xb6 \\xd5qx\\xf4j\\x93\\xbe u\\xbb\\xf0\\xfcs\\x92?\\xeb\\x0b\\x9d\\x1d=MD\\x0fM\\x8c\\xfa\"W\\x9dND\\x9f\\xee\\xf4\\x04\\xf5u)\\x07\\xf6\\x9e\\xc9}\\xe3D\\xf4O\\xa1\\xf4\\xad5&\\xa2Wj\\x8a0ND\\xff6\\x80\\xa5\\x80G\\x19k\\xfb%\\xd0&\\xa2]K\\xc5\\xc7\\xe5gZ\\xfe\\xe4\\x17\\x13\\xd1Ra\\xa2\\x96=\\xc9^\\xae\\x1eq\\x15\\xdc\\xc5\\x00\\xda3\\xb9d\\xf2\\xf2~\\xa8\\xb9T\\xc1b7\\xfe\\xbc\\xb5\\xc5\\x9e\\xb6I\\xbd\\x07\\xdcho\\xa97\\x15fL\\xae\\xefGz\\x93\\xe1\\x8d+\\xcd\\xc8\"pw\\xe4\\xd6\\xabM\\x16s\\xe6d\\xce\\xdf\\xc9\\xad\\xb8~=V\\xe5`%e\\xf6E~\\x14\\x9c\\x99>\\x9f\\xf8\\xd9\\xe8\\\\\\x87V\\x97\\x94\\xd1\\xf1\\xbcS/\\xb9\\x13\\xdf\\x8f\\x88\\xd9\\xbb\\xf9\\x0e\\x03h\\xb7\\xd8l\\xf5\\x1e0m{Z\\xb8\\xfa4\\xea;\\xd0n\\xc5i\\xd3\\xd7Z\\xc5\\xf0\\xde\\xf5k\\xb7\\xe2,\\x93\\xfd\\xf1|\\xbc\\xbf\\xc0\\xe3\\xc2\\xdd\\x0c\\xa0\\xb4\\xbc\\xaa*\\xe2\\xf2\\xf4j\\xae\\xee\\xea\\xfe\\xc1\\xf8\\x08\\xb7\\xe5\\xc8_\\x9c\\xbb\\xab\\t\\xb1;vU|\\xa8\\x18;\\x11\\xdb\\xb0\\xd6T]\\x17\"\\xb0:W\\xf4o\\x18\\xfa\\xb8\\xf9b\\xd6\\'\\x02g\\x9bz\\xb9\\xb1\\x9a\\x16\\xa7jG\\x7f\\x86\\xe1\\xe8&\"vS\\xbfn\\x02\\xa1d\\xa26\\xb6\\xb8\\xaf*\\xd9\\xc5F\\xcf\\xec>\\xdfV\\x94\\xc8\\xfe\\x84\\xbe\\x8b\\x8b3\\xdab\\x84\\x99~\\x9b1\\x80\\xb57\\x03\\xe8,\\x1f\\xdc_\\x9d-\\x89\\xe4\\xe1\\xc4\\\\of\\xb95\\x9c\\xb3\\x8eLi\\x8b\\x11r\\xab\\xda\\x81\\xaf\\xf6\\x85X\\x8c\\xd0M\\xef>\\x17l\\xeb\\xd7\\xee\\xed\\'\\xe5\\'\\xa1\\xd8z\\xaa\\xbf\\xf9.\\xd9G\\xaa5\\xb5\\xd1\\x14\\tL\\x19F{\\xf6\\xe1\\xd3\\xcb\\xd1f\\xd3\\xfa\\x98\\xe1<\\xac\\xbd\\xb5Y!\\xcc\\x8f\\xf5\\x84\\x18\\x1d/u4\\x88r\\xae\\xf4%\\xeb\\xdfd\\xd6\\x96r\\xe9\\x1f\\xe4\\xfdR#e\\xd2NoMn\\xec\\xa5\\xb6\\x1c+w\\xdb\\x1a\\xd1\\xbd\\x1b@\\xf7y\\xea$\\xd2\\xd8M5wo\\x18\\x08\\xda\\xf2\\xd3\\xa3\\xdar,\\x9d0\\x9f\\xec\\x12\\xc0.\\xf6\\x80\\xa7\\xca\\xf1z\\xa9\\xf5\\x97\\x11\\xd6f\\x8f\\x93[\\xcd.\\xcb\\xdd\\x9fR\\x85\\xc3\\xd3`R[\\xd3\\x0e\\xda\\x83\\xe9&\\x87G\\x9b\\x1c\\x14\\x8aIk2\\xae2qgjz\\x93\\xf6h\\xb0\\xa2\\x7fo\\x9fq&\\xd8\\xf2\\xadz9X\\xff\\xb4\\xc7+\\x9f\\xdc\\x94:;\\x87ICw\\xb3^\\x93\\xc3\\xa4DT\\xd9\\xa7\\x7f\\\\\\xefm\\xddR\\x93\\xc2\\xb7\\xdb\\xaa0\\xd5wP\\xa8?\\x17\\x0c\\x8f\\x0e\\xa4\\xc7\\x92\\xde\\xed\\xa37\\x8a\\xa6\\xef\\x97<\\x0e\\x8fI\\x11\\x8aO\\xdb\\x1f\\xdf\\x8dq\\xa5\\xa0\\xbb|\\xb3k\\xd6Kj\\x9bZ\\x9cR]\\'q\\x06{\\xdda\\xdb\\xab\\xa97\\xad\\xdeK\\xaaL\\xab}+\\xad\\x93\\x91\\xbbR]\\x8f\\xc5\\x1a\\xeb\\x14\"3\\xad\\x1e\\xd0zt3\\x9axj\\x89\\xc9\\xc6\\x1a\\xfa3\\xeb\\x86\\xa6\\x8b\\xa9gW\"\\xf6\\xc2^*\\x10\\x89i\\xffvg\\x8a\\xdf:\\x1dCi\\x7f\\x1e#2\\x18\\x8b\\xa9\\xfb\\xab}\\xb1X,\\xb146b\\xe8\\x91\\xa4t\\xfc4\\xa7j\\x1b\\x8c\\xa9\\x87?\\xce\\x8d7{\\xdd\\x07}\\x81\\xad\\xf9\\xb7\\x0e}\\xed:6\\xf8th\\xb1D`\\xee\\xd9\\xa5\\xb0e\\xe3~[\\xd56\\xa5\\x1e\\xde/\\xe7\\x7f\\xce\\xa6\\xbe\\x11\\x95\\xee\\xb0Nf\\x16\\xca\\x86\\xf1\\xdbNi!\\x1e6\\xbc\\xb9\\xd6e\\x7f4:\\xf0\\xa8w\\xafl\\x18\\x03\\xda\\xca\\x0b\\x8d\\x96h\\xf4\\xe0\\xd9\\x18\\xd0]\\xdek6\\xf5\\x1eT\\xda\\xaesw*\\xfe\\x81\\xa8\\xf6\\xef\\xa0\\x14\\xee\\xfc\\xbc\\x16,i[\\x89\\xee\\x95\\x96\\xd7\\xa2\\xfa\\xc7\\xb6\\x87Il#k{\\xf5\\xcf\\xc7\\x97\\x9fM\\xccY\\x87\\xe2\\xfe\\x917\\xa7\\xea\\xd2\\xf9\\xdb\\xc6\\xa1E\\xa3+\\xcb\\xcf\\x07\\x03\\xd6\\xf0\\xb9^\\xf26?\\xa4=\\xd2tPv\\x12\\x95.\\x91\\x9e\\xaf*\\xd2\\xffb\\x99\\xf4\\xbc]{~\\xf2\\x91\\xe5\\xf9\\xfa#\\xab\\xbd\\xd1\\xd0\\xde\\xf2^S\\xcf\\xe3J&\\xfbGW3Y\\xeb\\xbba\\x95^\\xaf)56\\'\\xbd\\xf8\\xbc\\xf4\\xde\\xa1\\x1bvSzc7%\\xfd\\x7f\\x8c\\x00\\x01\\x00\\x00\\x00\\x00\\x00\\x00\\x00\\x00\\x00\\x00\\x00\\x00\\x00\\x00\\x00\\x00\\x00\\x00\\x00\\x00\\x00\\x00\\x00\\x00\\x00\\x00\\x00\\x00\\x00\\x00\\x00\\x00\\x00\\x00\\x00\\x00\\x00\\x00\\x00\\x00\\x00\\x00\\x00\\x00\\x00\\x00\\x00\\x00\\x00\\x00\\x00\\x00\\x00\\x00\\x00\\x00\\x00\\x00\\x00\\x00\\x00\\x00\\x00\\x00\\x00\\x00\\x00\\x00\\x00\\x00\\x00\\x00\\x00\\x00\\x00\\x00\\x00\\x00\\x00\\x00\\x00\\x00\\x00\\x00\\x00\\x00\\x00\\x00\\x00\\x00\\x00\\x00\\x00\\x00\\x00\\x00\\x00\\x00\\x00\\x00\\x00\\x00\\x00\\x00\\x00\\x00\\x00\\x00\\x00\\x00\\x00\\x00\\x00\\x00\\x00\\x00\\x00\\x00\\x00\\x00\\x00\\x00\\x00\\x00\\x00\\x00\\x00\\x00\\x00\\x00\\x00\\x00\\x00\\x00\\x00\\x00\\x00\\x00\\x00\\x00\\x00\\x00\\x00\\x00\\x00\\x00\\x00\\x00\\x00\\x00\\x00\\x00\\x00\\x00\\x00\\xf0\\xbe\\xff\\x01)\\xdb\\xd35\\xcb\\x9e9\\x86\\x00\\x00\\x00\\x00IEND\\xaeB`\\x82'\n"
    },
    {
     "data": {
      "image/png": "[encoded data removed]",
      "text/plain": "<PIL.PngImagePlugin.PngImageFile image mode=P size=640x377 at 0x2343D83DB08>"
     },
     "execution_count": 2,
     "metadata": {},
     "output_type": "execute_result"
    }
   ],
   "source": [
    "response = requests.get('https://i0.wp.com/www.embhack.com/wp-content/uploads/2018/06/hello-world.png')\n",
    "print(response.text)\n",
    "print(response.content)\n",
    "img = Image.open(BytesIO(response.content))#https://www.zhihu.com/question/56816991 #https://www.jianshu.com/p/0e0336b370f3\n",
    "img"
   ]
  },
  {
   "cell_type": "code",
   "execution_count": 3,
   "metadata": {},
   "outputs": [
    {
     "name": "stdout",
     "output_type": "stream",
     "text": "Hello World.\n"
    }
   ],
   "source": [
    "\n",
    "code = pytesseract.image_to_string(img)\n",
    "print(code)"
   ]
  },
  {
   "cell_type": "markdown",
   "metadata": {},
   "source": [
    "## 先下載圖片，再存取，解析成文字"
   ]
  },
  {
   "cell_type": "code",
   "execution_count": 4,
   "metadata": {},
   "outputs": [
    {
     "data": {
      "image/png": "[encoded data removed]",
      "text/plain": "<PIL.PngImagePlugin.PngImageFile image mode=P size=640x377 at 0x1C34F7DAF48>"
     },
     "execution_count": 4,
     "metadata": {},
     "output_type": "execute_result"
    }
   ],
   "source": [
    "import urllib\n",
    "\n",
    "urllib.request.urlretrieve('https://i0.wp.com/www.embhack.com/wp-content/uploads/2018/06/hello-world.png', './code.png')  \n",
    "img = Image.open('./code.png')\n",
    "img"
   ]
  },
  {
   "cell_type": "code",
   "execution_count": 5,
   "metadata": {},
   "outputs": [
    {
     "name": "stdout",
     "output_type": "stream",
     "text": "Hello World.\n"
    }
   ],
   "source": [
    "code = pytesseract.image_to_string(img)\n",
    "print(code)"
   ]
  },
  {
   "cell_type": "markdown",
   "metadata": {},
   "source": [
    "## 作業目標\n",
    "\n",
    "* 讀讀看「test」資料夾下的圖檔！\n",
    "* 像 test/test2.png 這種複雜的圖片怎麼辦？\n"
   ]
  },
  {
   "cell_type": "code",
   "execution_count": null,
   "metadata": {},
   "outputs": [],
   "source": []
  }
 ],
 "metadata": {
  "kernelspec": {
   "display_name": "Python 3.7.4 64-bit",
   "language": "python",
   "name": "python37464bita9990edcc1d34e4b85b4a57067bf3139"
  },
  "language_info": {
   "codemirror_mode": {
    "name": "ipython",
    "version": 3
   },
   "file_extension": ".py",
   "mimetype": "text/x-python",
   "name": "python",
   "nbconvert_exporter": "python",
   "pygments_lexer": "ipython3",
   "version": "3.7.4-final"
  }
 },
 "nbformat": 4,
 "nbformat_minor": 2
}
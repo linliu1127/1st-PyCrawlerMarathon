{
 "cells": [
  {
   "cell_type": "markdown",
   "metadata": {},
   "source": [
    "# 其他工具：Grab、PyQuery\n",
    "\n",
    "\n",
    "* 利用 Grab 套件的存取 HTML 資源\n",
    "* 利用 PyQuery 套件的解析 HTML 格式\n"
   ]
  },
  {
   "cell_type": "markdown",
   "metadata": {},
   "source": [
    "## Grab"
   ]
  },
  {
   "cell_type": "code",
   "execution_count": 1,
   "metadata": {},
   "outputs": [
    {
     "data": {
      "text/plain": ":#5f6368!important;font-size:22px;height:24px;opacity:1;padding:8px;position:absolute;right:8px;top:8px;text-decoration:none!important;width:24px}a.gb_gd:focus,a.gb_gd:active,a.gb_gd:focus:hover{background-color:#e8eaed;-moz-border-radius:50%;border-radius:50%;outline:none}a.gb_gd:hover{background-color:#f1f3f4;-moz-border-radius:50%;border-radius:50%;outline:none}svg.gb_hd{fill:#5f6368;opacity:1}.gb_id{padding:0;white-space:normal;display:table}.gb_jd{line-height:normal;font-family:Roboto,RobotoDraft,Helvetica,Arial,sans-serif}.gb_fd .gb_4:active{outline:none;-moz-box-shadow:0 4px 5px rgba(0,0,0,.16);box-shadow:0 4px 5px rgba(0,0,0,.16)}.gb_0.gb_kd.gb_ld{-moz-border-radius:4px;border-radius:4px;cursor:pointer;height:16px;color:#5f6368;font-family:Google Sans,Roboto,RobotoDraft,Helvetica,Arial,sans-serif;font-weight:500;letter-spacing:.25px;line-height:16px;padding:8px 6px;text-transform:none;-moz-osx-font-smoothing:grayscale}.gb_0.gb_kd:hover{background-color:#f8f9fa}.gb_0.gb_kd:focus,.gb_0.gb_kd:hover:focus{background-color:#f1f3f4;border-color:transparent}.gb_0.gb_kd:active{background-color:#f1f3f4;-moz-box-shadow:0 1px 2px 0 rgba(60,64,67,0.3),0 1px 3px 1px rgba(60,64,67,0.15);box-shadow:0 1px 2px 0 rgba(60,64,67,0.3),0 1px 3px 1px rgba(60,64,67,0.15)}.gb_dd{color:#5f6368;font-family:Roboto,RobotoDraft,Helvetica,Arial,sans-serif;font-size:14px;letter-spacing:.25px;line-height:20px;margin:0;margin-bottom:5px}.gb_md{text-align:right;font-size:14px;padding-bottom:0;white-space:nowrap}.gb_md .gb_nd{margin-left:12px;text-transform:none}a.gb_4.gb_nd:hover{background-color:#2b7de9;border-color:transparent;-moz-box-shadow:0 1px 2px 0 rgba(66,133,244,0.3),0 1px 3px 1px rgba(66,133,244,0.15);box-shadow:0 1px 2px 0 rgba(66,133,244,0.3),0 1px 3px 1px rgba(66,133,244,0.15)}a.gb_4.gb_nd:focus,a.gb_4.gb_nd:hover:focus{background-color:#5094ed;border-color:transparent;-moz-box-shadow:0 1px 2px 0 rgba(66,133,244,0.3),0 1px 3px 1px rgba(66,133,244,0.15);box-shadow:0 1px 2px 0 rgba(66,133,244,0.3),0 1px 3px 1px rgba(66,133,244,0.15)}a.gb_4.gb_nd:active{background-color:#63a0ef;-moz-box-shadow:0 1px 2px 0 rgba(66,133,244,0.3),0 1px 3px 1px rgba(66,133,244,0.15);box-shadow:0 1px 2px 0 rgba(66,133,244,0.3),0 1px 3px 1px rgba(66,133,244,0.15)}.gb_md .gb_nd.gb_od{padding-left:6px;padding-right:14px}.gb_md .gb_ld.gb_nd img{background-color:inherit;-moz-border-radius:initial;border-radius:initial;height:18px;margin:0 8px 0 4px;vertical-align:text-top;width:18px}.gb_pd .gb_id .gb_qd .gb_ld{border:2px solid transparent}.gb_pd .gb_id .gb_qd .gb_ld:focus:after,.gb_pd .gb_id .gb_qd .gb_ld:hover:after{background-color:transparent}.gb_jd{background-color:#404040;color:#fff;padding:16px;position:absolute;top:36px;min-width:328px;max-width:650px;right:0;-moz-border-radius:2px;border-radius:2px;-moz-box-shadow:4px 4px 12px rgba(0,0,0,0.4);box-shadow:4px 4px 12px rgba(0,0,0,0.4)}.gb_jd a,.gb_jd a:visited{color:#5e97f6;text-decoration:none}.gb_rd{text-transform:uppercase}.gb_sd{padding-left:50px}.gb_td{color:#3c4043;font-family:Google Sans,Roboto,RobotoDraft,Helvetica,Arial,sans-serif;font-size:16px;font-weight:500;letter-spacing:.1px;line-height:20px;margin:0;margin-bottom:12px}.gb_dd a.gb_vd{text-decoration:none;color:#5e97f6}.gb_dd a.gb_vd:visited{color:#5e97f6}.gb_dd a.gb_vd:hover,.gb_dd a.gb_vd:active{text-decoration:underline}.gb_wd{position:absolute;background:transparent;top:-999px;z-index:-1;visibility:hidden;margin-top:1px;margin-left:1px}#gb .gb_fd{margin:0}.gb_fd .gb_Wc{background:#4d90fe;border:2px solid transparent;box-sizing:border-box;font-weight:500;margin-top:21px;min-width:70px;text-align:center;-moz-osx-font-smoothing:grayscale}.gb_fd a.gb_4{background:#1a73e8;-moz-border-radius:4px;border-radius:4px;color:#ffffff;font-family:Google Sans,Roboto,RobotoDraft,Helvetica,Arial,sans-serif;font-size:14px;font-weight:500;letter-spacing:.25px;line-height:16px;padding:8px 22px;-moz-osx-font-smoothing:grayscale}.gb_fd a.gb_4.gb_xd{background:#d93025}.gb_fd a.gb_4.gb_xd:hover{background-color:#cc3127}.gb_fd a.gb_4.gb_xd:focus,.gb_fd a.gb_4.gb_xd:focus:hover{background-color:#b3332c}.gb_fd a.gb_4.gb_xd:active,.gb_fd a.gb_4.gb_xd:focus:active{background-color:#a6342e}.gb_fd:not(.gb_pd) a.gb_4{float:right}#gb .gb_fd a.gb_Wc.gb_Wc{color:#ffffff;cursor:pointer}.gb_fd .gb_Wc:hover{background:#357ae8;border-color:#2f5bb7}.gb_yd,.gb_qd{display:table-cell}.gb_yd{vertical-align:middle}.gb_yd img{height:48px;padding-left:4px;padding-right:20px;width:48px}.gb_qd{padding-left:13px;width:100%}.gb_fd .gb_qd{padding-top:4px;min-width:326px;padding-left:0;width:326px}.gb_fd.gb_zd .gb_qd{min-width:254px;width:254px}.gb_fd:not(.gb_pd) .gb_qd{padding-top:32px}.gb_Ad{display:block;display:inline-block;padding:1em 0 0 0;position:relative;width:100%}.gb_Bd{color:#ff0000;font-style:italic;margin:0;padding-left:46px}.gb_Ad .gb_Cd{float:right;margin:-20px 0;width:-moz-calc(100% - 46px);width:calc(100% - 46px)}.gb_Dd svg{fill:grey}.gb_Dd.gb_Ed svg{fill:#4285f4}.gb_Ad .gb_Cd label:after{background-color:#4285f4}.gb_Dd{display:inline;float:right;margin-right:22px;position:relative;top:2px}.gb_Lf{margin-bottom:32px;font-size:small}.gb_Lf .gb_Mf{margin-right:5px}.gb_Lf .gb_Nf{color:red}.gb_3c{display:none}.gb_3c.gb_na{display:block}.gb_4c{background-color:#fff;-moz-box-shadow:0 1px 0 rgba(0,0,0,0.08);box-shadow:0 1px 0 rgba(0,0,0,0.08);color:#000;position:relative;z-index:986}.gb_5c{height:40px;padding:16px 24px;white-space:nowrap}.gb_6c{position:fixed;bottom:16px;padding:16px;right:16px;white-space:normal;width:328px;transition:width .2s,bottom .2s,right .2s;-moz-border-radius:2px;border-radius:2px;-moz-box-shadow:0 5px 5px -3px rgba(0,0,0,0.2),0 8px 10px 1px rgba(0,0,0,0.14),0 3px 14px 2px rgba(0,0,0,0.12);box-shadow:0 5px 5px -3px rgba(0,0,0,0.2),0 8px 10px 1px rgba(0,0,0,0.14),0 3px 14px 2px rgba(0,0,0,0.12)}@media (max-width:400px){.gb_4c.gb_6c{max-width:368px;width:auto;bottom:0;right:0}}.gb_4c .gb_Wc{border:0;font-weight:500;font-size:14px;line-height:36px;min-width:32px;padding:0 16px;vertical-align:middle}.gb_4c .gb_Wc:before{content:\\'\\';height:6px;left:0;position:absolute;top:-6px;width:100%}.gb_4c .gb_Wc:after{bottom:-6px;content:\\'\\';height:6px;left:0;position:absolute;width:100%}.gb_4c .gb_Wc+.gb_Wc{margin-left:8px}.gb_7c{height:48px;padding:4px;margin:-8px 0 0 -8px}.gb_6c .gb_7c{float:left;margin:-4px}.gb_8c{font-family:Roboto,RobotoDraft,Helvetica,Arial,sans-serif;overflow:hidden;vertical-align:top}.gb_5c .gb_8c{display:inline-block;padding-left:8px;width:640px}.gb_6c .gb_8c{display:block;margin-left:56px;padding-bottom:16px}.gb_9c{background-color:inherit}.gb_5c .gb_9c{display:inline-block;position:absolute;top:18px;right:24px}.gb_6c .gb_9c{text-align:right;padding-right:24px;padding-top:6px}.gb_9c .gb_ad{height:1.5em;margin:-.25em 10px -.25em 0;vertical-align:text-top;width:1.5em}.gb_bd{line-height:20px;font-size:16px;font-weight:700;color:rgba(0,0,0,.87)}.gb_6c .gb_bd{color:rgba(0,0,0,.87);font-size:16px;line-height:20px;padding-top:8px}.gb_5c .gb_bd,.gb_5c .gb_cd{width:640px}.gb_cd .gb_dd,.gb_cd{line-height:20px;font-size:13px;font-weight:400;color:rgba(0,0,0,.54)}.gb_6c .gb_cd .gb_dd{font-size:14px}.gb_6c .gb_cd{padding-top:12px}.gb_6c .gb_cd a{color:rgba(66,133,244,1)}.gb_Qb .gb_2a{border:0;border-left:1px solid rgba(0,0,0,.2);border-top:1px solid rgba(0,0,0,.2);height:14px;width:14px;-moz-transform:rotate(45deg);transform:rotate(45deg)}.gb_Qb .gb_1a{border:0;border-left:1px solid rgba(0,0,0,.2);border-top:1px solid rgba(0,0,0,.2);height:14px;width:14px;-moz-transform:rotate(45deg);transform:rotate(45deg);border-color:#fff;background:#fff}.gb_e .gb_ng::before{clip:rect(25px 235px 41px 219px);left:-197px;top:-3px}.gb_e .gb_pc.gb_og{position:absolute}.gb_e .gb_og::before{clip:rect(0 210px 16px 194px);left:-164px;top:22px}.gb_e .gb_Ra .gb_ng::before{left:-189px}@media (min-resolution:1.25dppx),(-webkit-min-device-pixel-ratio:1.25),(min-device-pixel-ratio:1.25){.gb_e .gb_ng::before{clip:rect(50px 470px 82px 438px)}.gb_e .gb_og::before{clip:rect(0 420px 32px 388px)}}.gb_e .gb_pc,.gb_e .gbii,.gb_e .gbip{background-image:none;overflow:hidden;position:relative}.gb_e .gb_pc::before{content:url(\\'//ssl.gstatic.com/gb/images/i1_1967ca6a.png\\');position:absolute}@media (min-resolution:1.25dppx),(-webkit-min-device-pixel-ratio:1.25),(min-device-pixel-ratio:1.25){.gb_e .gb_pc::before{content:url(\\'//ssl.gstatic.com/gb/images/i2_2ec824b0.png\\');-moz-transform:scale(.5);transform:scale(.5);-moz-transform-origin:0 0;transform-origin:0 0}}.gb_Qb a:focus{outline:1px dotted #fff!important}sentinel{}</style><script nonce=\"bLfct6mO7rOnzXDrhq+vhA==\">(function(){var m=[\\'AxWSeE\\',\\'[\\\\x22psy-ab\\\\x22,\\\\x22gws-wiz\\\\x22,\\\\x22\\\\x22,\\\\x22\\\\x22,null,1,0,0,11,\\\\x22zh-TW\\\\x22,\\\\x22iF0eeOuw42Sg6-XwPXESdQ5Eec8\\\\x22,\\\\x22\\\\x22,\\\\x22mvcdXoPpNcqmmAX10574AQ\\\\x22,0,\\\\x22zh-TW\\\\x22,null,null,null,null,null,null,3,5,null,null,null,1,0,null,-1,0,null,0,0,\\\\x22\\\\x22,0,null,0,\\\\x22\\\\x22,null,0,null,0]\\\\n\\',\\'AxWSeI\\',\\'[\\\\x22https://www.google.com.tw/domainless/read?igu\\\\\\\\u003d1\\\\x22,\\\\x22AO61pXSepqgs9Wk9Skb7x4rQHPC-E3uRzQ:1579022234907\\\\x22,3]\\\\n\\'];\\nvar a=m;window.W_jd=window.W_jd||{};for(var b=0;b<a.length;b+=2)window.W_jd[a[b]]=JSON.parse(a[b+1]);})();(function(){var s=\\'/images/nav_logo299.png\\';\\nvar h=this||self,l=function(){},m=function(a){var b=typeof a;if(\"object\"==b)if(a){if(a instanceof Array)return\"array\";if(a instanceof Object)return b;var c=Object.prototype.toString.call(a);if(\"[object Window]\"==c)return\"object\";if(\"[object Array]\"==c||\"number\"==typeof a.length&&\"undefined\"!=typeof a.splice&&\"undefined\"!=typeof a.propertyIsEnumerable&&!a.propertyIsEnumerable(\"splice\"))return\"array\";if(\"[object Function]\"==c||\"undefined\"!=typeof a.call&&\"undefined\"!=typeof a.propertyIsEnumerable&&\\n!a.propertyIsEnumerable(\"call\"))return\"function\"}else return\"null\";else if(\"function\"==b&&\"undefined\"==typeof a.call)return\"object\";return b},n=function(a){var b=typeof a;return\"object\"==b&&null!=a||\"function\"==b},aa=function(a,b){function c(){}c.prototype=b.prototype;a.l=b.prototype;a.prototype=new c;a.prototype.constructor=a};var ba=Array.prototype.indexOf?function(a,b){return Array.prototype.indexOf.call(a,b,void 0)}:function(a,b){if(\"string\"===typeof a)return\"string\"!==typeof b||1!=b.length?-1:a.indexOf(b,0);for(var c=0;c<a.length;c++)if(c in a&&a[c]===b)return c;return-1};var p=String.prototype.trim?function(a){return a.trim()}:function(a){return/^[\\\\s\\\\xa0]*([\\\\s\\\\S]*?)[\\\\s\\\\xa0]*$/.exec(a)[1]},q=function(a,b){return a<b?-1:a>b?1:0};var r;a:{var t=h.navigator;if(t){var u=t.userAgent;if(u){r=u;break a}}r=\"\"};var v=function(a){v[\" \"](a);return a};v[\" \"]=l;var ca=-1!=r.indexOf(\"Opera\"),w=-1!=r.indexOf(\"Trident\")||-1!=r.indexOf(\"MSIE\"),da=-1!=r.indexOf(\"Edge\"),x=-1!=r.indexOf(\"Gecko\")&&!(-1!=r.toLowerCase().indexOf(\"webkit\")&&-1==r.indexOf(\"Edge\"))&&!(-1!=r.indexOf(\"Trident\")||-1!=r.indexOf(\"MSIE\"))&&-1==r.indexOf(\"Edge\"),ea=-1!=r.toLowerCase().indexOf(\"webkit\")&&-1==r.indexOf(\"Edge\"),y=function(){var a=h.document;return a?a.documentMode:void 0},z;a:{var A=\"\",B=function(){var a=r;if(x)return/rv:([^\\\\);]+)(\\\\)|;)/.exec(a);if(da)return/Edge\\\\/([\\\\d\\\\.]+)/.exec(a);if(w)return/\\\\b(?:MSIE|rv)[:]([^\\\\);]+)(\\\\)|;)/.exec(a);if(ea)return/WebKit\\\\/(\\\\S+)/.exec(a);if(ca)return/(?:Version)[ \\\\/]?(\\\\S+)/.exec(a)}();B&&(A=B?B[1]:\"\");if(w){var C=y();if(null!=C&&C>parseFloat(A)){z=String(C);break a}}z=A}var fa=z,D={},E;E=h.document&&w?y():void 0;var F;(F=!w)||(F=9<=Number(E));var G=F,H;if(H=w){var I;if(Object.prototype.hasOwnProperty.call(D,\"9\"))I=D[\"9\"];else{for(var J=0,K=p(String(fa)).split(\".\"),L=p(\"9\").split(\".\"),ha=Math.max(K.length,L.length),M=0;0==J&&M<ha;M++){var N=K[M]||\"\",O=L[M]||\"\";do{var P=/(\\\\d*)(\\\\D*)(.*)/.exec(N)||[\"\",\"\",\"\",\"\"],Q=/(\\\\d*)(\\\\D*)(.*)/.exec(O)||[\"\",\"\",\"\",\"\"];if(0==P[0].length&&0==Q[0].length)break;J=q(0==P[1].length?0:parseInt(P[1],10),0==Q[1].length?0:parseInt(Q[1],10))||q(0==P[2].length,0==Q[2].length)||q(P[2],Q[2]);N=P[3];O=Q[3]}while(0==J)}I=D[\"9\"]=0<=\\nJ}H=!I}var ia=H,la=function(){if(!h.addEventListener||!Object.defineProperty)return!1;var a=!1,b=Object.defineProperty({},\"passive\",{get:function(){a=!0}});try{h.addEventListener(\"test\",l,b),h.removeEventListener(\"test\",l,b)}catch(c){}return a}();var R=function(a,b){this.type=a;this.a=this.target=b};R.prototype.g=function(){};var S=function(a,b){R.call(this,a?a.type:\"\");this.relatedTarget=this.a=this.target=null;this.button=this.screenY=this.screenX=this.clientY=this.clientX=0;this.key=\"\";this.metaKey=this.shiftKey=this.altKey=this.ctrlKey=!1;this.pointerId=0;this.pointerType=\"\";this.j=null;if(a){var c=this.type=a.type,d=a.changedTouches&&a.changedTouches.length?a.changedTouches[0]:null;this.target=a.target||a.srcElement;this.a=b;if(b=a.relatedTarget){if(x){a:{try{v(b.nodeName);var e=!0;break a}catch(f){}e=!1}e||(b=null)}}else\"mouseover\"==\\nc?b=a.fromElement:\"mouseout\"==c&&(b=a.toElement);this.relatedTarget=b;d?(this.clientX=void 0!==d.clientX?d.clientX:d.pageX,this.clientY=void 0!==d.clientY?d.clientY:d.pageY,this.screenX=d.screenX||0,this.screenY=d.screenY||0):(this.clientX=void 0!==a.clientX?a.clientX:a.pageX,this.clientY=void 0!==a.clientY?a.clientY:a.pageY,this.screenX=a.screenX||0,this.screenY=a.screenY||0);this.button=a.button;this.key=a.key||\"\";this.ctrlKey=a.ctrlKey;this.altKey=a.altKey;this.shiftKey=a.shiftKey;this.metaKey=\\na.metaKey;this.pointerId=a.pointerId||0;this.pointerType=\"string\"===typeof a.pointerType?a.pointerType:ma[a.pointerType]||\"\";this.j=a;a.defaultPrevented&&this.g()}};aa(S,R);var ma={2:\"touch\",3:\"pen\",4:\"mouse\"};S.prototype.g=function(){S.l.g.call(this);var a=this.j;if(a.preventDefault)a.preventDefault();else if(a.returnValue=!1,ia)try{if(a.ctrlKey||112<=a.keyCode&&123>=a.keyCode)a.keyCode=-1}catch(b){}};var T=\"closure_listenable_\"+(1E6*Math.random()|0),na=0;var oa=function(a,b,c,d,e){this.listener=a;this.a=null;this.src=b;this.type=c;this.capture=!!d;this.g=e;this.key=++na;this.h=this.i=!1},U=function(a){a.h=!0;a.listener=null;a.a=null;a.src=null;a.g=null};var V=function(a){this.src=a;this.a={};this.g=0};V.prototype.add=function(a,b,c,d,e){var f=a.toString();a=this.a[f];a||(a=this.a[f]=[],this.g++);var g;a:{for(g=0;g<a.length;++g){var k=a[g];if(!k.h&&k.listener==b&&k.capture==!!d&&k.g==e)break a}g=-1}-1<g?(b=a[g],c||(b.i=!1)):(b=new oa(b,this.src,f,!!d,e),b.i=c,a.push(b));return b};var W=\"closure_lm_\"+(1E6*Math.random()|0),X={},pa=0,ra=function(a,b,c,d,e){if(d&&d.once)qa(a,b,c,d,e);else if(\"array\"==m(b))for(var f=0;f<b.length;f++)ra(a,b[f],c,d,e);else c=sa(c),a&&a[T]?a.a(b,c,n(d)?!!d.capture:!!d,e):ta(a,b,c,!1,d,e)},ta=function(a,b,c,d,e,f){if(!b)throw Error(\"a\");var g=n(e)?!!e.capture:!!e,k=Y(a);k||(a[W]=k=new V(a));c=k.add(b,c,d,g,f);if(!c.a){d=ua();c.a=d;d.src=a;d.listener=c;if(a.addEventListener)la||(e=g),void 0===e&&(e=!1),a.addEventListener(b.toString(),d,e);else if(a.attachEvent)a.attachEvent(va(b.toString()),d);else if(a.addListener&&a.removeListener)a.addListener(d);else throw Error(\"b\");pa++}},ua=function(){var a=wa,b=G?function(c){return a.call(b.src,b.listener,c)}:function(c){c=a.call(b.src,b.listener,c);if(!c)return c};return b},qa=function(a,b,c,d,e){if(\"array\"==m(b))for(var f=0;f<b.length;f++)qa(a,b[f],c,d,e);else c=sa(c),a&&a[T]?a.g(b,c,n(d)?!!d.capture:!!d,e):ta(a,b,c,!0,d,e)},va=function(a){return a in X?X[a]:X[a]=\"on\"+a},ya=function(a,b,c,d){var e=!0;if(a=Y(a))if(b=a.a[b.toString()])for(b=\\nb.concat(),a=0;a<b.length;a++){var f=b[a];f&&f.capture==c&&!f.h&&(f=xa(f,d),e=e&&!1!==f)}return e},xa=function(a,b){var c=a.listener,d=a.g||a.src;if(a.i&&\"number\"!==typeof a&&a&&!a.h){var e=a.src;if(e&&e[T])e.j(a);else{var f=a.type,g=a.a;e.removeEventListener?e.removeEventListener(f,g,a.capture):e.detachEvent?e.detachEvent(va(f),g):e.addListener&&e.removeListener&&e.removeListener(g);pa--;if(f=Y(e)){g=a.type;var k;if(k=g in f.a){k=f.a[g];var ja=ba(k,a),ka;(ka=0<=ja)&&Array.prototype.splice.call(k,ja,1);k=ka}k&&(U(a),0==f.a[g].length&&(delete f.a[g],f.g--));0==f.g&&(f.src=null,e[W]=null)}else U(a)}}return c.call(d,b)},wa=function(a,b){if(a.h)return!0;if(!G){if(!b)a:{b=[\"window\",\"event\"];for(var c=h,d=0;d<b.length;d++)if(c=c[b[d]],null==c){b=null;break a}b=c}d=b;b=new S(d,this);c=!0;if(!(0>d.keyCode||void 0!=d.returnValue)){a:{var e=!1;if(0==d.keyCode)try{d.keyCode=-1;break a}catch(g){e=!0}if(e||void 0==d.returnValue)d.returnValue=!0}d=[];for(e=b.a;e;e=e.parentNode)d.push(e);a=a.type;for(e=\\nd.length-1;0<=e;e--){b.a=d[e];var f=ya(d[e],a,!0,b);c=c&&f}for(e=0;e<d.length;e++)b.a=d[e],f=ya(d[e],a,!1,b),c=c&&f}return c}return xa(a,new S(b,this))},Y=function(a){a=a[W];return a instanceof V?a:null},Z=\"__closure_events_fn_\"+(1E9*Math.random()>>>0),sa=function(a){if(\"function\"==m(a))return a;a[Z]||(a[Z]=function(b){return a.handleEvent(b)});return a[Z]};ra(document,\"DOMContentLoaded\",function(){document.f&&(document.f.q.getAttribute(\"data-saf\")||document.f.q.focus());document.gbqf&&document.gbqf.q.focus();document.images&&((new Image).src=s)});})();</script></div><textarea class=\"csi\" name=\"csi\" style=\"display:none\"></textarea><script nonce=\"bLfct6mO7rOnzXDrhq+vhA==\">(function(){\\nfunction k(a,b){var d=window,e=document;if(!a)return 0;if(!b){if(\"none\"==a.style.display)return 0;if(e.defaultView&&e.defaultView.getComputedStyle){var c=e.defaultView.getComputedStyle(a);if(c&&(\"hidden\"==c.visibility||\"0px\"==c.height&&\"0px\"==c.width))return 0}}if(!a.getBoundingClientRect)return 1;var f=a.getBoundingClientRect();a=f.left+d.pageXOffset;c=f.top+d.pageYOffset;var m=f.width;f=f.height;var g=0;if(!b&&0>=f&&0>=m)return g;0>c+f?g=2:c>=(d.innerHeight||e.documentElement.clientHeight)&&(g=\\n4);if(0>a+m||a>=(d.innerWidth||e.documentElement.clientWidth))g|=8;return g||1};var l,n=[\"aft\",\"hct\",\"prt\",\"pprt\",\"sct\"];function p(a){return(a=q.search.match(new RegExp(\"[?&]\"+a+\"=(\\\\\\\\d+)\")))?Number(a[1]):-1}function r(a){l.removeEventListener(\"click\",r);a.stopPropagation&&a.stopPropagation()}var q=location;var t=0,u=0,v=0,w=0,x=0,y,z;function A(a,b,d,e){var c=google.timers.load.t[a];c&&(d||e&&b&&b<c)||google.tick(\"load\",a,b)}function C(a,b){b=b||google.time();A(\"aft\",b,!1,!0);++x;D();E(a,b)}function E(a,b){a=b||google.time();A(\"iml\",a,!1,!0);++u;F()}function F(){z||u!=t||google.c.u(\"il\")}\\nfunction D(){if(!y&&x==v){var a=\"&ima=\"+v+\"&imad=\"+w;google.timers.load.e.imn&&(a+=\"&imn=\"+google.timers.load.e.imn);var b=google.timers.load,d=p(\"qsubts\");if(0<d){var e=p(\"fbts\");0<e&&(b.t.start=Math.max(d,e))}var c=b.t,f=c.start;e={wsrt:b.wsrt};for(var m=0,g;g=n[m++];){var B=c[g];B&&f&&(e[g]=B-f)}0<d&&(e.gsasrt=b.t.start-d);b=\"/gen_204?s=\"+google.sn+\"&t=aft&atyp=csi&ei=\"+google.kEI+\"&rt=\";d=\"\";for(var h in e)b+=d+h+\".\"+e[h],d=\",\";google.cshid&&(b+=\"&cshid=\"+google.cshid);(h=window.performance&&\\nwindow.performance.navigation)&&2==h.type&&(b+=\"&bb=1\");\"gsasrt\"in e&&(h=p(\"qsd\"),0<h&&(b+=\"&qsd=\"+h));google.kBL&&(b+=\"&bl=\"+google.kBL);a=b+(a||\"\");(l=document.getElementById(\"csi-ping\"))?(l.addEventListener(\"click\",r),l.setAttribute(\"ping\",a),l.click()):navigator.sendBeacon?navigator.sendBeacon(a,\"\"):google.log(\"\",\"\",a)}}var G=\"src bsrc url ll image img-url\".split(\" \");function H(a){var b=\"string\"!=typeof a.src||!a.src,d=!!a.getAttribute(\"data-bsrc\"),e=a.getAttribute(\"data-deferred\"),c;if(c=!e)a:{c=0;for(var f;f=G[c++];)if(a.getAttribute(\"data-\"+f)){c=!0;break a}c=!1}c&&a.setAttribute(\"data-lzy_\",1);b=(c=(b||a.complete)&&!e&&!d)&&!google.c.lhc&&Number(a.getAttribute(\"data-iml\"))||0;d=k(a,d);a.setAttribute(\"data-atf\",d);++t;c&&!b||a.hasAttribute(\"data-noaft\")?++u:(c=(d=1==d)?C:E,d&&(++v,e&&++w),b?c(void 0,b):google.rll(a,!0,c))};(function(){var a=google.time();if(google.timers&&google.timers.load.t){z=y=!0;google.c.b(\"il\");for(var b=document.getElementsByTagName(\"img\"),d=0,e=void 0;e=b[d++];)H(e);A(\"prt\",a);A(\"aft\",a,!0);A(\"iml\",a,!0);google.c.e(\"load\",\"imn\",String(t));y&&(y=!1,D());z=!1;F();google.c.glu&&google.c.glu();google.rll(window,!1,function(){A(\"ol\",void 0);google.c.u(\"pr\")})}})();}).call(this);google.drty&&google.drty();</script></body></html>'"
     },
     "execution_count": 1,
     "metadata": {},
     "output_type": "execute_result"
    }
   ],
   "source": [
    "from grab import Grab\n",
    "g=Grab()\n",
    "resp = g.go('https://google.com')\n",
    "resp.body"
   ]
  },
  {
   "cell_type": "markdown",
   "metadata": {},
   "source": [
    "## PyQuery"
   ]
  },
  {
   "cell_type": "code",
   "execution_count": 4,
   "metadata": {},
   "outputs": [
    {
     "name": "stdout",
     "output_type": "stream",
     "text": "<class 'pyquery.pyquery.PyQuery'> Google\n"
    }
   ],
   "source": [
    "from pyquery import PyQuery as pq\n",
    "doc = pq(resp.body)\n",
    "title = doc('title')\n",
    "print(type(title), title.text())"
   ]
  },
  {
   "cell_type": "markdown",
   "metadata": {},
   "source": [
    "## 作業目標\n",
    "\n",
    "將之前用 requests + beatifulsoup 實作的方式，改寫成 grab + pyquery，並且比較有哪些地方不同。\n",
    "\n",
    "\n",
    "\n"
   ]
  },
  {
   "cell_type": "code",
   "execution_count": null,
   "metadata": {},
   "outputs": [],
   "source": []
  },
  {
   "cell_type": "code",
   "execution_count": null,
   "metadata": {},
   "outputs": [],
   "source": []
  }
 ],
 "metadata": {
  "kernelspec": {
   "display_name": "Python 3.7.4 64-bit",
   "language": "python",
   "name": "python37464bita9990edcc1d34e4b85b4a57067bf3139"
  },
  "language_info": {
   "codemirror_mode": {
    "name": "ipython",
    "version": 3
   },
   "file_extension": ".py",
   "mimetype": "text/x-python",
   "name": "python",
   "nbconvert_exporter": "python",
   "pygments_lexer": "ipython3",
   "version": "3.7.4-final"
  }
 },
 "nbformat": 4,
 "nbformat_minor": 2
}
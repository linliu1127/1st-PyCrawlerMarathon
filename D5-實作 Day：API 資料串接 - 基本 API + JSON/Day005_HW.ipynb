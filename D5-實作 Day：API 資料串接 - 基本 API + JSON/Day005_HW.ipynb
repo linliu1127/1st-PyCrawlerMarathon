{
 "cells": [
  {
   "cell_type": "markdown",
   "metadata": {},
   "source": [
    "# API 資料串接 - 以 Dcard API 實作範例\n",
    "\n",
    "* 了解 Dcard API 使用方式與回傳內容\n",
    "* 撰寫程式存取 API 且解析 JSON 格式資料\n"
   ]
  },
  {
   "cell_type": "markdown",
   "metadata": {},
   "source": [
    "## 作業目標\n",
    "\n",
    "* 請利用 API: https://www.dcard.tw/_api/forums/pet/posts?popular=true 回答下列問題：\n",
    "\n",
    "1. 這個 API 一次會回傳幾筆資料？每一筆資料包含哪些欄位？\n",
    "2. 取出每一筆資料的「標題」、「貼文時間」、「留言人數」、「按讚人數」\n",
    "3. 計算熱門/非熱門文章的「平均留言人數」與「平均按讚人數」"
   ]
  },
  {
   "cell_type": "code",
   "execution_count": 2,
   "metadata": {},
   "outputs": [
    {
     "name": "stdout",
     "output_type": "stream",
     "text": "501', 'thumbnail': 'https://megapx-assets.dcard.tw/images/ff85467f-61e1-4a8b-9148-3a3635cbe501/640.jpeg', 'type': 'image/megapx', 'tags': [], 'createdAt': '2019-12-13T14:18:03.885Z', 'updatedAt': '2019-12-13T14:18:03.885Z', 'width': 1478, 'height': 1108}, {'id': '4f78d3e0-c0a6-474c-be68-6594cc7d6fc5', 'url': 'https://megapx.dcard.tw/v1/images/c45844a9-363e-4e91-96b2-c45beffba87c/encode/1280', 'normalizedUrl': 'https://megapx.dcard.tw/v1/images/c45844a9-363e-4e91-96b2-c45beffba87c', 'thumbnail': 'https://megapx-assets.dcard.tw/images/c45844a9-363e-4e91-96b2-c45beffba87c/640.jpeg', 'type': 'image/megapx', 'tags': [], 'createdAt': '2019-12-13T14:18:03.885Z', 'updatedAt': '2019-12-13T14:18:03.885Z', 'width': 1710, 'height': 958}, {'id': '5c95d92b-5af5-4ddc-a2b2-b58abd927264', 'url': 'https://megapx.dcard.tw/v1/images/99503eb3-278f-48ef-8cab-73e69ddfcbd9/encode/1280', 'normalizedUrl': 'https://megapx.dcard.tw/v1/images/99503eb3-278f-48ef-8cab-73e69ddfcbd9', 'thumbnail': 'https://megapx-assets.dcard.tw/images/99503eb3-278f-48ef-8cab-73e69ddfcbd9/640.jpeg', 'type': 'image/megapx', 'tags': [], 'createdAt': '2019-12-13T14:18:03.885Z', 'updatedAt': '2019-12-13T14:18:03.885Z', 'width': 1108, 'height': 1478}, {'id': 'c38471c3-a1d4-485e-bec4-e79fe844aea2', 'url': 'https://megapx.dcard.tw/v1/images/821ba630-1ee7-47a3-981d-f4d2bb5cc61e/encode/1280', 'normalizedUrl': 'https://megapx.dcard.tw/v1/images/821ba630-1ee7-47a3-981d-f4d2bb5cc61e', 'thumbnail': 'https://megapx-assets.dcard.tw/images/821ba630-1ee7-47a3-981d-f4d2bb5cc61e/640.jpeg', 'type': 'image/megapx', 'tags': [], 'createdAt': '2019-12-13T14:18:03.885Z', 'updatedAt': '2019-12-13T14:18:03.885Z', 'width': 958, 'height': 1710}, {'id': '087960a2-d77f-4665-b56b-e8121fdefd5a', 'url': 'https://megapx.dcard.tw/v1/images/73185738-bad9-4963-9e4d-ae51267b1e2d/encode/1280', 'normalizedUrl': 'https://megapx.dcard.tw/v1/images/73185738-bad9-4963-9e4d-ae51267b1e2d', 'thumbnail': 'https://megapx-assets.dcard.tw/images/73185738-bad9-4963-9e4d-ae51267b1e2d/640.jpeg', 'type': 'image/megapx', 'tags': [], 'createdAt': '2019-12-13T14:18:03.885Z', 'updatedAt': '2019-12-13T14:18:03.885Z', 'width': 1478, 'height': 1108}, {'id': 'f44bf2f9-4093-446e-8f56-311d522d12fe', 'url': 'https://megapx.dcard.tw/v1/images/4649e362-ca6c-46a4-a388-0a73ab36d6d5/encode/1280', 'normalizedUrl': 'https://megapx.dcard.tw/v1/images/4649e362-ca6c-46a4-a388-0a73ab36d6d5', 'thumbnail': 'https://megapx-assets.dcard.tw/images/4649e362-ca6c-46a4-a388-0a73ab36d6d5/640.jpeg', 'type': 'image/megapx', 'tags': [], 'createdAt': '2019-12-13T14:18:03.885Z', 'updatedAt': '2019-12-13T14:18:03.885Z', 'width': 1108, 'height': 1478}, {'id': '4c272ff7-05bf-4bf0-8af5-fb7c9eabbc23', 'url': 'https://megapx.dcard.tw/v1/images/d4e449e8-d019-4156-9e4d-66fc0c985e78/encode/1280', 'normalizedUrl': 'https://megapx.dcard.tw/v1/images/d4e449e8-d019-4156-9e4d-66fc0c985e78', 'thumbnail': 'https://megapx-assets.dcard.tw/images/d4e449e8-d019-4156-9e4d-66fc0c985e78/640.jpeg', 'type': 'image/megapx', 'tags': [], 'createdAt': '2019-12-13T14:18:03.885Z', 'updatedAt': '2019-12-13T14:18:03.885Z', 'width': 960, 'height': 1706}, {'id': '885ab64e-1bcf-4ba6-a2cc-48fe6e804db0', 'url': 'https://megapx.dcard.tw/v1/images/82c0e19b-1ea7-467b-906e-79c519514d5f/encode/1280', 'normalizedUrl': 'https://megapx.dcard.tw/v1/images/82c0e19b-1ea7-467b-906e-79c519514d5f', 'thumbnail': 'https://megapx-assets.dcard.tw/images/82c0e19b-1ea7-467b-906e-79c519514d5f/640.jpeg', 'type': 'image/megapx', 'tags': [], 'createdAt': '2019-12-13T14:18:03.885Z', 'updatedAt': '2019-12-13T14:18:03.885Z', 'width': 1568, 'height': 1044}, {'id': 'ac9dc93f-d15d-4ede-961e-5bb510a84933', 'url': 'https://megapx.dcard.tw/v1/images/34f00011-dd81-4189-a0b5-bc9f4327794e/encode/1280', 'normalizedUrl': 'https://megapx.dcard.tw/v1/images/34f00011-dd81-4189-a0b5-bc9f4327794e', 'thumbnail': 'https://megapx-assets.dcard.tw/images/34f00011-dd81-4189-a0b5-bc9f4327794e/640.jpeg', 'type': 'image/megapx', 'tags': [], 'createdAt': '2019-12-13T14:18:03.885Z', 'updatedAt': '2019-12-13T14:18:03.885Z', 'width': 1920, 'height': 1080}, {'id': '212402e8-2e85-4860-a32d-13c3453311ae', 'url': 'https://megapx.dcard.tw/v1/images/d3c327bf-1e7a-46ce-8bf1-c0b4160665af/encode/1280', 'normalizedUrl': 'https://megapx.dcard.tw/v1/images/d3c327bf-1e7a-46ce-8bf1-c0b4160665af', 'thumbnail': 'https://megapx-assets.dcard.tw/images/d3c327bf-1e7a-46ce-8bf1-c0b4160665af/640.jpeg', 'type': 'image/megapx', 'tags': [], 'createdAt': '2019-12-13T14:18:03.885Z', 'updatedAt': '2019-12-13T14:18:03.885Z', 'width': 1706, 'height': 960}], 'reactions': [{'id': '286f599c-f86a-4932-82f0-f5a06f1eca03', 'count': 9}], 'hidden': False, 'customStyle': None, 'isSuspiciousAccount': False, 'layout': 'classic', 'withImages': False, 'withVideos': False, 'media': [], 'reportReasonText': '', 'postAvatar': ''}, {'id': 232678227, 'title': '刺蝟日常', 'excerpt': '愛撒嬌的小寶貝都會陪我看影片，不抱他還會生氣️', 'anonymousSchool': False, 'anonymousDepartment': True, 'pinned': False, 'forumId': '7ee21581-1307-4ba9-b9dc-82028bdcca49', 'replyId': None, 'createdAt': '2019-12-13T06:39:08.299Z', 'updatedAt': '2019-12-13T06:39:08.299Z', 'commentCount': 0, 'likeCount': 9, 'withNickname': False, 'tags': [], 'topics': ['刺蝟'], 'meta': {'layout': 'classic'}, 'forumName': '寵物', 'forumAlias': 'pet', 'gender': 'F', 'school': '台灣首府大學', 'replyTitle': None, 'mediaMeta': [{'id': '79b68d1c-fb17-4e09-b5ac-45a18f388210', 'url': 'https://i.imgur.com/pXGC1S0l.jpg', 'normalizedUrl': 'https://i.imgur.com/pXGC1S0l.jpg', 'thumbnail': 'https://i.imgur.com/pXGC1S0l.jpg', 'type': 'image/thumbnail', 'tags': ['ANNOTATED'], 'createdAt': '2019-12-13T06:39:08.299Z', 'updatedAt': '2019-12-13T06:39:08.299Z'}, {'id': '79b68d1c-fb17-4e09-b5ac-45a18f388210', 'url': 'https://i.imgur.com/pXGC1S0.jpg', 'normalizedUrl': 'https://imgur.com/pXGC1S0', 'thumbnail': 'https://i.imgur.com/pXGC1S0l.jpg', 'type': 'image/imgur', 'tags': ['ANNOTATED'], 'createdAt': '2019-12-13T06:39:08.299Z', 'updatedAt': '2019-12-13T06:39:08.299Z'}, {'id': '0568950c-694e-4124-bdbe-e03189aeaf1e', 'url': 'https://i.imgur.com/psp2yA3.jpg', 'normalizedUrl': 'https://imgur.com/psp2yA3', 'thumbnail': 'https://i.imgur.com/psp2yA3l.jpg', 'type': 'image/imgur', 'tags': ['ANNOTATED'], 'createdAt': '2019-12-13T06:39:08.299Z', 'updatedAt': '2019-12-13T06:39:08.299Z'}, {'id': 'fddc374c-f52a-4c5b-bab7-eaa07df68ad4', 'url': 'https://i.imgur.com/68zbcWz.jpg', 'normalizedUrl': 'https://imgur.com/68zbcWz', 'thumbnail': 'https://i.imgur.com/68zbcWzl.jpg', 'type': 'image/imgur', 'tags': ['ANNOTATED'], 'createdAt': '2019-12-13T06:39:08.299Z', 'updatedAt': '2019-12-13T06:39:08.299Z'}], 'reactions': [{'id': '286f599c-f86a-4932-82f0-f5a06f1eca03', 'count': 9}], 'hidden': False, 'customStyle': None, 'isSuspiciousAccount': False, 'layout': 'classic', 'withImages': True, 'withVideos': False, 'media': [{'url': 'https://i.imgur.com/pXGC1S0.jpg'}, {'url': 'https://i.imgur.com/psp2yA3.jpg'}, {'url': 'https://i.imgur.com/68zbcWz.jpg'}], 'reportReasonText': '', 'postAvatar': ''}, {'id': 232684119, 'title': '老鼠給你們養真可憐', 'excerpt': '隨便滑一下動態都是不合格的籠子==，還好意思po限時？上網查一下怎麼養不困難吧，而且寵物版明明很常宣導籠子的事情，還是老鼠只是你們用來炫耀的玩具啊==', 'anonymousSchool': False, 'anonymousDepartment': True, 'pinned': False, 'forumId': '7ee21581-1307-4ba9-b9dc-82028bdcca49', 'replyId': None, 'createdAt': '2019-12-14T07:11:15.809Z', 'updatedAt': '2019-12-14T13:00:56.992Z', 'commentCount': 17, 'likeCount': 8, 'withNickname': False, 'tags': [], 'topics': ['老鼠', '鼠', '倉鼠', '寵物', '整理箱'], 'meta': {'layout': 'classic'}, 'forumName': '寵物', 'forumAlias': 'pet', 'gender': 'F', 'school': '樹德科技大學', 'replyTitle': None, 'mediaMeta': [{'id': 'a65406c0-aa37-41be-8d66-2b39390bf174', 'url': 'https://i.imgur.com/RErLHVhl.jpg', 'normalizedUrl': 'https://i.imgur.com/RErLHVhl.jpg', 'thumbnail': 'https://i.imgur.com/RErLHVhl.jpg', 'type': 'image/thumbnail', 'tags': ['ANNOTATED'], 'createdAt': '2019-12-14T07:11:15.809Z', 'updatedAt': '2019-12-14T13:00:56.992Z'}, {'id': 'a65406c0-aa37-41be-8d66-2b39390bf174', 'url': 'https://i.imgur.com/RErLHVh.jpg', 'normalizedUrl': 'https://imgur.com/RErLHVh', 'thumbnail': 'https://i.imgur.com/RErLHVhl.jpg', 'type': 'image/imgur', 'tags': ['ANNOTATED'], 'createdAt': '2019-12-14T07:11:15.809Z', 'updatedAt': '2019-12-14T13:00:56.992Z'}], 'reactions': [{'id': '286f599c-f86a-4932-82f0-f5a06f1eca03', 'count': 8}], 'hidden': False, 'customStyle': None, 'isSuspiciousAccount': False, 'layout': 'classic', 'withImages': True, 'withVideos': False, 'media': [{'url': 'https://i.imgur.com/RErLHVh.jpg'}], 'reportReasonText': '', 'postAvatar': ''}, {'id': 232682730, 'title': '悲劇！家貓被剪耳剃毛挨告不起訴', 'excerpt': '台北巿文山區一隻家貓被志工及獸醫誤當流浪貓剪耳，以示已結紮，飼主一氣控告志工及獸醫毀損，檢方認定兩人只有過失，予以不起訴。劉姓女子擔任台北巿動物保護處志工，負責執行絕育回置計畫，在街道上捕抓流浪貓，並', 'anonymousSchool': False, 'anonymousDepartment': True, 'pinned': False, 'forumId': '7ee21581-1307-4ba9-b9dc-82028bdcca49', 'replyId': None, 'createdAt': '2019-12-13T21:32:18.181Z', 'updatedAt': '2019-12-13T21:32:18.181Z', 'commentCount': 5, 'likeCount': 8, 'withNickname': False, 'tags': [], 'topics': ['貓咪tnr', '放養', '誤認', '家貓街貓傻傻分不清楚'], 'meta': {'layout': 'classic'}, 'forumName': '寵物', 'forumAlias': 'pet', 'gender': 'F', 'school': '中國文化大學', 'replyTitle': None, 'mediaMeta': [], 'reactions': [{'id': '286f599c-f86a-4932-82f0-f5a06f1eca03', 'count': 8}], 'hidden': False, 'customStyle': None, 'isSuspiciousAccount': False, 'layout': 'classic', 'withImages': False, 'withVideos': False, 'media': [], 'reportReasonText': '', 'postAvatar': ''}, {'id': 232683887, 'title': '原來我養的是猴子呀😳', 'excerpt': '有時候真的很想問貓咪，到底怎麼辦到的，這扇門很高，而且門的邊邊就那麼細硬要走鋼索…，是不是特別喜歡俯視奴才🤔🤔，屁貓IG️', 'anonymousSchool': False, 'anonymousDepartment': False, 'pinned': False, 'forumId': '7ee21581-1307-4ba9-b9dc-82028bdcca49', 'replyId': None, 'createdAt': '2019-12-14T06:16:19.442Z', 'updatedAt': '2019-12-14T06:16:53.692Z', 'commentCount': 2, 'likeCount': 7, 'withNickname': True, 'tags': [], 'topics': ['貓', '寵物', '可愛', '領養代替購買', '米克斯'], 'meta': {'layout': 'classic'}, 'forumName': '寵物', 'forumAlias': 'pet', 'gender': 'F', 'school': '橘橘女王', 'department': 'laura4400892', 'replyTitle': None, 'mediaMeta': [{'id': '0c0699dd-993a-4643-98e9-1c515d8c25ed', 'url': 'https://vivid.dcard.tw/Public/f7abde0e-46d8-486d-b82c-2e1112f20cf4/thumbnail.jpg', 'normalizedUrl': 'https://vivid.dcard.tw/Public/f7abde0e-46d8-486d-b82c-2e1112f20cf4/thumbnail.jpg', 'thumbnail': 'https://vivid.dcard.tw/Public/f7abde0e-46d8-486d-b82c-2e1112f20cf4/thumbnail.jpg', 'type': 'image/thumbnail', 'tags': ['ANNOTATED_FAILED'], 'createdAt': '2019-12-14T06:16:19.442Z', 'updatedAt': '2019-12-14T06:16:53.692Z'}, {'id': '0c0699dd-993a-4643-98e9-1c515d8c25ed', 'url': 'https://www.dcard.tw/v2/vivid/videos/f7abde0e-46d8-486d-b82c-2e1112f20cf4?r=0.5625', 'normalizedUrl': '', 'thumbnail': 'https://vivid.dcard.tw/Public/f7abde0e-46d8-486d-b82c-2e1112f20cf4/thumbnail.jpg', 'type': 'video/vivid', 'tags': ['ANNOTATED_FAILED'], 'createdAt': '2019-12-14T06:16:19.442Z', 'updatedAt': '2019-12-14T06:16:53.692Z'}, {'id': '13f473a3-10f1-4e1a-998a-c7a95568c817', 'url': 'https://i.imgur.com/760sKvT.jpg', 'normalizedUrl': 'https://imgur.com/760sKvT', 'thumbnail': 'https://i.imgur.com/760sKvTl.jpg', 'type': 'image/imgur', 'tags': ['ANNOTATED'], 'createdAt': '2019-12-14T06:16:19.442Z', 'updatedAt': '2019-12-14T06:16:53.692Z'}], 'reactions': [{'id': '286f599c-f86a-4932-82f0-f5a06f1eca03', 'count': 7}], 'hidden': False, 'customStyle': None, 'isSuspiciousAccount': False, 'layout': 'classic', 'withImages': True, 'withVideos': True, 'media': [{'url': 'https://vivid.dcard.tw/Public/f7abde0e-46d8-486d-b82c-2e1112f20cf4/thumbnail.jpg'}, {'url': 'https://i.imgur.com/760sKvT.jpg'}], 'reportReasonText': '', 'postAvatar': ''}, {'id': 232682229, 'title': '高難度瑜伽🧘\\u200d♀️', 'excerpt': '大家ㄉ喵也會在玩繩子的時候練就一身功夫瑜伽和拳法嗎', 'anonymousSchool': False, 'anonymousDepartment': True, 'pinned': False, 'forumId': '7ee21581-1307-4ba9-b9dc-82028bdcca49', 'replyId': None, 'createdAt': '2019-12-13T17:57:42.041Z', 'updatedAt': '2019-12-13T17:57:42.041Z', 'commentCount': 0, 'likeCount': 7, 'withNickname': False, 'tags': [], 'topics': ['貓', '可愛'], 'meta': {'layout': 'classic'}, 'forumName': '寵物', 'forumAlias': 'pet', 'gender': 'F', 'school': '國立中興大學', 'replyTitle': None, 'mediaMeta': [{'id': 'a9a2a67a-36d4-4381-82c0-83d95bb7702f', 'url': 'https://i.imgur.com/3nGn28cl.jpg', 'normalizedUrl': 'https://i.imgur.com/3nGn28cl.jpg', 'thumbnail': 'https://i.imgur.com/3nGn28cl.jpg', 'type': 'image/thumbnail', 'tags': ['ANNOTATED'], 'createdAt': '2019-12-13T17:57:42.041Z', 'updatedAt': '2019-12-13T17:57:42.041Z'}, {'id': 'a9a2a67a-36d4-4381-82c0-83d95bb7702f', 'url': 'https://i.imgur.com/3nGn28c.jpg', 'normalizedUrl': 'https://imgur.com/3nGn28c', 'thumbnail': 'https://i.imgur.com/3nGn28cl.jpg', 'type': 'image/imgur', 'tags': ['ANNOTATED'], 'createdAt': '2019-12-13T17:57:42.041Z', 'updatedAt': '2019-12-13T17:57:42.041Z'}, {'id': 'd9e6cfd9-88ce-497c-b698-863a5b719b2f', 'url': 'https://i.imgur.com/vPCSwkO.jpg', 'normalizedUrl': 'https://imgur.com/vPCSwkO', 'thumbnail': 'https://i.imgur.com/vPCSwkOl.jpg', 'type': 'image/imgur', 'tags': ['ANNOTATED'], 'createdAt': '2019-12-13T17:57:42.041Z', 'updatedAt': '2019-12-13T17:57:42.041Z'}, {'id': 'b2a83dec-c992-49ff-8b8e-e585718fc601', 'url': 'https://i.imgur.com/hJ80RXl.jpg', 'normalizedUrl': 'https://imgur.com/hJ80RXl', 'thumbnail': 'https://i.imgur.com/hJ80RXll.jpg', 'type': 'image/imgur', 'tags': ['ANNOTATED'], 'createdAt': '2019-12-13T17:57:42.041Z', 'updatedAt': '2019-12-13T17:57:42.041Z'}, {'id': 'aeae40d8-ffda-4ef1-a73f-c6786c16ba5c', 'url': 'https://i.imgur.com/xrakF9G.jpg', 'normalizedUrl': 'https://imgur.com/xrakF9G', 'thumbnail': 'https://i.imgur.com/xrakF9Gl.jpg', 'type': 'image/imgur', 'tags': ['ANNOTATED'], 'createdAt': '2019-12-13T17:57:42.041Z', 'updatedAt': '2019-12-13T17:57:42.041Z'}, {'id': '498b5321-4fe0-4521-9ae3-c2befb5a5b22', 'url': 'https://i.imgur.com/KXmqrz6.jpg', 'normalizedUrl': 'https://imgur.com/KXmqrz6', 'thumbnail': 'https://i.imgur.com/KXmqrz6l.jpg', 'type': 'image/imgur', 'tags': ['ANNOTATED'], 'createdAt': '2019-12-13T17:57:42.041Z', 'updatedAt': '2019-12-13T17:57:42.041Z'}, {'id': '24d559bd-17f3-4f97-b61e-ce6d966d4e8b', 'url': 'https://i.imgur.com/6kVrW7f.jpg', 'normalizedUrl': 'https://imgur.com/6kVrW7f', 'thumbnail': 'https://i.imgur.com/6kVrW7fl.jpg', 'type': 'image/imgur', 'tags': ['ANNOTATED'], 'createdAt': '2019-12-13T17:57:42.041Z', 'updatedAt': '2019-12-13T17:57:42.041Z'}], 'reactions': [{'id': '286f599c-f86a-4932-82f0-f5a06f1eca03', 'count': 7}], 'hidden': False, 'customStyle': None, 'isSuspiciousAccount': False, 'layout': 'classic', 'withImages': True, 'withVideos': False, 'media': [{'url': 'https://i.imgur.com/3nGn28c.jpg'}, {'url': 'https://i.imgur.com/vPCSwkO.jpg'}, {'url': 'https://i.imgur.com/hJ80RXl.jpg'}, {'url': 'https://i.imgur.com/xrakF9G.jpg'}, {'url': 'https://i.imgur.com/KXmqrz6.jpg'}, {'url': 'https://i.imgur.com/6kVrW7f.jpg'}], 'reportReasonText': '', 'postAvatar': ''}, {'id': 232681039, 'title': '我家有自拍高手？！！！！', 'excerpt': '不知道大家的貓貓會不會看到鏡頭就跑掉了呢？-，先給你們看看我側臉帥不帥，這是我睡覺的時候，--，附上搗蛋的時候，（（剛做好簽桶結果直接跑進去就不出來了', 'anonymousSchool': False, 'anonymousDepartment': True, 'pinned': False, 'forumId': '7ee21581-1307-4ba9-b9dc-82028bdcca49', 'replyId': None, 'createdAt': '2019-12-13T14:59:22.155Z', 'updatedAt': '2019-12-13T14:59:22.155Z', 'commentCount': 0, 'likeCount': 7, 'withNickname': False, 'tags': [], 'topics': ['自拍', '米克斯', '貓'], 'meta': {'layout': 'classic'}, 'forumName': '寵物', 'forumAlias': 'pet', 'gender': 'F', 'school': '南臺科技大學', 'replyTitle': None, 'mediaMeta': [{'id': '7698206f-5215-44b5-904c-a9775f1719c8', 'url': 'https://i.imgur.com/pjlqjMil.jpg', 'normalizedUrl': 'https://i.imgur.com/pjlqjMil.jpg', 'thumbnail': 'https://i.imgur.com/pjlqjMil.jpg', 'type': 'image/thumbnail', 'tags': ['ANNOTATED'], 'createdAt': '2019-12-13T14:59:22.155Z', 'updatedAt': '2019-12-13T14:59:22.155Z'}, {'id': '7698206f-5215-44b5-904c-a9775f1719c8', 'url': 'https://i.imgur.com/pjlqjMi.jpg', 'normalizedUrl': 'https://imgur.com/pjlqjMi', 'thumbnail': 'https://i.imgur.com/pjlqjMil.jpg', 'type': 'image/imgur', 'tags': ['ANNOTATED'], 'createdAt': '2019-12-13T14:59:22.155Z', 'updatedAt': '2019-12-13T14:59:22.155Z'}, {'id': '49718f2e-10e3-4fba-bcc6-bfd7d9afeac4', 'url': 'https://i.imgur.com/rMHrXFA.jpg', 'normalizedUrl': 'https://imgur.com/rMHrXFA', 'thumbnail': 'https://i.imgur.com/rMHrXFAl.jpg', 'type': 'image/imgur', 'tags': ['ANNOTATED'], 'createdAt': '2019-12-13T14:59:22.155Z', 'updatedAt': '2019-12-13T14:59:22.155Z'}, {'id': 'dc42804b-3890-4787-a228-cd10284196ae', 'url': 'https://www.dcard.tw/v2/vivid/videos/be2ae3f9-9347-43b4-bf58-c0efaef60bcf?r=2.036111111111111', 'normalizedUrl': '', 'thumbnail': 'https://vivid.dcard.tw/Public/be2ae3f9-9347-43b4-bf58-c0efaef60bcf/thumbnail.jpg', 'type': 'video/vivid', 'tags': ['ANNOTATED_FAILED'], 'createdAt': '2019-12-13T14:59:22.155Z', 'updatedAt': '2019-12-13T14:59:22.155Z'}], 'reactions': [{'id': '286f599c-f86a-4932-82f0-f5a06f1eca03', 'count': 7}], 'hidden': False, 'customStyle': None, 'isSuspiciousAccount': False, 'layout': 'classic', 'withImages': True, 'withVideos': True, 'media': [{'url': 'https://i.imgur.com/pjlqjMi.jpg'}, {'url': 'https://i.imgur.com/rMHrXFA.jpg'}, {'url': 'https://vivid.dcard.tw/Public/be2ae3f9-9347-43b4-bf58-c0efaef60bcf/thumbnail.jpg'}], 'reportReasonText': '', 'postAvatar': ''}, {'id': 232678416, 'title': '貓咪喜歡尿棉被', 'excerpt': '之前因為貓咪會尿棉被，所以我把那件整個丟掉，然後都是蓋毯子，起床就收進衣櫃，床上保持空曠，以為他的亂尿尿沒事了！，結果今天剛到新的棉被，沒關係！應該沒事的！，換上新的被套！，我去廁所尿個尿！，結果出來', 'anonymousSchool': False, 'anonymousDepartment': False, 'pinned': False, 'forumId': '7ee21581-1307-4ba9-b9dc-82028bdcca49', 'replyId': None, 'createdAt': '2019-12-13T07:10:11.293Z', 'updatedAt': '2019-12-13T07:10:11.293Z', 'commentCount': 6, 'likeCount': 7, 'withNickname': True, 'tags': [], 'topics': ['棉被', '貓咪', '寵物', '貓'], 'meta': {'layout': 'classic'}, 'forumName': '寵物', 'forumAlias': 'pet', 'gender': 'M', 'school': '零負擔', 'department': 'bigeyefrog', 'replyTitle': None, 'mediaMeta': [{'id': '955324f7-3488-4c9e-8371-69cb48a50fe3', 'url': 'https://i.imgur.com/vCvMufil.jpg', 'normalizedUrl': 'https://i.imgur.com/vCvMufil.jpg', 'thumbnail': 'https://i.imgur.com/vCvMufil.jpg', 'type': 'image/thumbnail', 'tags': ['ANNOTATED'], 'createdAt': '2019-12-13T07:10:11.293Z', 'updatedAt': '2019-12-13T07:10:11.293Z'}, {'id': '955324f7-3488-4c9e-8371-69cb48a50fe3', 'url': 'https://i.imgur.com/vCvMufi.jpg', 'normalizedUrl': 'https://imgur.com/vCvMufi', 'thumbnail': 'https://i.imgur.com/vCvMufil.jpg', 'type': 'image/imgur', 'tags': ['ANNOTATED'], 'createdAt': '2019-12-13T07:10:11.293Z', 'updatedAt': '2019-12-13T07:10:11.293Z'}, {'id': 'da478708-4378-4ad4-8472-a67287444038', 'url': 'https://i.imgur.com/usCWYcc.jpg', 'normalizedUrl': 'https://imgur.com/usCWYcc', 'thumbnail': 'https://i.imgur.com/usCWYccl.jpg', 'type': 'image/imgur', 'tags': ['ANNOTATED'], 'createdAt': '2019-12-13T07:10:11.293Z', 'updatedAt': '2019-12-13T07:10:11.293Z'}, {'id': 'a8ccc596-853e-444a-9f9d-3ca147035d66', 'url': 'https://i.imgur.com/gHV8l5l.jpg', 'normalizedUrl': 'https://imgur.com/gHV8l5l', 'thumbnail': 'https://i.imgur.com/gHV8l5ll.jpg', 'type': 'image/imgur', 'tags': ['ANNOTATED'], 'createdAt': '2019-12-13T07:10:11.293Z', 'updatedAt': '2019-12-13T07:10:11.293Z'}, {'id': '4908ff33-561d-418c-a390-7d0b95d72b47', 'url': 'https://i.imgur.com/dK9KOdY.jpg', 'normalizedUrl': 'https://imgur.com/dK9KOdY', 'thumbnail': 'https://i.imgur.com/dK9KOdYl.jpg', 'type': 'image/imgur', 'tags': ['ANNOTATED'], 'createdAt': '2019-12-13T07:10:11.293Z', 'updatedAt': '2019-12-13T07:10:11.293Z'}], 'reactions': [{'id': '286f599c-f86a-4932-82f0-f5a06f1eca03', 'count': 7}], 'hidden': False, 'customStyle': None, 'isSuspiciousAccount': False, 'layout': 'classic', 'withImages': True, 'withVideos': False, 'media': [{'url': 'https://i.imgur.com/vCvMufi.jpg'}, {'url': 'https://i.imgur.com/usCWYcc.jpg'}, {'url': 'https://i.imgur.com/gHV8l5l.jpg'}, {'url': 'https://i.imgur.com/dK9KOdY.jpg'}], 'reportReasonText': '', 'postAvatar': ''}]\n30\n"
    }
   ],
   "source": [
    "# 1. 這個 API 一次會回傳幾筆資料？每一筆資料包含哪些欄位？\n",
    "import requests\n",
    "import json\n",
    "r=requests.get('https://www.dcard.tw/_api/forums/pet/posts?popular=true')\n",
    "data=json.loads(r.text)\n",
    "print(data)\n",
    "i=0\n",
    "for d in data:\n",
    "    i+=1\n",
    "print(i)"
   ]
  },
  {
   "cell_type": "code",
   "execution_count": 9,
   "metadata": {},
   "outputs": [
    {
     "name": "stdout",
     "output_type": "stream",
     "text": "自己的玩具自己收 2019-12-13T07:29:01.856Z 27 931\n霸氣貓出巡啦😼😼 2019-12-13T03:35:45.932Z 8 302\n⭐️養一隻緬因貓是什麼感覺⭐️ 2019-12-13T08:26:49.371Z 5 225\n橘貓控請進~ 2019-12-13T08:50:29.624Z 16 162\n跟貓貓狗狗來一場交換禮物派對🎉 2019-12-13T01:56:18.522Z 0 108\n我的原則很簡單，有貓就是買爆 2019-12-13T10:28:23.680Z 20 100\n18歲雪納瑞還有多少明天 2019-12-13T18:28:25.842Z 5 83\n大哥你的倉鼠交出來！！ 2019-12-13T09:07:00.561Z 0 72\n他養了六年但我養八年了 2019-12-13T13:39:09.131Z 5 54\n脖子？ 2019-12-13T09:40:15.330Z 2 38\n分享：貓瘟5日療程 2019-12-13T07:36:00.733Z 0 34\n#急 #嘉義 疑似走失的柯基 2019-12-13T03:39:35.139Z 6 25\n台中南區 狗 協尋 2019-12-14T08:40:14.301Z 1 24\n每天被我黑的貓 2019-12-13T07:03:13.502Z 2 24\n好想吃大福 2019-12-13T14:19:00.776Z 3 22\n#貓 無法抵盪的肉球/肉掌照們 2019-12-13T04:29:05.341Z 12 22\n兩個月半柴寶貝🐶 2019-12-13T08:23:30.520Z 3 21\n愛貓貓來哦 2019-12-14T02:52:13.001Z 0 18\n當貓咪的生活 2019-12-14T06:21:33.399Z 2 15\n我的小刺蝟 2019-12-14T09:09:20.390Z 0 12\n養狗前請要做功課 2019-12-13T20:02:37.147Z 6 12\n怎麼教小貓收抓子 2019-12-13T04:01:49.974Z 4 10\n又來曬貓了！ 2019-12-13T14:18:03.885Z 4 9\n刺蝟日常 2019-12-13T06:39:08.299Z 0 9\n老鼠給你們養真可憐 2019-12-14T07:11:15.809Z 17 8\n悲劇！家貓被剪耳剃毛挨告不起訴 2019-12-13T21:32:18.181Z 5 8\n原來我養的是猴子呀😳 2019-12-14T06:16:19.442Z 2 7\n高難度瑜伽🧘‍♀️ 2019-12-13T17:57:42.041Z 0 7\n我家有自拍高手？！！！！ 2019-12-13T14:59:22.155Z 0 7\n貓咪喜歡尿棉被 2019-12-13T07:10:11.293Z 6 7\n"
    }
   ],
   "source": [
    "# 2. 取出每一筆資料的「標題」、「貼文時間」、「留言人數」、「按讚人數」\n",
    "for d in data:\n",
    "    print(d['title'],d['createdAt'],d['commentCount'],d['likeCount'])"
   ]
  },
  {
   "cell_type": "code",
   "execution_count": 8,
   "metadata": {},
   "outputs": [
    {
     "name": "stdout",
     "output_type": "stream",
     "text": "平均留言人數 5.366666666666666 \n 平均按讚人數 79.2\n"
    }
   ],
   "source": [
    "# 3. 計算熱門/非熱門文章的「平均留言人數」與「平均按讚人數」\n",
    "avecomment=[]\n",
    "avelike=[]\n",
    "for d in data:\n",
    "    avecomment.append(d['commentCount'])\n",
    "    avelike.append(d['likeCount'])\n",
    "print('平均留言人數',sum(avecomment)/len(avecomment),'\\n','平均按讚人數',sum(avelike)/len(avelike))\n"
   ]
  },
  {
   "cell_type": "code",
   "execution_count": null,
   "metadata": {},
   "outputs": [],
   "source": []
  },
  {
   "cell_type": "code",
   "execution_count": null,
   "metadata": {},
   "outputs": [],
   "source": []
  }
 ],
 "metadata": {
  "kernelspec": {
   "display_name": "Python 3",
   "language": "python",
   "name": "python3"
  },
  "language_info": {
   "codemirror_mode": {
    "name": "ipython",
    "version": 3
   },
   "file_extension": ".py",
   "mimetype": "text/x-python",
   "name": "python",
   "nbconvert_exporter": "python",
   "pygments_lexer": "ipython3",
   "version": "3.7.4"
  }
 },
 "nbformat": 4,
 "nbformat_minor": 2
}
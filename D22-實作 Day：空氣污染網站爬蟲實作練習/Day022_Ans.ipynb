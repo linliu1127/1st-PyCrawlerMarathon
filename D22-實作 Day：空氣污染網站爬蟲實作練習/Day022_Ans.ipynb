{
 "cells": [
  {
   "cell_type": "markdown",
   "metadata": {},
   "source": [
    "# 空氣污染監測網 網路爬蟲實作練習\n",
    "\n",
    "\n",
    "* 能夠利用 selenium + BeautifulSoup 撰寫爬蟲，並存放到合適的資料結構\n"
   ]
  },
  {
   "cell_type": "markdown",
   "metadata": {},
   "source": [
    "## 作業目標\n",
    "\n",
    "根據範例 ，完成以下問題：\n",
    "\n",
    "* ① 取出 台北市士林區 2018/01 – 2018/08 的 SO2 資料\n",
    "* ② 取出 台北市士林區 2018/01 – 2018/08 的 SO2、CO 資料\n",
    "\n",
    "\n",
    "\n"
   ]
  },
  {
   "cell_type": "markdown",
   "metadata": {},
   "source": [
    "### ① 取出 台北市士林區 2018/01 – 2018/08 的 SO2 資料"
   ]
  },
  {
   "cell_type": "code",
   "execution_count": 2,
   "metadata": {},
   "outputs": [],
   "source": [
    "# 台北市士林區 2018/01 – 2018/08 （參考 Day19 程式）\n",
    "\n",
    "from selenium import webdriver\n",
    "from selenium.webdriver.support.ui import Select\n",
    "from bs4 import BeautifulSoup\n",
    "\n",
    "browser = webdriver.Chrome(executable_path=\"C:/Users/Username/Desktop/program/python/1st-PyCrawlerMarathon/chromedriver\")\n",
    "browser.get(\"http://taqm.epa.gov.tw/taqm/tw/MonthlyAverage.aspx\")\n",
    "\n",
    "selectYear = Select(browser.find_element_by_id(\"ctl05_ddlYear\"))\n",
    "selectYear.select_by_value('2018')\n",
    "\n",
    "browser.find_element_by_id('ctl05_btnQuery').click()"
   ]
  },
  {
   "cell_type": "code",
   "execution_count": 3,
   "metadata": {},
   "outputs": [
    {
     "data": {
      "text/plain": "d>2018/02</td><td>19.43</td><td>&nbsp;</td>\\n\\t\\t</tr><tr style=\"color:Black;\">\\n\\t\\t\\t<td>2018/03</td><td>18.50</td><td>&nbsp;</td>\\n\\t\\t</tr><tr class=\"ALT\" style=\"color:Black;\">\\n\\t\\t\\t<td>2018/04</td><td>15.24</td><td>&nbsp;</td>\\n\\t\\t</tr><tr style=\"color:Black;\">\\n\\t\\t\\t<td>2018/05</td><td>15.20</td><td>&nbsp;</td>\\n\\t\\t</tr><tr class=\"ALT\" style=\"color:Black;\">\\n\\t\\t\\t<td>2018/06</td><td>13.79</td><td>&nbsp;</td>\\n\\t\\t</tr><tr style=\"color:Black;\">\\n\\t\\t\\t<td>2018/07</td><td>11.60</td><td>&nbsp;</td>\\n\\t\\t</tr><tr class=\"ALT\" style=\"color:Black;\">\\n\\t\\t\\t<td>2018/08</td><td>14.75</td><td>&nbsp;</td>\\n\\t\\t</tr><tr style=\"color:Black;\">\\n\\t\\t\\t<td>2018/09</td><td>12.40</td><td>&nbsp;</td>\\n\\t\\t</tr><tr class=\"ALT\" style=\"color:Black;\">\\n\\t\\t\\t<td>2018/10</td><td>12.45</td><td>&nbsp;</td>\\n\\t\\t</tr><tr style=\"color:Black;\">\\n\\t\\t\\t<td>2018/11</td><td>13.41</td><td>&nbsp;</td>\\n\\t\\t</tr><tr class=\"ALT\" style=\"color:Black;\">\\n\\t\\t\\t<td>2018/12</td><td>14.56</td><td>&nbsp;</td>\\n\\t\\t</tr><tr style=\"color:Black;\">\\n\\t\\t\\t<td class=\"no-alt\" rowspan=\"12\" valign=\"top\" style=\"white-space:nowrap;\">NO</td><td class=\"no-alt\" rowspan=\"12\" valign=\"top\">ppb</td><td>2018/01</td><td>3.41</td><td>&nbsp;</td>\\n\\t\\t</tr><tr class=\"ALT\" style=\"color:Black;\">\\n\\t\\t\\t<td>2018/02</td><td>4.48</td><td>&nbsp;</td>\\n\\t\\t</tr><tr style=\"color:Black;\">\\n\\t\\t\\t<td>2018/03</td><td>4.93</td><td>&nbsp;</td>\\n\\t\\t</tr><tr class=\"ALT\" style=\"color:Black;\">\\n\\t\\t\\t<td>2018/04</td><td>2.60</td><td>&nbsp;</td>\\n\\t\\t</tr><tr style=\"color:Black;\">\\n\\t\\t\\t<td>2018/05</td><td>2.26</td><td>&nbsp;</td>\\n\\t\\t</tr><tr class=\"ALT\" style=\"color:Black;\">\\n\\t\\t\\t<td>2018/06</td><td>2.41</td><td>&nbsp;</td>\\n\\t\\t</tr><tr style=\"color:Black;\">\\n\\t\\t\\t<td>2018/07</td><td>2.68</td><td>&nbsp;</td>\\n\\t\\t</tr><tr class=\"ALT\" style=\"color:Black;\">\\n\\t\\t\\t<td>2018/08</td><td>2.68</td><td>&nbsp;</td>\\n\\t\\t</tr><tr style=\"color:Black;\">\\n\\t\\t\\t<td>2018/09</td><td>2.41</td><td>&nbsp;</td>\\n\\t\\t</tr><tr class=\"ALT\" style=\"color:Black;\">\\n\\t\\t\\t<td>2018/10</td><td>2.13</td><td>&nbsp;</td>\\n\\t\\t</tr><tr style=\"color:Black;\">\\n\\t\\t\\t<td>2018/11</td><td>2.71</td><td>&nbsp;</td>\\n\\t\\t</tr><tr class=\"ALT\" style=\"color:Black;\">\\n\\t\\t\\t<td>2018/12</td><td>3.42</td><td>&nbsp;</td>\\n\\t\\t</tr><tr style=\"color:Black;\">\\n\\t\\t\\t<td class=\"no-alt\" rowspan=\"12\" valign=\"top\" style=\"white-space:nowrap;\">NO2</td><td class=\"no-alt\" rowspan=\"12\" valign=\"top\">ppb</td><td>2018/01</td><td>10.77</td><td>&nbsp;</td>\\n\\t\\t</tr><tr class=\"ALT\" style=\"color:Black;\">\\n\\t\\t\\t<td>2018/02</td><td>14.95</td><td>&nbsp;</td>\\n\\t\\t</tr><tr style=\"color:Black;\">\\n\\t\\t\\t<td>2018/03</td><td>13.56</td><td>&nbsp;</td>\\n\\t\\t</tr><tr class=\"ALT\" style=\"color:Black;\">\\n\\t\\t\\t<td>2018/04</td><td>12.64</td><td>&nbsp;</td>\\n\\t\\t</tr><tr style=\"color:Black;\">\\n\\t\\t\\t<td>2018/05</td><td>12.94</td><td>&nbsp;</td>\\n\\t\\t</tr><tr class=\"ALT\" style=\"color:Black;\">\\n\\t\\t\\t<td>2018/06</td><td>11.38</td><td>&nbsp;</td>\\n\\t\\t</tr><tr style=\"color:Black;\">\\n\\t\\t\\t<td>2018/07</td><td>8.92</td><td>&nbsp;</td>\\n\\t\\t</tr><tr class=\"ALT\" style=\"color:Black;\">\\n\\t\\t\\t<td>2018/08</td><td>12.08</td><td>&nbsp;</td>\\n\\t\\t</tr><tr style=\"color:Black;\">\\n\\t\\t\\t<td>2018/09</td><td>10</td><td>&nbsp;</td>\\n\\t\\t</tr><tr class=\"ALT\" style=\"color:Black;\">\\n\\t\\t\\t<td>2018/10</td><td>10.33</td><td>&nbsp;</td>\\n\\t\\t</tr><tr style=\"color:Black;\">\\n\\t\\t\\t<td>2018/11</td><td>10.71</td><td>&nbsp;</td>\\n\\t\\t</tr><tr class=\"ALT\" style=\"color:Black;\">\\n\\t\\t\\t<td>2018/12</td><td>11.15</td><td>&nbsp;</td>\\n\\t\\t</tr><tr style=\"color:Black;\">\\n\\t\\t\\t<td class=\"no-alt\" rowspan=\"1\" valign=\"top\" style=\"white-space:nowrap;\">THC</td><td class=\"no-alt\" rowspan=\"1\" valign=\"top\">ppm</td><td>&nbsp;</td><td>&nbsp;</td><td>無此測項</td>\\n\\t\\t</tr><tr class=\"ALT\" style=\"color:Black;\">\\n\\t\\t\\t<td class=\"no-alt\" rowspan=\"1\" valign=\"top\" style=\"white-space:nowrap;\">NMHC</td><td class=\"no-alt\" rowspan=\"1\" valign=\"top\">ppm</td><td>&nbsp;</td><td>&nbsp;</td><td>無此測項</td>\\n\\t\\t</tr><tr style=\"color:Black;\">\\n\\t\\t\\t<td style=\"white-space:nowrap;\">CH4</td><td>ppm</td><td>&nbsp;</td><td>&nbsp;</td><td>無此測項</td>\\n\\t\\t</tr>\\n\\t</tbody></table>\\n</div>\\n</div>\\n<!-- -->    \\n    </div>    \\n</div>\\n\\n\\n<script type=\"text/javascript\" language=\"javascript\">\\n<!--\\nfunction __beginRequest() {\\n    $(\\'#ctl05_gv\\').hide(50);\\n    $(\\'#ctl05_btnQuery\\').hide();\\n}\\nfunction __endRequest() {\\n}\\n-->    \\n</script>\\n<noscript>您的瀏覽器不支援script!</noscript><p class=\"footText\"></p>\\n  </div>    \\n</div>\\n<div style=\"text-align:center;clear:both\"><a href=\"javascript:window.scrollTo(0,0);\"><img src=\"resource/top.gif\" alt=\"上頁\" style=\"border:0px;\"></a></div>\\n<img src=\"../resource/pixel.gif\" style=\"width:590px;height:1px;\" alt=\"layout\">\\n<!-- CONTENT END -->\\n\\n<!-- main-wrapper --></div>\\n</td>\\n\\n<td style=\"width:180px\" class=\"td_valign_top\"><div id=\"sidebar-wrapper\"><!-- sidebar-wrapper -->\\n<a accesskey=\"R\" class=\"access\" href=\"SiteMap.aspx\" title=\"右側即時資訊\"> ::: </a>\\n<a href=\"https://airtw.epa.gov.tw\" target=\"_blank\" title=\"新版空氣品質監測網\" onclick=\"gtag(\\'event\\',\\'新版\\', {\\'event_category\\': \\'airtw\\'});\"><img src=\"/taqm/resource/AD_w174.png\" title=\"新版空氣品質監測網\" style=\"padding-left:2px;\"></a>\\n<!-- BOX START -->\\n<table data-summary=\"layout\" class=\"box\"><tbody>\\n              <tr>\\n                <td class=\"up-left\"></td>\\n                <td class=\"up\"></td>\\n                <td class=\"up-right\"></td></tr>\\n              <tr>\\n                <td class=\"left\"></td>\\n                <td class=\"content\">\\n<!-- CONTENT START -->\\n<div class=\"box-title\"><h1 id=\"SearchBox\">全文檢索</h1></div>\\n\\n\\n<div id=\"SearchBox2\">\\n<label for=\"SearchBox1_txtKeyword\" accesskey=\"S\"></label>\\n<input name=\"SearchBox1$txtKeyword\" type=\"text\" id=\"SearchBox1_txtKeyword\" style=\"width:100px;\">\\n<input type=\"submit\" name=\"SearchBox1$btnSubmit\" value=\"\" id=\"SearchBox1_btnSubmit\" class=\"button-search\"><br><img src=\"../resource/small-logo.png\" alt=\"google search\" style=\"float:right;\">\\n</div>\\n<script type=\"text/javascript\">\\n<!--\\n$(document).ready(function(){\\n    $(\\'#SearchBox1_txtKeyword\\').keypress(txtKeyword_onkeypress);\\n})\\nfunction txtKeyword_onkeypress(e) {\\n\\tvar iKeyCode = 0;\\n\\tif (window.event)\\n       iKeyCode = window.event.keyCode\\n\\telse if (e)\\n       iKeyCode = e.which; \\n\\n\\tif ( iKeyCode==13 ) \\n\\t    $(\\'#SearchBox1_btnSubmit\\').click();\\n\\t\\n\\t//return false;\\n}\\n-->\\n</script>\\n<!-- CONTENT END --></td>\\n                <td class=\"right\"></td></tr>\\n              <tr>\\n                <td class=\"down-left\"></td>\\n                <td class=\"down\"></td>\\n                <td class=\"down-right\"></td></tr>\\n</tbody></table>\\n<!-- BOX END -->\\n\\n<!-- BOX START -->\\n<table data-summary=\"layout\" class=\"box\"><tbody>\\n              <tr>\\n                <td class=\"up-left\"></td>\\n                <td class=\"up\"></td>\\n                <td class=\"up-right\"></td></tr>\\n              <tr>\\n                <td class=\"left\"></td>\\n                <td class=\"content\">\\n<!-- CONTENT START -->\\n<div class=\"box-title\"><h1 id=\"QuickLink\">快速連結</h1></div>\\n                    <div id=\"QuickLink1\" class=\"LinkBox\"> \\n<div class=\"toggler level0\" id=\"UiModule_QuickLink_QuickLink_0\">測站地圖資訊</div>\\n<div class=\"accordion\">\\n<div class=\"link-item\"><a href=\"https://taqm.epa.gov.tw/taqm/tw/AqiSiteMap.aspx\" title=\"顯示「測站資訊」\">測站資訊</a></div>\\n<div class=\"link-item\"><a href=\"https://airtw.epa.gov.tw\" target=\"_blank\" title=\"另開視窗顯示「新版空氣品質監測網<img src=&quot;/taqm/resource/new-flashing.gif&quot; />」\">新版空氣品質監測網<img src=\"/taqm/resource/new-flashing.gif\"></a></div>\\n</div>\\n<div class=\"toggler level0\" id=\"UiModule_QuickLink_QuickLink_1\">空氣品質指標 </div>\\n<div class=\"accordion\">\\n<div class=\"link-item\"><a href=\"https://taqm.epa.gov.tw/taqm/tw/AqiMap.aspx\" title=\"顯示「空氣品質指標」\">空氣品質指標</a></div>\\n<div class=\"link-item\"><a href=\"https://taqm.epa.gov.tw/taqm/tw/AqiForecast.aspx\" title=\"顯示「空氣品質預報」\">空氣品質預報</a></div>\\n<div class=\"link-item\"><a href=\"https://www.cwb.gov.tw/V8/C/W/OBS_UVI.html\" target=\"_blank\" title=\"另開視窗顯示「紫外線現況」\">紫外線現況</a></div>\\n<div class=\"link-item\"><a href=\"https://www.cwb.gov.tw/V8/C/W/MFC_UVI_Map.html\" target=\"_blank\" title=\"另開視窗顯示「紫外線預報」\">紫外線預報</a></div>\\n<div class=\"link-item\"><a href=\"https://taqm.epa.gov.tw/taqm/tw/PollutantMap.aspx\" title=\"顯示「即時濃度動態顯示」\">即時濃度動態顯示</a></div>\\n<div class=\"link-item\"><a href=\"https://taqm.epa.gov.tw/taqm/tw/b0901-2.aspx\" title=\"顯示「世界各地空氣品質現況」\">世界各地空氣品質現況</a></div>\\n</div>\\n</div> \\n\\n\\n<!-- CONTENT END --></td>\\n                <td class=\"right\"></td></tr>\\n              <tr>\\n                <td class=\"down-left\"></td>\\n                <td class=\"down\"></td>\\n                <td class=\"down-right\"></td></tr>\\n</tbody></table>\\n<!-- BOX END -->\\n\\n\\n<!-- BOX START -->\\n<table data-summary=\"layout\" class=\"box\"><tbody>\\n              <tr>\\n                <td class=\"up-left\"></td>\\n                <td class=\"up\"></td>\\n                <td class=\"up-right\"></td></tr>\\n              <tr>\\n                <td class=\"left\"></td>\\n                <td class=\"content\">\\n<!-- CONTENT START -->\\n<div class=\"box-title\"><h1 id=\"WebCam\">測站周圍影像</h1></div>\\n\\n<div id=\"imgstore\"> \\n<img src=\"//taqm.epa.gov.tw/taqm/webcam.ashx?type=s&amp;site=84\" alt=\"\" id=\"imgBox\" style=\"cursor: pointer; width: 160px; height: 120px; opacity: 1;\">\\n<select id=\"WebCamBox_Imgs\" style=\"font-size:12pt;width:160px;\"><option value=\"ALL|default\">(全覽)</option><option value=\"84|FugueiCape\" selected=\"selected\">富貴角 (AQI=98)</option><option value=\"64|Yangming\">陽明 (AQI=87)</option><option value=\"3|Wanli\">萬里 (AQI=95)</option><option value=\"1|Keelung\">基隆 (AQI=97)</option><option value=\"11|Shilin\">士林 (AQI=97)</option><option value=\"9|Linkou\">林口 (AQI=109)</option><option value=\"2|Xizhi\">汐止 (AQI=104)</option><option value=\"18|Dayuan\">大園 (AQI=111)</option><option value=\"13|Wanhua\">萬華 (AQI=88)</option><option value=\"7|Xinzhuang\">新莊 (AQI=121)</option><option value=\"19|Guanyin\">觀音 (AQI=99)</option><option value=\"70|Yonghe\">永和 (AQI=93)</option><option value=\"17|Taoyuan\">桃園 (AQI=111)</option><option value=\"4|Xindian\">新店 (AQI=84)</option><option value=\"68|Zhongli\">中壢 (AQI=106)</option><option value=\"27|Sanyi\">三義 (AQI=78)</option><option value=\"28|Fengyuan\">豐原 (AQI=61)</option><option value=\"29|Shalu\">沙鹿 (AQI=86)</option><option value=\"32|Xitun\">西屯 (AQI=76)</option><option value=\"31|Zhongming\">忠明 (AQI=71)</option><option value=\"34|Xianxi\">線西 (AQI=86)</option><option value=\"72|Puli\">埔里 (AQI=75)</option><option value=\"35|Erlin\">二林 (AQI=87)</option><option value=\"36|Nantou\">南投 (AQI=81)</option><option value=\"69|Zhushan\">竹山 (AQI=76)</option><option value=\"38|Lunbei\">崙背 (AQI=92)</option><option value=\"83|Mailiao\">麥寮 (AQI=97)</option><option value=\"41|Taixi\">臺西 (AQI=107)</option><option value=\"37|Douliu\">斗六 (AQI=87)</option><option value=\"39|Xingang\">新港 (AQI=91)</option><option value=\"40|Puzi\">朴子 (AQI=88)</option><option value=\"42|Chiayi\">嘉義 (AQI=106)</option><option value=\"43|Xinying\">新營 (AQI=93)</option><option value=\"44|Shanhua\">善化 (AQI=99)</option><option value=\"45|Annan\">安南 (AQI=91)</option><option value=\"47|Meinong\">美濃 (AQI=76)</option><option value=\"48|Qiaotou\">橋頭 (AQI=101)</option><option value=\"49|Renwu\">仁武 (AQI=91)</option><option value=\"50|Fengshan\">鳳山 (AQI=73)</option><option value=\"57|Qianzhen\">前鎮 (AQI=81)</option><option value=\"58|Xiaogang\">小港 (AQI=82)</option><option value=\"51|Daliao\">大寮 (AQI=92)</option><option value=\"60|Chaozhou\">潮州 (AQI=101)</option><option value=\"52|Linyuan\">林園 (AQI=85)</option><option value=\"61|Hengchun\">恆春 (AQI=64)</option><option value=\"65|Yilan\">宜蘭 (AQI=76)</option><option value=\"66|Dongshan\">冬山 (AQI=84)</option><option value=\"63|Hualien\">花蓮 (AQI=62)</option><option value=\"80|Guanshan\">關山 (AQI=65)</option><option value=\"62|Taitung\">臺東 (AQI=66)</option><option value=\"75|Matsu\">馬祖 (AQI=107)</option><option value=\"77|Kinmen\">金門 (AQI=97)</option><option value=\"78|Magong\">馬公 (AQI=87)</option><option value=\"204|Car4\">屏東(琉球) (AQI=92)</option><option value=\"303|EPA\">環保署大樓 (攝影機)</option><option value=\"401|EBAM401\">臺東仁愛 (河川揚塵)</option><option value=\"404|EBAM404\">雲林旭光 (河川揚塵)</option><option value=\"413|EBAM413\">高雄大樹 (河川揚塵)</option></select>\\n<div id=\"showhere\"></div>\\n<script type=\"text/javascript\">\\n    var urlBase = \"/taqm/tw/WebCam/\";\\n    var urlImage = \"//taqm.epa.gov.tw/taqm/webcam.ashx?type=s&site=\";\\n    var TIME_OUT = 4000;\\n    var TIMER_ID = null;\\n    function getUrl() {\\n        var url = \"\";\\n        var params = $(\"#WebCamBox_Imgs\").val().split(\"|\");\\n        if (params.length==2) \\n            url = params[0]; // + \"&ts=\" + (new Date().getTime());\\n            \\n        return urlImage + url;\\n    }\\n    \\n    $(document).ready(function() {\\n    \\tdocument.getElementById(\"imgBox\").onerror = function() { \\n            if ( TIMER_ID != null ) window.clearTimeout(TIMER_ID);\\n            $(\"#imgstore\").hide();\\n    \\t}; \\n    \\t\\n        // 載入資料\\n        $.get(\"../aqs.ashx?act=WebCamBox&lang=tw\", function (data) {\\n            if ( data.Result == \"ok\" ) {\\n                $(data.Data).each(function( index ) {\\n                  addWebcam(this);\\n                });    \\n                \\n                fnNext();\\n            } // if\\n            else {\\n                if (window.console) console.log(data.Message)\\n            } // else\\n        });   \\n    \\n    });\\n    \\n    function addWebcam(data) {\\n        $(\"#WebCamBox_Imgs\").append($(\"<option></option>\").attr(\"value\", data.SiteId+\"|\"+data.SiteKey).text(data.SiteText));\\n    }\\n    \\n    function fnNext() {\\n        // NEXT\\n        var v1 = $(\"#WebCamBox_Imgs\").val();\\n        $(\\'#WebCamBox_Imgs option:selected\\').next().attr(\\'selected\\', \\'selected\\');\\n        var v2 = $(\"#WebCamBox_Imgs\").val();\\n        if ( v1 == v2 ) $(\\'#WebCamBox_Imgs option:first\\').next().attr(\\'selected\\', \\'selected\\');\\n        \\n        show();\\n        \\n    }\\n    \\nfunction show() {\\n    if ( TIMER_ID != null ) window.clearTimeout(TIMER_ID);\\n    \\n    $(\"#imgBox\").fadeTo(1000,0.30, function() {\\n      $(\"#imgBox\").attr(\"src\",getUrl());\\n      TIMER_ID = window.setTimeout(fnNext, TIME_OUT);\\n    }).fadeTo(500,1);\\n}    \\n\\n\\n$(\"#imgBox\").click(function() {\\n    goPage();\\n});\\n    \\n$(\"#WebCamBox_Imgs\").change(function(){\\n    var $me = $(this);\\n    var selectIndex = $me.find(\":selected\").index();\\n    \\n    if ( selectIndex == 0 )\\n        goPage();\\n    else\\n        show();\\n});\\n\\nfunction goPage() {\\n    var params = $(\"#WebCamBox_Imgs\").val().split(\"|\");\\n    var url = urlBase;\\n    if (params.length==2)\\n        url += (params[1] + \".aspx\");\\n    else\\n        url += \"default.aspx\";\\n\\n    document.location.href = url;\\n}\\n\\n</script>\\n</div>\\n\\n\\n\\n<!-- CONTENT END --></td>\\n                <td class=\"right\"></td></tr>\\n              <tr>\\n                <td class=\"down-left\"></td>\\n                <td class=\"down\"></td>\\n                <td class=\"down-right\"></td></tr>\\n</tbody></table>\\n<!-- BOX END -->\\n\\n<!-- BOX START -->\\n<table id=\"YoutubeForecast_box\" data-summary=\"layout\" class=\"box\"><tbody>\\n              <tr>\\n                <td class=\"up-left\"></td>\\n                <td class=\"up\"></td>\\n                <td class=\"up-right\"></td></tr>\\n              <tr>\\n                <td class=\"left\"></td>\\n                <td class=\"content\">\\n<!-- CONTENT START -->\\n<div class=\"box-title\"><h1 id=\"H1\">空品影音播報</h1></div>\\n<div id=\"YoutubeForecast\"><iframe width=\"160\" height=\"100\" src=\"https://www.youtube.com/embed/Cmg60wkSi58\" frameborder=\"0\" title=\"YouTube video player\" allowfullscreen=\"1\"></iframe></div>\\n<!-- CONTENT END --></td>\\n                <td class=\"right\"></td></tr>\\n              <tr>\\n                <td class=\"down-left\"></td>\\n                <td class=\"down\"></td>\\n                <td class=\"down-right\"></td></tr>\\n</tbody></table>\\n<!-- BOX END -->\\n\\n<!-- sidebar-wrapper -->\\n</div>\\n</td></tr></tbody></table>\\n\\n\\n\\n<!-- content-wrapper --></div>\\n<div id=\"footer\">10042臺北市中正區中華路一段83號 <a href=\"https://www.epa.gov.tw/Page/48C86940400163DD\" target=\"_blank\" title=\"地圖\">地圖</a>  總機：886-2-23117722<br>\\n版權所有 行政院環境保護署<br>建議螢幕最佳解析度1024*768<br>\\n<a href=\"https://www.epa.gov.tw/Page/41156C14CC997554\" target=\"_blank\" title=\"隱私權保護政策\">隱私權保護政策</a>    \\n<a href=\"https://www.epa.gov.tw/Page/93E745565929795D\" target=\"_blank\" title=\"網站安全政策\">網站安全政策</a>    \\n<a href=\"https://www.epa.gov.tw/Page/981903047CA6500B\" target=\"_blank\" title=\"資訊安全規範\">資訊安全規範</a>    \\n<a href=\"https://www.epa.gov.tw/Page/A33D3A6556ABFCD2\" target=\"_blank\" title=\"網站資料開放宣告\">網站資料開放宣告</a>\\n</div>\\n<!-- outer-wrapper --></div>\\n    \\n\\n<script type=\"text/javascript\">\\n//<![CDATA[\\nSys.Application.initialize();\\nSys.Application.add_init(function() {\\n    $create(Sys.UI._UpdateProgress, {\"associatedUpdatePanelId\":null,\"displayAfter\":500,\"dynamicLayout\":true}, null, null, $get(\"ctl05_UpdateProgress1\"));\\n});\\n//]]>\\n</script>\\n</form>\\n<script type=\"text/javascript\">\\n$(document).ready(function(){\\n    $(\\'#content table.ALT_TABLE_EVENT tr:even\\').addClass(\\'ALT\\');\\n    $(\\'#content table.ALT_TABLE_ODD tr:odd\\').addClass(\\'ALT\\');\\n\\t\\n//$(\"<li id=\\'mz\\'><a href=\\'https://ienv.epa.gov.tw/WoT/\\' target=\\'_blank\\' title=\\'另開視窗顯示網頁\\' ><span>...<small></span></a></li>\").appendTo(\"#tabsJ ul\");\\t\\n\\t\\n  \\n    $.get(\"../aqs.ashx?act=YoutubeForecast&lang=tw\", function (data) {\\n\\t\\ttry {\\n        if ( data.length == 0 )\\n            $(\"#YoutubeForecast_box\").hide();\\n        else\\n            $(\"#YoutubeForecast\").html(data);\\n\\t\\t} catch (e) {$(\"#YoutubeForecast_box\").hide();}\\t\\n    });\\n\\t\\n    $.get(\"../aqs.ashx?act=forecast-publish-time&lang=tw\", function (json) {\\n\\t\\ttry {\\n\\t\\t    if ( json.Result == \"ok\" ) {\\n\\t\\t        var FPT1 = new Date(json.Data[0].ForecastPublishTime)\\n\\t\\t        var FPT2 = FPT1.addHours(1);\\n\\t\\t        var NOW = new Date();\\n\\t\\t        //console.log(FPT1,FPT2,NOW);\\n\\t\\t        if ( (NOW>=FPT1) && (NOW<=FPT2) )\\n\\t\\t            $(\"#tabsJ a[href=\\'AqiForecast.aspx\\']>span\").append(\"<img src=\\'../resource/new-flashing.gif\\' />\")\\n            } // if\\n\\t\\t} catch (e) {}\\t\\n    });   \\n\\t\\n   $.get(\"../aqs.ashx?act=aqinews-publish-time&lang=tw\", function (json) {\\n\\t\\ttry {\\n\\t\\t    if ( json.Result == \"ok\" ) {\\n\\t\\t        var FPT1 = new Date(json.Data[0].PublishTime)\\n\\t\\t        var FPT2 = FPT1.addHours(1);\\n\\t\\t        var NOW = new Date();\\n\\t\\t        //console.log(FPT1,FPT2,NOW);\\n\\t\\t        if ( (NOW>=FPT1) && (NOW<=FPT2) )\\n\\t\\t            $(\"#tabsJ a[href=\\'AqiNews.aspx\\']>span\").append(\"<img src=\\'../resource/new-flashing.gif\\' />\")\\n            } // if\\n\\t\\t} catch (e) {}\\t\\n    });      \\t\\n\\t\\n    if ( $(\"iframe\").length == 1 ) {\\n\\t\\tvar src = $(\"iframe\").attr(\"src\");\\n        if ((src.indexOf(\"aqi-map.aspx\") != -1)||(src.indexOf(\"aqi-tgos.aspx\") != -1)) {\\n\\t\\t\\tvar xs = 3532;\\n            //if ( window.console) console.log(\"reload\",Math.round(xs/60));\\n            window.setTimeout(reloadPage,xs*1000);\\n            __RELOAD_TIME__ = new Date((new Date()).getTime() + xs*1000);\\n            window.setInterval(checkReloadPage, 60000);\\n        } // if\\n    } // if\\n});\\n\\nvar __RELOAD_TIME__ = null;\\nfunction checkReloadPage() {\\n    if ( __RELOAD_TIME__ == null ) return;\\n\\t//if ( window.console) console.log(\"checkReloadPage\", __RELOAD_TIME__);\\n    if ( (new Date()) >= __RELOAD_TIME__ )  reloadPage();\\n}\\n\\nfunction reloadPage() {    \\n\\t(window.parent.document||document).location.reload(true);\\n}\\n\\nDate.prototype.addHours = function (num) {\\n    var value = this.valueOf();\\n    value += 3600000 * num;\\n    return new Date(value);\\n}\\n\\nSys.WebForms.PageRequestManager.getInstance().add_beginRequest(_beginRequest);\\nfunction _beginRequest(sender, args) {\\n    if ( typeof(__beginRequest) == \\'function\\' ) { __beginRequest(sender, args); }\\u3000// if\\n}\\nSys.WebForms.PageRequestManager.getInstance().add_endRequest(_endRequest);\\nfunction _endRequest(sender, args) {\\n    if ( typeof(__endRequest) == \\'function\\' ) { __endRequest(sender, args); }\\u3000// if\\n}\\n</script>\\n\\n\\n</body></html>'"
     },
     "execution_count": 3,
     "metadata": {},
     "output_type": "execute_result"
    }
   ],
   "source": [
    "# 取得資料（等瀏覽器資料出現後才執行）\n",
    "html_source = browser.page_source\n",
    "html_source"
   ]
  },
  {
   "cell_type": "code",
   "execution_count": 4,
   "metadata": {},
   "outputs": [],
   "source": [
    "# 關閉瀏覽器\n",
    "browser.close()"
   ]
  },
  {
   "cell_type": "code",
   "execution_count": 5,
   "metadata": {},
   "outputs": [
    {
     "data": {
      "text/plain": "<table align=\"Center\" border=\"1\" cellpadding=\"3\" cellspacing=\"0\" class=\"TABLE_G\" id=\"ctl05_gv\" rules=\"all\" style=\"border-color:Black;border-width:1px;border-style:None;border-collapse:collapse;\">\n<tbody><tr style=\"color:Black;font-weight:normal;\">\n<th scope=\"col\">監測項目</th><th scope=\"col\">單位</th><th scope=\"col\">監測日期</th><th scope=\"col\">監測值</th><th scope=\"col\">標註</th>\n</tr><tr style=\"color:Black;\">\n<td class=\"no-alt\" rowspan=\"12\" style=\"white-space:nowrap;\" valign=\"top\">SO2</td><td class=\"no-alt\" rowspan=\"12\" valign=\"top\">ppb</td><td>2018/01</td><td>1.80</td><td> </td>\n</tr><tr class=\"ALT\" style=\"color:Black;\">\n<td>2018/02</td><td>1.90</td><td> </td>\n</tr><tr style=\"color:Black;\">\n<td>2018/03</td><td>2.20</td><td> </td>\n</tr><tr class=\"ALT\" style=\"color:Black;\">\n<td>2018/04</td><td>2.30</td><td> </td>\n</tr><tr style=\"color:Black;\">\n<td>2018/05</td><td>3.10</td><td> </td>\n</tr><tr class=\"ALT\" style=\"color:Black;\">\n<td>2018/06</td><td>2.70</td><td> </td>\n</tr><tr style=\"color:Black;\">\n<td>2018/07</td><td>2.20</td><td> </td>\n</tr><tr class=\"ALT\" style=\"color:Black;\">\n<td>2018/08</td><td>2.40</td><td> </td>\n</tr><tr style=\"color:Black;\">\n<td>2018/09</td><td>2.10</td><td> </td>\n</tr><tr class=\"ALT\" style=\"color:Black;\">\n<td>2018/10</td><td>1.70</td><td> </td>\n</tr><tr style=\"color:Black;\">\n<td>2018/11</td><td>1.90</td><td> </td>\n</tr><tr class=\"ALT\" style=\"color:Black;\">\n<td>2018/12</td><td>1.80</td><td> </td>\n</tr><tr style=\"color:Black;\">\n<td class=\"no-alt\" rowspan=\"12\" style=\"white-space:nowrap;\" valign=\"top\">CO</td><td class=\"no-alt\" rowspan=\"12\" valign=\"top\">ppm</td><td>2018/01</td><td>0.34</td><td> </td>\n</tr><tr class=\"ALT\" style=\"color:Black;\">\n<td>2018/02</td><td>0.44</td><td> </td>\n</tr><tr style=\"color:Black;\">\n<td>2018/03</td><td>0.40</td><td> </td>\n</tr><tr class=\"ALT\" style=\"color:Black;\">\n<td>2018/04</td><td>0.38</td><td> </td>\n</tr><tr style=\"color:Black;\">\n<td>2018/05</td><td>0.34</td><td> </td>\n</tr><tr class=\"ALT\" style=\"color:Black;\">\n<td>2018/06</td><td>0.29</td><td> </td>\n</tr><tr style=\"color:Black;\">\n<td>2018/07</td><td>0.21</td><td> </td>\n</tr><tr class=\"ALT\" style=\"color:Black;\">\n<td>2018/08</td><td>0.30</td><td> </td>\n</tr><tr style=\"color:Black;\">\n<td>2018/09</td><td>0.26</td><td> </td>\n</tr><tr class=\"ALT\" style=\"color:Black;\">\n<td>2018/10</td><td>0.29</td><td> </td>\n</tr><tr style=\"color:Black;\">\n<td>2018/11</td><td>0.30</td><td> </td>\n</tr><tr class=\"ALT\" style=\"color:Black;\">\n<td>2018/12</td><td>0.35</td><td> </td>\n</tr><tr style=\"color:Black;\">\n<td class=\"no-alt\" rowspan=\"12\" style=\"white-space:nowrap;\" valign=\"top\">O3</td><td class=\"no-alt\" rowspan=\"12\" valign=\"top\">ppb</td><td>2018/01</td><td>33.40</td><td> </td>\n</tr><tr class=\"ALT\" style=\"color:Black;\">\n<td>2018/02</td><td>32.50</td><td> </td>\n</tr><tr style=\"color:Black;\">\n<td>2018/03</td><td>35</td><td> </td>\n</tr><tr class=\"ALT\" style=\"color:Black;\">\n<td>2018/04</td><td>38.40</td><td> </td>\n</tr><tr style=\"color:Black;\">\n<td>2018/05</td><td>31.60</td><td> </td>\n</tr><tr class=\"ALT\" style=\"color:Black;\">\n<td>2018/06</td><td>29.50</td><td> </td>\n</tr><tr style=\"color:Black;\">\n<td>2018/07</td><td>18.70</td><td> </td>\n</tr><tr class=\"ALT\" style=\"color:Black;\">\n<td>2018/08</td><td>26.40</td><td> </td>\n</tr><tr style=\"color:Black;\">\n<td>2018/09</td><td>29.10</td><td> </td>\n</tr><tr class=\"ALT\" style=\"color:Black;\">\n<td>2018/10</td><td>45.90</td><td> </td>\n</tr><tr style=\"color:Black;\">\n<td>2018/11</td><td>32.40</td><td> </td>\n</tr><tr class=\"ALT\" style=\"color:Black;\">\n<td>2018/12</td><td>30.70</td><td> </td>\n</tr><tr style=\"color:Black;\">\n<td class=\"no-alt\" rowspan=\"12\" style=\"white-space:nowrap;\" valign=\"top\">PM10</td><td class=\"no-alt\" rowspan=\"12\" valign=\"top\">μg/m3</td><td>2018/01</td><td>23</td><td> </td>\n</tr><tr class=\"ALT\" style=\"color:Black;\">\n<td>2018/02</td><td>41</td><td> </td>\n</tr><tr style=\"color:Black;\">\n<td>2018/03</td><td>39</td><td> </td>\n</tr><tr class=\"ALT\" style=\"color:Black;\">\n<td>2018/04</td><td>48</td><td> </td>\n</tr><tr style=\"color:Black;\">\n<td>2018/05</td><td>37</td><td> </td>\n</tr><tr class=\"ALT\" style=\"color:Black;\">\n<td>2018/06</td><td>26</td><td> </td>\n</tr><tr style=\"color:Black;\">\n<td>2018/07</td><td>24</td><td> </td>\n</tr><tr class=\"ALT\" style=\"color:Black;\">\n<td>2018/08</td><td>26</td><td> </td>\n</tr><tr style=\"color:Black;\">\n<td>2018/09</td><td>28</td><td> </td>\n</tr><tr class=\"ALT\" style=\"color:Black;\">\n<td>2018/10</td><td>33</td><td> </td>\n</tr><tr style=\"color:Black;\">\n<td>2018/11</td><td>25</td><td> </td>\n</tr><tr class=\"ALT\" style=\"color:Black;\">\n<td>2018/12</td><td>21</td><td> </td>\n</tr><tr style=\"color:Black;\">\n<td class=\"no-alt\" rowspan=\"12\" style=\"white-space:nowrap;\" valign=\"top\">NOx</td><td class=\"no-alt\" rowspan=\"12\" valign=\"top\">ppb</td><td>2018/01</td><td>14.17</td><td> </td>\n</tr><tr class=\"ALT\" style=\"color:Black;\">\n<td>2018/02</td><td>19.43</td><td> </td>\n</tr><tr style=\"color:Black;\">\n<td>2018/03</td><td>18.50</td><td> </td>\n</tr><tr class=\"ALT\" style=\"color:Black;\">\n<td>2018/04</td><td>15.24</td><td> </td>\n</tr><tr style=\"color:Black;\">\n<td>2018/05</td><td>15.20</td><td> </td>\n</tr><tr class=\"ALT\" style=\"color:Black;\">\n<td>2018/06</td><td>13.79</td><td> </td>\n</tr><tr style=\"color:Black;\">\n<td>2018/07</td><td>11.60</td><td> </td>\n</tr><tr class=\"ALT\" style=\"color:Black;\">\n<td>2018/08</td><td>14.75</td><td> </td>\n</tr><tr style=\"color:Black;\">\n<td>2018/09</td><td>12.40</td><td> </td>\n</tr><tr class=\"ALT\" style=\"color:Black;\">\n<td>2018/10</td><td>12.45</td><td> </td>\n</tr><tr style=\"color:Black;\">\n<td>2018/11</td><td>13.41</td><td> </td>\n</tr><tr class=\"ALT\" style=\"color:Black;\">\n<td>2018/12</td><td>14.56</td><td> </td>\n</tr><tr style=\"color:Black;\">\n<td class=\"no-alt\" rowspan=\"12\" style=\"white-space:nowrap;\" valign=\"top\">NO</td><td class=\"no-alt\" rowspan=\"12\" valign=\"top\">ppb</td><td>2018/01</td><td>3.41</td><td> </td>\n</tr><tr class=\"ALT\" style=\"color:Black;\">\n<td>2018/02</td><td>4.48</td><td> </td>\n</tr><tr style=\"color:Black;\">\n<td>2018/03</td><td>4.93</td><td> </td>\n</tr><tr class=\"ALT\" style=\"color:Black;\">\n<td>2018/04</td><td>2.60</td><td> </td>\n</tr><tr style=\"color:Black;\">\n<td>2018/05</td><td>2.26</td><td> </td>\n</tr><tr class=\"ALT\" style=\"color:Black;\">\n<td>2018/06</td><td>2.41</td><td> </td>\n</tr><tr style=\"color:Black;\">\n<td>2018/07</td><td>2.68</td><td> </td>\n</tr><tr class=\"ALT\" style=\"color:Black;\">\n<td>2018/08</td><td>2.68</td><td> </td>\n</tr><tr style=\"color:Black;\">\n<td>2018/09</td><td>2.41</td><td> </td>\n</tr><tr class=\"ALT\" style=\"color:Black;\">\n<td>2018/10</td><td>2.13</td><td> </td>\n</tr><tr style=\"color:Black;\">\n<td>2018/11</td><td>2.71</td><td> </td>\n</tr><tr class=\"ALT\" style=\"color:Black;\">\n<td>2018/12</td><td>3.42</td><td> </td>\n</tr><tr style=\"color:Black;\">\n<td class=\"no-alt\" rowspan=\"12\" style=\"white-space:nowrap;\" valign=\"top\">NO2</td><td class=\"no-alt\" rowspan=\"12\" valign=\"top\">ppb</td><td>2018/01</td><td>10.77</td><td> </td>\n</tr><tr class=\"ALT\" style=\"color:Black;\">\n<td>2018/02</td><td>14.95</td><td> </td>\n</tr><tr style=\"color:Black;\">\n<td>2018/03</td><td>13.56</td><td> </td>\n</tr><tr class=\"ALT\" style=\"color:Black;\">\n<td>2018/04</td><td>12.64</td><td> </td>\n</tr><tr style=\"color:Black;\">\n<td>2018/05</td><td>12.94</td><td> </td>\n</tr><tr class=\"ALT\" style=\"color:Black;\">\n<td>2018/06</td><td>11.38</td><td> </td>\n</tr><tr style=\"color:Black;\">\n<td>2018/07</td><td>8.92</td><td> </td>\n</tr><tr class=\"ALT\" style=\"color:Black;\">\n<td>2018/08</td><td>12.08</td><td> </td>\n</tr><tr style=\"color:Black;\">\n<td>2018/09</td><td>10</td><td> </td>\n</tr><tr class=\"ALT\" style=\"color:Black;\">\n<td>2018/10</td><td>10.33</td><td> </td>\n</tr><tr style=\"color:Black;\">\n<td>2018/11</td><td>10.71</td><td> </td>\n</tr><tr class=\"ALT\" style=\"color:Black;\">\n<td>2018/12</td><td>11.15</td><td> </td>\n</tr><tr style=\"color:Black;\">\n<td class=\"no-alt\" rowspan=\"1\" style=\"white-space:nowrap;\" valign=\"top\">THC</td><td class=\"no-alt\" rowspan=\"1\" valign=\"top\">ppm</td><td> </td><td> </td><td>無此測項</td>\n</tr><tr class=\"ALT\" style=\"color:Black;\">\n<td class=\"no-alt\" rowspan=\"1\" style=\"white-space:nowrap;\" valign=\"top\">NMHC</td><td class=\"no-alt\" rowspan=\"1\" valign=\"top\">ppm</td><td> </td><td> </td><td>無此測項</td>\n</tr><tr style=\"color:Black;\">\n<td style=\"white-space:nowrap;\">CH4</td><td>ppm</td><td> </td><td> </td><td>無此測項</td>\n</tr>\n</tbody></table>"
     },
     "execution_count": 5,
     "metadata": {},
     "output_type": "execute_result"
    }
   ],
   "source": [
    "soup = BeautifulSoup(html_source, 'html.parser')\n",
    "table = soup.find('table', class_='TABLE_G')\n",
    "table"
   ]
  },
  {
   "cell_type": "code",
   "execution_count": 6,
   "metadata": {},
   "outputs": [
    {
     "name": "stdout",
     "output_type": "stream",
     "text": "{'SO2': {'2018/01': '1.80', '2018/02': '1.90', '2018/03': '2.20', '2018/04': '2.30', '2018/05': '3.10', '2018/06': '2.70', '2018/07': '2.20', '2018/08': '2.40', '2018/09': '2.10', '2018/10': '1.70', '2018/11': '1.90', '2018/12': '1.80'}, 'CO': {'2018/01': '0.34', '2018/02': '0.44', '2018/03': '0.40', '2018/04': '0.38', '2018/05': '0.34', '2018/06': '0.29', '2018/07': '0.21', '2018/08': '0.30', '2018/09': '0.26', '2018/10': '0.29', '2018/11': '0.30', '2018/12': '0.35'}, 'O3': {'2018/01': '33.40', '2018/02': '32.50', '2018/03': '35', '2018/04': '38.40', '2018/05': '31.60', '2018/06': '29.50', '2018/07': '18.70', '2018/08': '26.40', '2018/09': '29.10', '2018/10': '45.90', '2018/11': '32.40', '2018/12': '30.70'}, 'PM10': {'2018/01': '23', '2018/02': '41', '2018/03': '39', '2018/04': '48', '2018/05': '37', '2018/06': '26', '2018/07': '24', '2018/08': '26', '2018/09': '28', '2018/10': '33', '2018/11': '25', '2018/12': '21'}, 'NOx': {'2018/01': '14.17', '2018/02': '19.43', '2018/03': '18.50', '2018/04': '15.24', '2018/05': '15.20', '2018/06': '13.79', '2018/07': '11.60', '2018/08': '14.75', '2018/09': '12.40', '2018/10': '12.45', '2018/11': '13.41', '2018/12': '14.56'}, 'NO': {'2018/01': '3.41', '2018/02': '4.48', '2018/03': '4.93', '2018/04': '2.60', '2018/05': '2.26', '2018/06': '2.41', '2018/07': '2.68', '2018/08': '2.68', '2018/09': '2.41', '2018/10': '2.13', '2018/11': '2.71', '2018/12': '3.42'}, 'NO2': {'2018/01': '10.77', '2018/02': '14.95', '2018/03': '13.56', '2018/04': '12.64', '2018/05': '12.94', '2018/06': '11.38', '2018/07': '8.92', '2018/08': '12.08', '2018/09': '10', '2018/10': '10.33', '2018/11': '10.71', '2018/12': '11.15'}, 'THC': {'\\xa0': '\\xa0'}, 'NMHC': {'\\xa0': '\\xa0'}, 'CH4': {'\\xa0': '\\xa0'}}\n"
    }
   ],
   "source": [
    "\n",
    "d = {}\n",
    "for tr in table.find_all('tr')[1:]:\n",
    "\n",
    "    for i, td in enumerate(tr.find_all('td')):\n",
    "        \n",
    "        if len(tr.find_all('td')) == 5:\n",
    "            if i == 0:\n",
    "                obs = td.text\n",
    "                d.setdefault(obs, {})\n",
    "            if i == 2:\n",
    "                date = td.text\n",
    "            if i == 3:\n",
    "                value = td.text\n",
    "                d[obs][date] = value\n",
    "        \n",
    "        if len(tr.find_all('td')) == 3:\n",
    "            if i == 0:\n",
    "                date = td.text\n",
    "            if i == 1:\n",
    "                value = td.text\n",
    "                d[obs][date] = value\n",
    "print(d)"
   ]
  },
  {
   "cell_type": "code",
   "execution_count": 7,
   "metadata": {},
   "outputs": [
    {
     "name": "stdout",
     "output_type": "stream",
     "text": "===== 取出 台北市士林區 2018 的 SO2 資料 =====\n{'2018/01': '1.80', '2018/02': '1.90', '2018/03': '2.20', '2018/04': '2.30', '2018/05': '3.10', '2018/06': '2.70', '2018/07': '2.20', '2018/08': '2.40', '2018/09': '2.10', '2018/10': '1.70', '2018/11': '1.90', '2018/12': '1.80'}\n===== 取出 台北市士林區 2018/01 – 2018/08 的 SO2 資料 =====\n{'2018/01': '1.80', '2018/02': '1.90', '2018/03': '2.20', '2018/04': '2.30', '2018/05': '3.10', '2018/06': '2.70', '2018/07': '2.20', '2018/08': '2.40'}\n[{'時間': '2018/01', '數值': '1.80'}, {'時間': '2018/02', '數值': '1.90'}, {'時間': '2018/03', '數值': '2.20'}, {'時間': '2018/04', '數值': '2.30'}, {'時間': '2018/05', '數值': '3.10'}, {'時間': '2018/06', '數值': '2.70'}, {'時間': '2018/07', '數值': '2.20'}, {'時間': '2018/08', '數值': '2.40'}]\n"
    },
    {
     "data": {
      "text/html": "<div>\n<style scoped>\n    .dataframe tbody tr th:only-of-type {\n        vertical-align: middle;\n    }\n\n    .dataframe tbody tr th {\n        vertical-align: top;\n    }\n\n    .dataframe thead th {\n        text-align: right;\n    }\n</style>\n<table border=\"1\" class=\"dataframe\">\n  <thead>\n    <tr style=\"text-align: right;\">\n      <th></th>\n      <th>時間</th>\n      <th>數值</th>\n    </tr>\n  </thead>\n  <tbody>\n    <tr>\n      <th>0</th>\n      <td>2018/01</td>\n      <td>1.80</td>\n    </tr>\n    <tr>\n      <th>1</th>\n      <td>2018/02</td>\n      <td>1.90</td>\n    </tr>\n    <tr>\n      <th>2</th>\n      <td>2018/03</td>\n      <td>2.20</td>\n    </tr>\n    <tr>\n      <th>3</th>\n      <td>2018/04</td>\n      <td>2.30</td>\n    </tr>\n    <tr>\n      <th>4</th>\n      <td>2018/05</td>\n      <td>3.10</td>\n    </tr>\n    <tr>\n      <th>5</th>\n      <td>2018/06</td>\n      <td>2.70</td>\n    </tr>\n    <tr>\n      <th>6</th>\n      <td>2018/07</td>\n      <td>2.20</td>\n    </tr>\n    <tr>\n      <th>7</th>\n      <td>2018/08</td>\n      <td>2.40</td>\n    </tr>\n  </tbody>\n</table>\n</div>",
      "text/plain": "        時間    數值\n0  2018/01  1.80\n1  2018/02  1.90\n2  2018/03  2.20\n3  2018/04  2.30\n4  2018/05  3.10\n5  2018/06  2.70\n6  2018/07  2.20\n7  2018/08  2.40"
     },
     "execution_count": 7,
     "metadata": {},
     "output_type": "execute_result"
    }
   ],
   "source": [
    "# 取出題目要求的區間\n",
    "print('===== 取出 台北市士林區 2018 的 SO2 資料 =====')\n",
    "print(d['SO2'])\n",
    "\n",
    "print('===== 取出 台北市士林區 2018/01 – 2018/08 的 SO2 資料 =====')\n",
    "print(dict([(key, value) for key, value in d['SO2'].items() if key < '2018/09' ]))\n",
    "\n",
    "# 整理成 DataFrame\n",
    "import pandas as pd\n",
    "\n",
    "d_SO2 = [{'時間': key, '數值': value} for key, value in d['SO2'].items() if key < '2018/09' ]\n",
    "print(d_SO2)\n",
    "pd.DataFrame(d_SO2)"
   ]
  },
  {
   "cell_type": "markdown",
   "metadata": {},
   "source": [
    "### ② 取出 台北市士林區 2018/01 – 2018/08 的 SO2、CO 資料"
   ]
  },
  {
   "cell_type": "code",
   "execution_count": 26,
   "metadata": {},
   "outputs": [
    {
     "data": {
      "text/html": [
       "<div>\n",
       "<style scoped>\n",
       "    .dataframe tbody tr th:only-of-type {\n",
       "        vertical-align: middle;\n",
       "    }\n",
       "\n",
       "    .dataframe tbody tr th {\n",
       "        vertical-align: top;\n",
       "    }\n",
       "\n",
       "    .dataframe thead th {\n",
       "        text-align: right;\n",
       "    }\n",
       "</style>\n",
       "<table border=\"1\" class=\"dataframe\">\n",
       "  <thead>\n",
       "    <tr style=\"text-align: right;\">\n",
       "      <th></th>\n",
       "      <th>SO2</th>\n",
       "      <th>時間</th>\n",
       "      <th>CO</th>\n",
       "    </tr>\n",
       "  </thead>\n",
       "  <tbody>\n",
       "    <tr>\n",
       "      <th>0</th>\n",
       "      <td>1.80</td>\n",
       "      <td>2018/01</td>\n",
       "      <td>0.34</td>\n",
       "    </tr>\n",
       "    <tr>\n",
       "      <th>1</th>\n",
       "      <td>1.90</td>\n",
       "      <td>2018/02</td>\n",
       "      <td>0.44</td>\n",
       "    </tr>\n",
       "    <tr>\n",
       "      <th>2</th>\n",
       "      <td>2.20</td>\n",
       "      <td>2018/03</td>\n",
       "      <td>0.40</td>\n",
       "    </tr>\n",
       "    <tr>\n",
       "      <th>3</th>\n",
       "      <td>2.30</td>\n",
       "      <td>2018/04</td>\n",
       "      <td>0.38</td>\n",
       "    </tr>\n",
       "    <tr>\n",
       "      <th>4</th>\n",
       "      <td>3.10</td>\n",
       "      <td>2018/05</td>\n",
       "      <td>0.34</td>\n",
       "    </tr>\n",
       "    <tr>\n",
       "      <th>5</th>\n",
       "      <td>2.70</td>\n",
       "      <td>2018/06</td>\n",
       "      <td>0.29</td>\n",
       "    </tr>\n",
       "    <tr>\n",
       "      <th>6</th>\n",
       "      <td>2.20</td>\n",
       "      <td>2018/07</td>\n",
       "      <td>0.21</td>\n",
       "    </tr>\n",
       "    <tr>\n",
       "      <th>7</th>\n",
       "      <td>2.40</td>\n",
       "      <td>2018/08</td>\n",
       "      <td>0.30</td>\n",
       "    </tr>\n",
       "  </tbody>\n",
       "</table>\n",
       "</div>"
      ],
      "text/plain": [
       "    SO2       時間    CO\n",
       "0  1.80  2018/01  0.34\n",
       "1  1.90  2018/02  0.44\n",
       "2  2.20  2018/03  0.40\n",
       "3  2.30  2018/04  0.38\n",
       "4  3.10  2018/05  0.34\n",
       "5  2.70  2018/06  0.29\n",
       "6  2.20  2018/07  0.21\n",
       "7  2.40  2018/08  0.30"
      ]
     },
     "execution_count": 26,
     "metadata": {},
     "output_type": "execute_result"
    }
   ],
   "source": [
    "# 整理成 DataFrame\n",
    "import pandas as pd\n",
    "\n",
    "d_SO2 = [{'時間': key, 'SO2': value} for key, value in d['SO2'].items() if key < '2018/09' ]\n",
    "d_CO = [{'時間': key, 'CO': value} for key, value in d['CO'].items() if key < '2018/09' ]\n",
    "\n",
    "pd.merge(pd.DataFrame(d_SO2), pd.DataFrame(d_CO))"
   ]
  },
  {
   "cell_type": "code",
   "execution_count": null,
   "metadata": {},
   "outputs": [],
   "source": []
  }
 ],
 "metadata": {
  "kernelspec": {
   "display_name": "Python 3.7.4 64-bit",
   "language": "python",
   "name": "python37464bita9990edcc1d34e4b85b4a57067bf3139"
  },
  "language_info": {
   "codemirror_mode": {
    "name": "ipython",
    "version": 3
   },
   "file_extension": ".py",
   "mimetype": "text/x-python",
   "name": "python",
   "nbconvert_exporter": "python",
   "pygments_lexer": "ipython3",
   "version": "3.7.4-final"
  }
 },
 "nbformat": 4,
 "nbformat_minor": 2
}
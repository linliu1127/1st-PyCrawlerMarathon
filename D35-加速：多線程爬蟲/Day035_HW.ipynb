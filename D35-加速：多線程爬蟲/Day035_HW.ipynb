{
 "cells": [
  {
   "cell_type": "markdown",
   "metadata": {},
   "source": [
    "# 加速：多線程爬蟲\n",
    "\n",
    "\n",
    "\n",
    "* 了解知乎 API 使用方式與回傳內容\n",
    "* 撰寫程式存取 API 且添加標頭"
   ]
  },
  {
   "cell_type": "markdown",
   "metadata": {},
   "source": [
    "## 作業目標\n",
    "\n",
    "* 找一個之前實作過的爬蟲改用多線程改寫，比較前後時間的差異。\n",
    "\n",
    "\n",
    "\n"
   ]
  },
  {
   "cell_type": "code",
   "execution_count": 1,
   "metadata": {},
   "outputs": [
    {
     "name": "stdout",
     "output_type": "stream",
     "text": "13.146188497543335\n"
    }
   ],
   "source": [
    "import requests\n",
    "from bs4 import BeautifulSoup\n",
    "import _thread\n",
    "import time\n",
    "urls = []\n",
    "menu=requests.get('https://www.ptt.cc/bbs/index.html')\n",
    "soup=BeautifulSoup(menu.text)\n",
    "boards=soup.find_all('div',attrs={'class':\"b-ent\"})\n",
    "for board in boards:\n",
    "    urls.append('https://www.ptt.cc/'+board.a['href'])\n",
    "startTime = time.time()\n",
    "for url in urls:\n",
    "    r = requests.get(url)\n",
    "finishTime = time.time()\n",
    "print(finishTime - startTime)\n"
   ]
  },
  {
   "cell_type": "code",
   "execution_count": 2,
   "metadata": {},
   "outputs": [
    {
     "name": "stdout",
     "output_type": "stream",
     "text": "0.13762998580932617\n"
    }
   ],
   "source": [
    "startTime = time.time()\n",
    "for url in urls:\n",
    "    _thread.start_new_thread( requests.get, (url, ) )\n",
    "finishTime = time.time()\n",
    "print(finishTime - startTime)"
   ]
  },
  {
   "cell_type": "code",
   "execution_count": 35,
   "metadata": {},
   "outputs": [
    {
     "name": "stdout",
     "output_type": "stream",
     "text": "0.000997304916381836\n"
    }
   ],
   "source": [
    "startTime = time.time()\n",
    "for url in urls[:5]:\n",
    "    _thread.start_new_thread( crawl, (url, ) )\n",
    "finishTime = time.time()\n",
    "print(finishTime - startTime)"
   ]
  },
  {
   "cell_type": "code",
   "execution_count": null,
   "metadata": {},
   "outputs": [],
   "source": []
  }
 ],
 "metadata": {
  "colab": {
   "name": "homework.ipynb",
   "provenance": []
  },
  "kernelspec": {
   "display_name": "Python 3",
   "language": "python",
   "name": "python3"
  },
  "language_info": {
   "codemirror_mode": {
    "name": "ipython",
    "version": 3
   },
   "file_extension": ".py",
   "mimetype": "text/x-python",
   "name": "python",
   "nbconvert_exporter": "python",
   "pygments_lexer": "ipython3",
   "version": "3.8.1-final"
  }
 },
 "nbformat": 4,
 "nbformat_minor": 1
}
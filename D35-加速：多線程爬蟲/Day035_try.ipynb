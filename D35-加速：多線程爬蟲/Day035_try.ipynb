{
 "cells": [
  {
   "cell_type": "markdown",
   "metadata": {},
   "source": [
    "# 加速：多線程爬蟲\n",
    "\n",
    "\n",
    "\n",
    "* 了解知乎 API 使用方式與回傳內容\n",
    "* 撰寫程式存取 API 且添加標頭"
   ]
  },
  {
   "cell_type": "markdown",
   "metadata": {},
   "source": [
    "## 作業目標\n",
    "\n",
    "* 找一個之前實作過的爬蟲改用多線程改寫，比較前後時間的差異。\n",
    "\n",
    "\n",
    "\n"
   ]
  },
  {
   "cell_type": "code",
   "execution_count": 16,
   "metadata": {},
   "outputs": [
    {
     "name": "stdout",
     "output_type": "stream",
     "text": "[外絮] Robert Horry：聖安東尼奧不是人們會想去的地方\n[花邊] KG談球衣退役：我很榮幸，我會始終心懷感\n[花邊] Josh Hart想與Zion擊掌被無視\n[討論] Steve Adams生涯第一顆三分\n[花邊] 林書豪微博：祝大家情人節快樂♥\n[BOX ] Thunder 123:118 Pelicans 數據\n[情報] Zion成為史上第四位在19歲時連續砍下30\n[BOX ] Clippers 133:141 Celtics 數據\n[討論] 老河流是不是真的過譽了\n[討論] Tatum會是下一個攻防一體頂級的小前鋒嗎?\n[討論] 最適合西門的隊友是誰？\n[情報] Paul George 左大腿拉傷\n[花邊] 巴克利：若戰績糟 你就沒資格說被全明星\n(本文已被刪除) [manuginobii]\n[討論] 西門改Zion的打法可行嗎？\n(本文已被刪除) [SupHateSpurs]\nRe: [討論] 最適合西門的隊友是誰？\n(本文已被刪除) [wwqq851019]\n[情報]  保羅教導水行俠正確投籃姿勢\n[情報] Love: Lebron在國外真的不開手機流量\n[公告] 板規v6.8\n[公告] 樂透取消及未來不再開啟樂透\n[公告] 版主上任相關事項 \n[情報] SEASON Schedule 賽程 February 19–20\nRe: [新聞] 郭明錤：新iPhone之5G PA需求與穩懋iPhon\n[心得] 能被預料的股災就不會變股災？\nRe: [新聞] 獨家》三發地產疑傳宮鬥事件 董事長自曝\n[請益] 融資這玩意\n(本文已被刪除) [dongchen]\n(本文已被刪除) [OfficeGL]\n[新聞] 國巨調漲價格 傳華新科也將跟進\n(本文已被刪除) [workshop]\n[新聞] 口罩嚴重缺貨危機入市 成人尿布大廠證實\n[公告] 精華區導覽Q&A\n[公告] Stock 板規V2.6             (2019/06/20)\n[公告] 關於武漢肺炎新聞規範\n[閒聊] 2020/02/14 盤中閒聊\nRe: [日版] 公主連結：全婆俠1127人，全婆五星俠1人\nRe: [問題] Netflix有什麼好看的動畫\n[情報] FF7re新情報-戰鬥系統+農夫任務?\n[BGD] 愛美 && 米歇爾 IG\n[討論] 有沒有協助國家對抗敵國的義士角色\n[閒聊] 今天什麼日子？\n[閒聊] 公主連結乾五齁勝？\n[情報] 快樂快樂 劍盾 新幻獸全部剪影公開\n[LLSS] 今天是梨子和善子的真ん中バースデー！\n[閒聊] 大家其實很想看到跨作品角色相遇吧？\n[閒聊] 羅禮士打的贏無慘嘛？\nRe: [閒聊] 世紀帝國2 是不是操作上限極高的遊戲？\n[推薦] FGO漫畫-Epic of Remnant-深海電腦樂土\n[討論] 魯魯修當初翻成雷路許會怎樣\nRe: [閒聊] 公主連結乾五齁勝？\n[2/14] 今天,秋葉原的宅宅們依舊過得超充實\nRe: [閒聊] C98有可能停辦嗎?\n[閒聊] 變成反派最簡單的過程\n[公告] C_Chat板板規v.16.3.0+板務建議+好文補M \n[公告] 看板活動& 臨時板規與公告彙整& 閒聊區 \n[20冬] 冬番各作品首播時間\n[20冬] 2020年冬番 台灣觀賞管道整理（01/22）\nFw: [板務] 試辦4-13放寬判定標準\n[新聞] 東京計程車司機確診 後續處理與調查\n[討論] 武漢解封後，回台人員如何管理？\nRe: [問題] 有辦法區別消毒水和次氯酸水嗎？\n[討論] 我們是不是終究學習和武漢病毒共存?\n[問題] 目前確診死亡數據到底怎麼看？\n[新聞] 武漢肺炎》新「黃禍」？世衛專家模型推\n[新聞] 鑽石公主號曾抵沖繩9hrs…下船2679人「搭\n(本文已被刪除) [deoxyribonuc]\n[新聞] 鑽石公主號沖繩靠港時的接觸者中一位有\n[新聞] 美國軍方深度介入防堵新冠病毒\n[新聞] 受困鑽石公主號台灣8旬旅客確診武漢肺炎\n[新聞] 日本和歌山醫生病人確診 未有互相接觸\n[新聞] 大戰來了? 北京疾控中心緊急發布戰時狀態\n[新聞] 印尼有大學生懷疑感染武漢肺炎\n[問題] 到底什麼是流感化?\n[情報] 何美鄉 - 疫病、人、禽與獸\n[新聞]終於能下船!台85歲咳血老翁確診\n[新聞] 英模擬6萬武漢人「封城前移動路線」　足\n[新聞] 鑽石公主號滯沖繩9小時　當地居民出現肺\n[情報] 武漢肺炎台灣及全球病例即時戰情儀表版\n[情報] 2019-nCoV 整理筆記分享\n[情報] 2/14 10:30 +1|25國369/+郵輪587|台18本2\n[情報] 2/12 21:30藥局領口罩懶人包 V2.3\n[公告] 板規更新（新增推文規範、政治引戰罰則）\n9.10629940032959\n"
    }
   ],
   "source": [
    "import requests\n",
    "from bs4 import BeautifulSoup\n",
    "import _thread\n",
    "import time\n",
    "urls = []\n",
    "menu=requests.get('https://www.ptt.cc/bbs/index.html')\n",
    "soup=BeautifulSoup(menu.text)\n",
    "boards=soup.find_all('div',attrs={'class':\"b-ent\"})\n",
    "for board in boards:\n",
    "    urls.append('https://www.ptt.cc/'+board.a['href'])\n",
    "startTime = time.time()\n",
    "for url in urls[:5]:\n",
    "    r = requests.get(url)\n",
    "\n",
    "    soup = BeautifulSoup(r.text, \"html.parser\")\n",
    "\n",
    "    for d in soup.find_all(class_=\"title\"):\n",
    "        print(d.text.replace('\\t', '').replace('\\n', ''))\n",
    "        try:\n",
    "            r = BeautifulSoup(requests.get('https://www.ptt.cc'+d.find('a')['href']).text, \"html.parser\")\n",
    "            print('作者: ' + r.find(class_='article-meta-value').text)\n",
    "        except:\n",
    "            continue\n",
    "finishTime = time.time()\n",
    "print(finishTime - startTime)\n"
   ]
  },
  {
   "cell_type": "code",
   "execution_count": 30,
   "metadata": {},
   "outputs": [],
   "source": [
    "def crawl(url):\n",
    "    r = requests.get(url)\n",
    "    print(url)\n",
    "    soup = BeautifulSoup(r.text, \"html.parser\")\n",
    "\n",
    "    for d in soup.find_all(class_=\"title\"):\n",
    "        print(d.text.replace('\\t', '').replace('\\n', ''))\n",
    "        r = BeautifulSoup(requests.get('https://www.ptt.cc'+d.find('a')['href']).text, \"html.parser\")\n",
    "        print('作者: ' + r.find(class_='article-meta-value').text)"
   ]
  },
  {
   "cell_type": "code",
   "execution_count": 35,
   "metadata": {},
   "outputs": [
    {
     "name": "stdout",
     "output_type": "stream",
     "text": "0.000997304916381836\n"
    }
   ],
   "source": [
    "startTime = time.time()\n",
    "for url in urls[:5]:\n",
    "    _thread.start_new_thread( crawl, (url, ) )\n",
    "finishTime = time.time()\n",
    "print(finishTime - startTime)"
   ]
  },
  {
   "cell_type": "code",
   "execution_count": null,
   "metadata": {},
   "outputs": [],
   "source": []
  }
 ],
 "metadata": {
  "colab": {
   "name": "homework.ipynb",
   "provenance": []
  },
  "kernelspec": {
   "display_name": "Python 3",
   "language": "python",
   "name": "python3"
  },
  "language_info": {
   "codemirror_mode": {
    "name": "ipython",
    "version": 3
   },
   "file_extension": ".py",
   "mimetype": "text/x-python",
   "name": "python",
   "nbconvert_exporter": "python",
   "pygments_lexer": "ipython3",
   "version": "3.8.1-final"
  }
 },
 "nbformat": 4,
 "nbformat_minor": 1
}
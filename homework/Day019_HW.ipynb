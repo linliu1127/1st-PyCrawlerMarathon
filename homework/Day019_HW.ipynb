{
 "cells": [
  {
   "cell_type": "markdown",
   "metadata": {},
   "source": [
    "# 動態網頁爬蟲 - 使用 Selenium\n",
    "\n",
    "* 了解 Selenium 用於動態網頁爬蟲的原理\n",
    "* 能夠使用 Selenium 撰寫動態網頁爬蟲"
   ]
  },
  {
   "cell_type": "markdown",
   "metadata": {},
   "source": [
    "## 作業目標\n",
    "\n",
    "\n",
    "* 根據範例使用 selenuim 取出 高雄市小港區 2019 年 空氣品質 資料，並用一個適合的資料結構儲存\n",
    "* Hint: 將所有資料存在一個變數當中\n",
    "\n"
   ]
  },
  {
   "cell_type": "code",
   "execution_count": 77,
   "metadata": {},
   "outputs": [],
   "source": [
    "from selenium import webdriver\n",
    "from selenium.webdriver.support.ui import Select\n",
    "from bs4 import BeautifulSoup\n",
    "\n",
    "browser = webdriver.Chrome(executable_path='chromedriver')\n",
    "browser.get(\"http://taqm.epa.gov.tw/taqm/tw/MonthlyAverage.aspx\")\n",
    "\n",
    "selectSite = Select(browser.find_element_by_id(\"ctl05_ddlSite\"))\n",
    "selectSite.select_by_visible_text('高雄市-小港')\n",
    "selectYear = Select(browser.find_element_by_id(\"ctl05_ddlYear\"))\n",
    "selectYear.select_by_visible_text('2019')\n",
    "\n",
    "\n",
    "browser.find_element_by_id('ctl05_btnQuery').click()"
   ]
  },
  {
   "cell_type": "markdown",
   "metadata": {},
   "source": [
    "![](https://imgur.com/LwGGT8c.jpg)"
   ]
  },
  {
   "cell_type": "code",
   "execution_count": 82,
   "metadata": {},
   "outputs": [],
   "source": [
    "# 取得資料（等瀏覽器資料出現後才執行）\n",
    "html_source = browser.page_source\n"
   ]
  },
  {
   "cell_type": "code",
   "execution_count": 83,
   "metadata": {},
   "outputs": [
    {
     "name": "stdout",
     "output_type": "stream",
     "text": "<table align=\"Center\" border=\"1\" cellpadding=\"3\" cellspacing=\"0\" class=\"TABLE_G\" id=\"ctl05_gv\" rules=\"all\" style=\"border-color:Black;border-width:1px;border-style:None;border-collapse:collapse;\">\n<tbody><tr style=\"color:Black;font-weight:normal;\">\n<th scope=\"col\">監測項目</th><th scope=\"col\">單位</th><th scope=\"col\">監測日期</th><th scope=\"col\">監測值</th><th scope=\"col\">標註</th>\n</tr><tr style=\"color:Black;\">\n<td class=\"no-alt\" rowspan=\"12\" style=\"white-space:nowrap;\" valign=\"top\">SO2</td><td class=\"no-alt\" rowspan=\"12\" valign=\"top\">ppb</td><td>2019/01</td><td>4.10</td><td> </td>\n</tr><tr class=\"ALT\" style=\"color:Black;\">\n<td>2019/02</td><td>3.30</td><td> </td>\n</tr><tr style=\"color:Black;\">\n<td>2019/03</td><td>3.90</td><td> </td>\n</tr><tr class=\"ALT\" style=\"color:Black;\">\n<td>2019/04</td><td>3.40</td><td> </td>\n</tr><tr style=\"color:Black;\">\n<td>2019/05</td><td>3.30</td><td> </td>\n</tr><tr class=\"ALT\" style=\"color:Black;\">\n<td>2019/06</td><td>4.10</td><td> </td>\n</tr><tr style=\"color:Black;\">\n<td>2019/07</td><td>4</td><td> </td>\n</tr><tr class=\"ALT\" style=\"color:Black;\">\n<td>2019/08</td><td>4.60</td><td> </td>\n</tr><tr style=\"color:Black;\">\n<td>2019/09</td><td>3.50</td><td> </td>\n</tr><tr class=\"ALT\" style=\"color:Black;\">\n<td>2019/10</td><td>3.20</td><td> </td>\n</tr><tr style=\"color:Black;\">\n<td>2019/11</td><td>3.60</td><td> </td>\n</tr><tr class=\"ALT\" style=\"color:Black;\">\n<td>2019/12</td><td>3</td><td> </td>\n</tr><tr style=\"color:Black;\">\n<td class=\"no-alt\" rowspan=\"12\" style=\"white-space:nowrap;\" valign=\"top\">CO</td><td class=\"no-alt\" rowspan=\"12\" valign=\"top\">ppm</td><td>2019/01</td><td>0.67</td><td> </td>\n</tr><tr class=\"ALT\" style=\"color:Black;\">\n<td>2019/02</td><td>0.48</td><td> </td>\n</tr><tr style=\"color:Black;\">\n<td>2019/03</td><td>0.50</td><td> </td>\n</tr><tr class=\"ALT\" style=\"color:Black;\">\n<td>2019/04</td><td>0.39</td><td> </td>\n</tr><tr style=\"color:Black;\">\n<td>2019/05</td><td>0.38</td><td> </td>\n</tr><tr class=\"ALT\" style=\"color:Black;\">\n<td>2019/06</td><td>0.24</td><td> </td>\n</tr><tr style=\"color:Black;\">\n<td>2019/07</td><td>0.28</td><td> </td>\n</tr><tr class=\"ALT\" style=\"color:Black;\">\n<td>2019/08</td><td>0.33</td><td> </td>\n</tr><tr style=\"color:Black;\">\n<td>2019/09</td><td>0.32</td><td> </td>\n</tr><tr class=\"ALT\" style=\"color:Black;\">\n<td>2019/10</td><td>0.36</td><td> </td>\n</tr><tr style=\"color:Black;\">\n<td>2019/11</td><td>0.46</td><td> </td>\n</tr><tr class=\"ALT\" style=\"color:Black;\">\n<td>2019/12</td><td>0.54</td><td> </td>\n</tr><tr style=\"color:Black;\">\n<td class=\"no-alt\" rowspan=\"12\" style=\"white-space:nowrap;\" valign=\"top\">O3</td><td class=\"no-alt\" rowspan=\"12\" valign=\"top\">ppb</td><td>2019/01</td><td>24.70</td><td> </td>\n</tr><tr class=\"ALT\" style=\"color:Black;\">\n<td>2019/02</td><td>29.40</td><td> </td>\n</tr><tr style=\"color:Black;\">\n<td>2019/03</td><td>29.20</td><td> </td>\n</tr><tr class=\"ALT\" style=\"color:Black;\">\n<td>2019/04</td><td>30.40</td><td> </td>\n</tr><tr style=\"color:Black;\">\n<td>2019/05</td><td>28.60</td><td> </td>\n</tr><tr class=\"ALT\" style=\"color:Black;\">\n<td>2019/06</td><td>16.30</td><td> </td>\n</tr><tr style=\"color:Black;\">\n<td>2019/07</td><td>15.50</td><td> </td>\n</tr><tr class=\"ALT\" style=\"color:Black;\">\n<td>2019/08</td><td>19.70</td><td> </td>\n</tr><tr style=\"color:Black;\">\n<td>2019/09</td><td>35.70</td><td> </td>\n</tr><tr class=\"ALT\" style=\"color:Black;\">\n<td>2019/10</td><td>44</td><td> </td>\n</tr><tr style=\"color:Black;\">\n<td>2019/11</td><td>34.80</td><td> </td>\n</tr><tr class=\"ALT\" style=\"color:Black;\">\n<td>2019/12</td><td>22.30</td><td> </td>\n</tr><tr style=\"color:Black;\">\n<td class=\"no-alt\" rowspan=\"12\" style=\"white-space:nowrap;\" valign=\"top\">PM10</td><td class=\"no-alt\" rowspan=\"12\" valign=\"top\">μg/m3</td><td>2019/01</td><td>78</td><td> </td>\n</tr><tr class=\"ALT\" style=\"color:Black;\">\n<td>2019/02</td><td>57</td><td> </td>\n</tr><tr style=\"color:Black;\">\n<td>2019/03</td><td>52</td><td> </td>\n</tr><tr class=\"ALT\" style=\"color:Black;\">\n<td>2019/04</td><td>42</td><td> </td>\n</tr><tr style=\"color:Black;\">\n<td>2019/05</td><td>35</td><td> </td>\n</tr><tr class=\"ALT\" style=\"color:Black;\">\n<td>2019/06</td><td>20</td><td> </td>\n</tr><tr style=\"color:Black;\">\n<td>2019/07</td><td>24</td><td> </td>\n</tr><tr class=\"ALT\" style=\"color:Black;\">\n<td>2019/08</td><td>27</td><td> </td>\n</tr><tr style=\"color:Black;\">\n<td>2019/09</td><td>35</td><td> </td>\n</tr><tr class=\"ALT\" style=\"color:Black;\">\n<td>2019/10</td><td>50</td><td> </td>\n</tr><tr style=\"color:Black;\">\n<td>2019/11</td><td>63</td><td> </td>\n</tr><tr class=\"ALT\" style=\"color:Black;\">\n<td>2019/12</td><td>54</td><td> </td>\n</tr><tr style=\"color:Black;\">\n<td class=\"no-alt\" rowspan=\"12\" style=\"white-space:nowrap;\" valign=\"top\">NOx</td><td class=\"no-alt\" rowspan=\"12\" valign=\"top\">ppb</td><td>2019/01</td><td>38.01</td><td> </td>\n</tr><tr class=\"ALT\" style=\"color:Black;\">\n<td>2019/02</td><td>25.62</td><td> </td>\n</tr><tr style=\"color:Black;\">\n<td>2019/03</td><td>27.84</td><td> </td>\n</tr><tr class=\"ALT\" style=\"color:Black;\">\n<td>2019/04</td><td>21.83</td><td> </td>\n</tr><tr style=\"color:Black;\">\n<td>2019/05</td><td>22.55</td><td> </td>\n</tr><tr class=\"ALT\" style=\"color:Black;\">\n<td>2019/06</td><td>17.15</td><td> </td>\n</tr><tr style=\"color:Black;\">\n<td>2019/07</td><td>17.71</td><td> </td>\n</tr><tr class=\"ALT\" style=\"color:Black;\">\n<td>2019/08</td><td>19.66</td><td> </td>\n</tr><tr style=\"color:Black;\">\n<td>2019/09</td><td>18.66</td><td> </td>\n</tr><tr class=\"ALT\" style=\"color:Black;\">\n<td>2019/10</td><td>19.50</td><td> </td>\n</tr><tr style=\"color:Black;\">\n<td>2019/11</td><td>28.99</td><td> </td>\n</tr><tr class=\"ALT\" style=\"color:Black;\">\n<td>2019/12</td><td>33.84</td><td> </td>\n</tr><tr style=\"color:Black;\">\n<td class=\"no-alt\" rowspan=\"12\" style=\"white-space:nowrap;\" valign=\"top\">NO</td><td class=\"no-alt\" rowspan=\"12\" valign=\"top\">ppb</td><td>2019/01</td><td>7.95</td><td> </td>\n</tr><tr class=\"ALT\" style=\"color:Black;\">\n<td>2019/02</td><td>4.76</td><td> </td>\n</tr><tr style=\"color:Black;\">\n<td>2019/03</td><td>5.41</td><td> </td>\n</tr><tr class=\"ALT\" style=\"color:Black;\">\n<td>2019/04</td><td>4.16</td><td> </td>\n</tr><tr style=\"color:Black;\">\n<td>2019/05</td><td>4.58</td><td> </td>\n</tr><tr class=\"ALT\" style=\"color:Black;\">\n<td>2019/06</td><td>5.08</td><td> </td>\n</tr><tr style=\"color:Black;\">\n<td>2019/07</td><td>5.16</td><td> </td>\n</tr><tr class=\"ALT\" style=\"color:Black;\">\n<td>2019/08</td><td>5.17</td><td> </td>\n</tr><tr style=\"color:Black;\">\n<td>2019/09</td><td>3.63</td><td> </td>\n</tr><tr class=\"ALT\" style=\"color:Black;\">\n<td>2019/10</td><td>3.50</td><td> </td>\n</tr><tr style=\"color:Black;\">\n<td>2019/11</td><td>5.21</td><td> </td>\n</tr><tr class=\"ALT\" style=\"color:Black;\">\n<td>2019/12</td><td>7.83</td><td> </td>\n</tr><tr style=\"color:Black;\">\n<td class=\"no-alt\" rowspan=\"12\" style=\"white-space:nowrap;\" valign=\"top\">NO2</td><td class=\"no-alt\" rowspan=\"12\" valign=\"top\">ppb</td><td>2019/01</td><td>30.06</td><td> </td>\n</tr><tr class=\"ALT\" style=\"color:Black;\">\n<td>2019/02</td><td>20.86</td><td> </td>\n</tr><tr style=\"color:Black;\">\n<td>2019/03</td><td>22.43</td><td> </td>\n</tr><tr class=\"ALT\" style=\"color:Black;\">\n<td>2019/04</td><td>17.68</td><td> </td>\n</tr><tr style=\"color:Black;\">\n<td>2019/05</td><td>17.98</td><td> </td>\n</tr><tr class=\"ALT\" style=\"color:Black;\">\n<td>2019/06</td><td>12.08</td><td> </td>\n</tr><tr style=\"color:Black;\">\n<td>2019/07</td><td>12.54</td><td> </td>\n</tr><tr class=\"ALT\" style=\"color:Black;\">\n<td>2019/08</td><td>14.49</td><td> </td>\n</tr><tr style=\"color:Black;\">\n<td>2019/09</td><td>15.03</td><td> </td>\n</tr><tr class=\"ALT\" style=\"color:Black;\">\n<td>2019/10</td><td>15.99</td><td> </td>\n</tr><tr style=\"color:Black;\">\n<td>2019/11</td><td>23.78</td><td> </td>\n</tr><tr class=\"ALT\" style=\"color:Black;\">\n<td>2019/12</td><td>26</td><td> </td>\n</tr><tr style=\"color:Black;\">\n<td class=\"no-alt\" rowspan=\"12\" style=\"white-space:nowrap;\" valign=\"top\">THC</td><td class=\"no-alt\" rowspan=\"12\" valign=\"top\">ppm</td><td>2019/01</td><td>2.27</td><td> </td>\n</tr><tr class=\"ALT\" style=\"color:Black;\">\n<td>2019/02</td><td>2.11</td><td> </td>\n</tr><tr style=\"color:Black;\">\n<td>2019/03</td><td>2.12</td><td> </td>\n</tr><tr class=\"ALT\" style=\"color:Black;\">\n<td>2019/04</td><td>2.02</td><td> </td>\n</tr><tr style=\"color:Black;\">\n<td>2019/05</td><td>2.02</td><td> </td>\n</tr><tr class=\"ALT\" style=\"color:Black;\">\n<td>2019/06</td><td>1.92</td><td> </td>\n</tr><tr style=\"color:Black;\">\n<td>2019/07</td><td>1.93</td><td> </td>\n</tr><tr class=\"ALT\" style=\"color:Black;\">\n<td>2019/08</td><td>1.97</td><td> </td>\n</tr><tr style=\"color:Black;\">\n<td>2019/09</td><td>1.98</td><td> </td>\n</tr><tr class=\"ALT\" style=\"color:Black;\">\n<td>2019/10</td><td>2.05</td><td> </td>\n</tr><tr style=\"color:Black;\">\n<td>2019/11</td><td>2.15</td><td> </td>\n</tr><tr class=\"ALT\" style=\"color:Black;\">\n<td>2019/12</td><td>2.18</td><td> </td>\n</tr><tr style=\"color:Black;\">\n<td class=\"no-alt\" rowspan=\"12\" style=\"white-space:nowrap;\" valign=\"top\">NMHC</td><td class=\"no-alt\" rowspan=\"12\" valign=\"top\">ppm</td><td>2019/01</td><td>0.27</td><td> </td>\n</tr><tr class=\"ALT\" style=\"color:Black;\">\n<td>2019/02</td><td>0.17</td><td> </td>\n</tr><tr style=\"color:Black;\">\n<td>2019/03</td><td>0.18</td><td> </td>\n</tr><tr class=\"ALT\" style=\"color:Black;\">\n<td>2019/04</td><td>0.14</td><td> </td>\n</tr><tr style=\"color:Black;\">\n<td>2019/05</td><td>0.16</td><td> </td>\n</tr><tr class=\"ALT\" style=\"color:Black;\">\n<td>2019/06</td><td>0.13</td><td> </td>\n</tr><tr style=\"color:Black;\">\n<td>2019/07</td><td>0.14</td><td> </td>\n</tr><tr class=\"ALT\" style=\"color:Black;\">\n<td>2019/08</td><td>0.15</td><td> </td>\n</tr><tr style=\"color:Black;\">\n<td>2019/09</td><td>0.13</td><td> </td>\n</tr><tr class=\"ALT\" style=\"color:Black;\">\n<td>2019/10</td><td>0.13</td><td> </td>\n</tr><tr style=\"color:Black;\">\n<td>2019/11</td><td>0.21</td><td> </td>\n</tr><tr class=\"ALT\" style=\"color:Black;\">\n<td>2019/12</td><td>0.23</td><td> </td>\n</tr><tr style=\"color:Black;\">\n<td class=\"no-alt\" rowspan=\"12\" style=\"white-space:nowrap;\" valign=\"top\">CH4</td><td class=\"no-alt\" rowspan=\"12\" valign=\"top\">ppm</td><td>2019/01</td><td>2</td><td> </td>\n</tr><tr class=\"ALT\" style=\"color:Black;\">\n<td>2019/02</td><td>1.94</td><td> </td>\n</tr><tr style=\"color:Black;\">\n<td>2019/03</td><td>1.94</td><td> </td>\n</tr><tr class=\"ALT\" style=\"color:Black;\">\n<td>2019/04</td><td>1.88</td><td> </td>\n</tr><tr style=\"color:Black;\">\n<td>2019/05</td><td>1.86</td><td> </td>\n</tr><tr class=\"ALT\" style=\"color:Black;\">\n<td>2019/06</td><td>1.79</td><td> </td>\n</tr><tr style=\"color:Black;\">\n<td>2019/07</td><td>1.80</td><td> </td>\n</tr><tr class=\"ALT\" style=\"color:Black;\">\n<td>2019/08</td><td>1.82</td><td> </td>\n</tr><tr style=\"color:Black;\">\n<td>2019/09</td><td>1.86</td><td> </td>\n</tr><tr class=\"ALT\" style=\"color:Black;\">\n<td>2019/10</td><td>1.92</td><td> </td>\n</tr><tr style=\"color:Black;\">\n<td>2019/11</td><td>1.94</td><td> </td>\n</tr><tr class=\"ALT\" style=\"color:Black;\">\n<td>2019/12</td><td>1.95</td><td> </td>\n</tr>\n</tbody></table>\n"
    }
   ],
   "source": [
    "soup = BeautifulSoup(html_source, 'html.parser')\n",
    "table = soup.find(id=\"ctl05_gv\")#soup.find('table', class_='TABLE_G')\n",
    "print(table)"
   ]
  },
  {
   "cell_type": "code",
   "execution_count": 84,
   "metadata": {},
   "outputs": [
    {
     "name": "stdout",
     "output_type": "stream",
     "text": "{'SO2_2019/01': '4.10', 'SO2_2019/02': '3.30', 'SO2_2019/03': '3.90', 'SO2_2019/04': '3.40', 'SO2_2019/05': '3.30', 'SO2_2019/06': '4.10', 'SO2_2019/07': '4', 'SO2_2019/08': '4.60', 'SO2_2019/09': '3.50', 'SO2_2019/10': '3.20', 'SO2_2019/11': '3.60', 'SO2_2019/12': '3', 'CO_2019/01': '0.67', 'CO_2019/02': '0.48', 'CO_2019/03': '0.50', 'CO_2019/04': '0.39', 'CO_2019/05': '0.38', 'CO_2019/06': '0.24', 'CO_2019/07': '0.28', 'CO_2019/08': '0.33', 'CO_2019/09': '0.32', 'CO_2019/10': '0.36', 'CO_2019/11': '0.46', 'CO_2019/12': '0.54', 'O3_2019/01': '24.70', 'O3_2019/02': '29.40', 'O3_2019/03': '29.20', 'O3_2019/04': '30.40', 'O3_2019/05': '28.60', 'O3_2019/06': '16.30', 'O3_2019/07': '15.50', 'O3_2019/08': '19.70', 'O3_2019/09': '35.70', 'O3_2019/10': '44', 'O3_2019/11': '34.80', 'O3_2019/12': '22.30', 'PM10_2019/01': '78', 'PM10_2019/02': '57', 'PM10_2019/03': '52', 'PM10_2019/04': '42', 'PM10_2019/05': '35', 'PM10_2019/06': '20', 'PM10_2019/07': '24', 'PM10_2019/08': '27', 'PM10_2019/09': '35', 'PM10_2019/10': '50', 'PM10_2019/11': '63', 'PM10_2019/12': '54', 'NOx_2019/01': '38.01', 'NOx_2019/02': '25.62', 'NOx_2019/03': '27.84', 'NOx_2019/04': '21.83', 'NOx_2019/05': '22.55', 'NOx_2019/06': '17.15', 'NOx_2019/07': '17.71', 'NOx_2019/08': '19.66', 'NOx_2019/09': '18.66', 'NOx_2019/10': '19.50', 'NOx_2019/11': '28.99', 'NOx_2019/12': '33.84', 'NO_2019/01': '7.95', 'NO_2019/02': '4.76', 'NO_2019/03': '5.41', 'NO_2019/04': '4.16', 'NO_2019/05': '4.58', 'NO_2019/06': '5.08', 'NO_2019/07': '5.16', 'NO_2019/08': '5.17', 'NO_2019/09': '3.63', 'NO_2019/10': '3.50', 'NO_2019/11': '5.21', 'NO_2019/12': '7.83', 'NO2_2019/01': '30.06', 'NO2_2019/02': '20.86', 'NO2_2019/03': '22.43', 'NO2_2019/04': '17.68', 'NO2_2019/05': '17.98', 'NO2_2019/06': '12.08', 'NO2_2019/07': '12.54', 'NO2_2019/08': '14.49', 'NO2_2019/09': '15.03', 'NO2_2019/10': '15.99', 'NO2_2019/11': '23.78', 'NO2_2019/12': '26', 'THC_2019/01': '2.27', 'THC_2019/02': '2.11', 'THC_2019/03': '2.12', 'THC_2019/04': '2.02', 'THC_2019/05': '2.02', 'THC_2019/06': '1.92', 'THC_2019/07': '1.93', 'THC_2019/08': '1.97', 'THC_2019/09': '1.98', 'THC_2019/10': '2.05', 'THC_2019/11': '2.15', 'THC_2019/12': '2.18', 'NMHC_2019/01': '0.27', 'NMHC_2019/02': '0.17', 'NMHC_2019/03': '0.18', 'NMHC_2019/04': '0.14', 'NMHC_2019/05': '0.16', 'NMHC_2019/06': '0.13', 'NMHC_2019/07': '0.14', 'NMHC_2019/08': '0.15', 'NMHC_2019/09': '0.13', 'NMHC_2019/10': '0.13', 'NMHC_2019/11': '0.21', 'NMHC_2019/12': '0.23', 'CH4_2019/01': '2', 'CH4_2019/02': '1.94', 'CH4_2019/03': '1.94', 'CH4_2019/04': '1.88', 'CH4_2019/05': '1.86', 'CH4_2019/06': '1.79', 'CH4_2019/07': '1.80', 'CH4_2019/08': '1.82', 'CH4_2019/09': '1.86', 'CH4_2019/10': '1.92', 'CH4_2019/11': '1.94', 'CH4_2019/12': '1.95'}\n"
    }
   ],
   "source": [
    "dic={}\n",
    "gas=[]\n",
    "i=-1\n",
    "for k in table.find_all('tr'):\n",
    "    if len(k.find_all('td'))==5:\n",
    "        i+=1\n",
    "        gas.append(k.find_all('td')[0].text)\n",
    "        gas_name=gas[i]+'_'\n",
    "        dic.update({gas_name+k.find_all('td')[2].text:k.find_all('td')[3].text})\n",
    "    if len(k.find_all('td'))==3:\n",
    "        dic.update({gas_name+k.find_all('td')[0].text:k.find_all('td')[1].text})\n",
    "print(dic)"
   ]
  },
  {
   "cell_type": "code",
   "execution_count": 85,
   "metadata": {},
   "outputs": [
    {
     "data": {
      "text/plain": "SO2_2019/01    4.10\nSO2_2019/02    3.30\nSO2_2019/03    3.90\nSO2_2019/04    3.40\nSO2_2019/05    3.30\n               ... \nCH4_2019/08    1.82\nCH4_2019/09    1.86\nCH4_2019/10    1.92\nCH4_2019/11    1.94\nCH4_2019/12    1.95\nLength: 120, dtype: object"
     },
     "execution_count": 85,
     "metadata": {},
     "output_type": "execute_result"
    }
   ],
   "source": [
    "import pandas as pd\n",
    "pd.Series(dic)"
   ]
  },
  {
   "cell_type": "code",
   "execution_count": null,
   "metadata": {},
   "outputs": [],
   "source": []
  }
 ],
 "metadata": {
  "kernelspec": {
   "display_name": "Python 3.7.4 64-bit",
   "language": "python",
   "name": "python37464bita9990edcc1d34e4b85b4a57067bf3139"
  },
  "language_info": {
   "codemirror_mode": {
    "name": "ipython",
    "version": 3
   },
   "file_extension": ".py",
   "mimetype": "text/x-python",
   "name": "python",
   "nbconvert_exporter": "python",
   "pygments_lexer": "ipython3",
   "version": "3.7.4-final"
  }
 },
 "nbformat": 4,
 "nbformat_minor": 2
}
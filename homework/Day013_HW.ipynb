{
 "cells": [
  {
   "cell_type": "markdown",
   "metadata": {},
   "source": [
    "# PTT 網路爬蟲實作練習\n",
    "\n",
    "\n",
    "* 能夠利用 Request + BeatifulSour 撰寫爬蟲，並存放到合適的資料結構\n"
   ]
  },
  {
   "cell_type": "markdown",
   "metadata": {},
   "source": [
    "## 作業目標\n",
    "\n",
    "根據範例 ，完成以下問題：\n",
    "\n",
    "* ① 印出最新文章的「作者」「標題」「時間」\n",
    "* ② 印出第一頁所有文章的「作者」「標題」「時間」\n"
   ]
  },
  {
   "cell_type": "markdown",
   "metadata": {},
   "source": [
    "### ① 印出最新文章的「作者」「標題」「時間」"
   ]
  },
  {
   "cell_type": "code",
   "execution_count": 10,
   "metadata": {},
   "outputs": [
    {
     "name": "stdout",
     "output_type": "stream",
     "text": "[情報] Tristan Thompson 與Jae Crowder發生口\n作者: s27052705 (小飽)\n[情報] Barkley：Green你怎麼不講話了？\n作者: iicorn (Qnini)\n[BOX ] Heat 115:108 Thunder\n[BOX ] Cavaliers 109:113 Grizzlies\n[花邊]若馬刺想交易DDR或AGG，熱火是潛在交易對象\n作者: PttGod (PttGod)\nRe: [BOX ] Cavaliers 109:113 Grizzlies\n作者: namie810303 (NBA)\n[BOX ] Hawks 121:120 Spurs\n[公告] 板規v6.8\n[公告] 樂透取消及未來不再開啟樂透\n作者: Vedan (味丹)\n[公告] 版主上任相關事項 \n作者: qazwsx879345 (Rajon Rondo)\n[情報] SEASON Schedule 賽程 January 19–20\n作者: Acetoxy (阿斯)\n"
    }
   ],
   "source": [
    "import requests\n",
    "from bs4 import BeautifulSoup\n",
    "\n",
    "url = 'https://www.ptt.cc/bbs/NBA/index.html'\n",
    "r = requests.get(url)\n",
    "\n",
    "soup = BeautifulSoup(r.text, \"html5lib\")\n",
    "\n",
    "for d in soup.find_all(class_=\"title\"):\n",
    "    print(d.text.replace('\\t', '').replace('\\n', ''))\n",
    "    try:\n",
    "        r = BeautifulSoup(requests.get('https://www.ptt.cc'+d.find('a')['href']).text, \"html5lib\")\n",
    "        print('作者: ' + r.find(class_='article-meta-value').text)\n",
    "    except:\n",
    "        continue\n"
   ]
  },
  {
   "cell_type": "markdown",
   "metadata": {},
   "source": [
    "### ② 印出第一頁所有文章的「作者」「標題」「時間」"
   ]
  },
  {
   "cell_type": "code",
   "execution_count": 11,
   "metadata": {},
   "outputs": [
    {
     "name": "stdout",
     "output_type": "stream",
     "text": "[轉錄]Lyotard 對於太陽板討論串的結論\n作者: Price (Price)\n[公告] 請停止一切關於本次活動的發言\n作者: Price (Price)\n[轉錄]跟之前那篇比起來 我覺得這篇也應該轉過來\n作者: Frankaze (神采風華)\n[轉錄]再轉一篇好文來\n作者: Frankaze (神采風華)\n[轉錄][情報] 夏洛特山貓系列\n作者: Price (Price)\n[轉錄]Re: [心得] 真是受不了糗爺....\n作者: Price (Price)\n[轉錄]總冠軍賽NO.2觀後感\n作者: Price (Price)\n[心得] Rasheed Wallace\n作者: AmuroNamie (原來太嗨真的會失眠^___^)\n掌控球賽的男人\n作者: toptree (  )\n[閒聊] 說說2004季後賽名場面回顧\n作者: skchang (3EB板開板囉！)\n[心得] 其實說穿了 就是活塞的防守太可怕了\n作者: shineup ()\nRe: [閒聊] 說說2004季後賽名場面回顧\n作者: cOvi (喵~)\nRe: [閒聊] 說說2004季後賽名場面回顧\n作者: ykshih (￼N￼Ns)\nRe: [閒聊] 說說2004季後賽名場面回顧\n作者: Frankaze (神采風華)\n[轉錄]Re: 總冠軍賽NO.3觀後感\n作者: Price (Price)\n[轉錄]Re: 總冠軍賽NO.3觀後感\n作者: Frankaze (神采風華)\nRe: [轉錄]Re: 總冠軍賽NO.3觀後感\n作者: star1 (第一次魔術表演不算成功)\nRe: [轉錄]Re: 總冠軍賽NO.3觀後感\n作者: coldspring (笑笑)\nRe: Kobe is frustrated...\n作者: airbear (地圖)\nRe: [轉錄]Re: 總冠軍賽NO.3觀後感\n作者: pennykidd (andre)\n"
    }
   ],
   "source": [
    "\n",
    "url = 'https://www.ptt.cc/bbs/NBA/index1.html'\n",
    "r = requests.get(url)\n",
    "\n",
    "soup = BeautifulSoup(r.text, \"html5lib\")\n",
    "\n",
    "for d in soup.find_all(class_=\"title\"):\n",
    "    print(d.text.replace('\\t', '').replace('\\n', ''))\n",
    "    try:\n",
    "        r = BeautifulSoup(requests.get('https://www.ptt.cc'+d.find('a')['href']).text, \"html5lib\")\n",
    "        print('作者: ' + r.find(class_='article-meta-value').text)\n",
    "    except:\n",
    "        continue\n"
   ]
  },
  {
   "cell_type": "markdown",
   "metadata": {},
   "source": [
    "### ③ 試著爬爬看其他版的文章"
   ]
  },
  {
   "cell_type": "code",
   "execution_count": 13,
   "metadata": {},
   "outputs": [
    {
     "name": "stdout",
     "output_type": "stream",
     "text": "[閒聊] vtuber 戌神ころねx百鬼あやめ 玩大亂鬥\n作者: finzaghi (琴之森)\n[第一] 如何評論木村達也在作品的定位\n作者: leon131417 (一生一世一起)\n[閒聊] 和愛蜜莉亞一起小酌\n作者: wingkauzy (威爾費瑞)\n[LLFES] 官方是不是不想讓觀眾尿尿\n作者: StepZero2One (BooleanFunction)\nRe: [閒聊] 遊戲王重新無印有搞頭嗎?\n作者: davidex (玉藻前我的)\n[五等] 才 才沒有輸不起...\n作者: melzard (南海之星)\nRe: [情報] 新作TV動畫 數碼寶貝大冒險:Ψ 4月\n作者: LSLLtu (如雨隨行)\n[閒聊] 水瀨祈與小倉唯\n作者: f222051618 (  珍  珠  奶  茶  )\n[閒聊] 貓娘的生長速度到底有多快?！\n作者: a210510 (嗚嗚~)\n[鬼滅] 炭香(X) 香炭(O)\n作者: cindylin812 (いつまでも NEWSのファン)\n[閒聊] 壞菇社推特 二乃新圖\n作者: nokumakun (不熊君)\n[開箱] Hello World 拼圖500片\n作者: st40182 ()\n[閒聊] 海馬瀨人有資格選學生會長嗎\n作者: sunine6488 (aki)\n[閒聊] 馭龍至尊奇巴納能駕馭bad dragon嗎？\n作者: leopika (萊奧˙波卡)\n[情報] 假面騎士Build主題曲 Be The One 英文版\n作者: LSLLtu (如雨隨行)\nRe: [塗鴉][五等分] 三玖&五月 學習中(修\n作者: scotttomlee (とある烘焙屋のs君(仮) )\n[FF15] 龍騎10年後還在嗎？？ \n作者: songgood (ilovegoodgame)\nRe: [閒聊] 五等分的花嫁 118 情報\n作者: wl760713 (willy)\n[公告] C_Chat板板規v.16.3.0+板務建議+好文補M \n作者: jschenlemn (sinra)\n[公告] 看板活動& 臨時板規與公告彙整& 閒聊區 \n作者: jschenlemn (sinra)\n[20冬] 冬番各作品首播時間\n作者: SaberTheBest (Saber最高!)\n[20冬] 2020年冬番 台灣觀賞管道整理（01/06）\n作者: durantjosh (肚爛特‧喬許)\n"
    }
   ],
   "source": [
    "\n",
    "url = 'https://www.ptt.cc/bbs/C_Chat/index.html'\n",
    "r = requests.get(url)\n",
    "\n",
    "soup = BeautifulSoup(r.text, \"html5lib\")\n",
    "\n",
    "for d in soup.find_all(class_=\"title\"):\n",
    "    print(d.text.replace('\\t', '').replace('\\n', ''))\n",
    "    try:\n",
    "        r = BeautifulSoup(requests.get('https://www.ptt.cc'+d.find('a')['href']).text, \"html5lib\")\n",
    "        print('作者: ' + r.find(class_='article-meta-value').text)\n",
    "    except:\n",
    "        continue\n"
   ]
  },
  {
   "cell_type": "code",
   "execution_count": null,
   "metadata": {},
   "outputs": [],
   "source": []
  }
 ],
 "metadata": {
  "kernelspec": {
   "display_name": "Python 3.7.4 64-bit",
   "language": "python",
   "name": "python37464bita9990edcc1d34e4b85b4a57067bf3139"
  },
  "language_info": {
   "codemirror_mode": {
    "name": "ipython",
    "version": 3
   },
   "file_extension": ".py",
   "mimetype": "text/x-python",
   "name": "python",
   "nbconvert_exporter": "python",
   "pygments_lexer": "ipython3",
   "version": "3.7.4-final"
  }
 },
 "nbformat": 4,
 "nbformat_minor": 2
}
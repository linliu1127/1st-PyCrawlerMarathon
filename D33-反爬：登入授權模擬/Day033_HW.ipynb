{
 "cells": [
  {
   "cell_type": "markdown",
   "metadata": {},
   "source": [
    "# 反爬：登入授權模擬\n",
    "\n",
    "* 了解「登入權限機制」的反爬蟲機制\n",
    "* 「登入權限機制」反爬蟲的因應策略"
   ]
  },
  {
   "cell_type": "markdown",
   "metadata": {},
   "source": [
    "## 作業目標\n",
    "\n",
    "* 找一個需要登入的網站試試看，並說明思考流程\n",
    "（如果不知道要用哪個網站的話，可以試試看 https://github.com/new 網址，未登入時會被導向登入頁）\n",
    "\n"
   ]
  },
  {
   "cell_type": "code",
   "execution_count": 7,
   "metadata": {},
   "outputs": [
    {
     "data": {
      "text/plain": "'\\n\\n\\n\\n\\n\\n\\n\\n\\n\\n\\n\\n\\nCreate a New Repository\\n\\n\\n\\n\\n\\n\\n\\n\\n\\n\\n\\n\\n\\n\\n\\n\\n\\n\\n\\n\\n\\n\\n\\n\\n\\n\\n\\n\\n\\n\\n\\n\\n\\n\\n\\n\\n\\n\\n\\n\\n\\n\\n\\n\\n\\n\\n\\n\\n\\n\\n\\n\\n\\n\\n\\n\\n\\n\\nSkip to content\\n\\n\\n\\n\\n\\n\\n\\n\\n\\n\\n\\n\\n\\n\\n\\n\\n\\n\\n\\n\\n\\n\\n\\n\\n\\n\\n\\n\\n\\n\\n\\n\\n        Search\\n      \\n\\n        All GitHub\\n      \\n↵\\n\\n\\n      Jump to\\n      ↵\\n\\n\\n\\n\\n\\n\\nNo suggested jump to results\\n\\n\\n\\n\\n\\n\\n\\n\\n\\n\\n\\n\\n\\n\\n\\n        Search\\n      \\n\\n        All GitHub\\n      \\n↵\\n\\n\\n      Jump to\\n      ↵\\n\\n\\n\\n\\n\\n\\n\\n\\n\\n\\n\\n\\n\\n\\n\\n        Search\\n      \\n\\n        All GitHub\\n      \\n↵\\n\\n\\n      Jump to\\n      ↵\\n\\n\\n\\n\\n\\n\\n\\n\\n\\n \\n\\n\\n\\n    Pull requests\\n\\n\\n    Issues\\n\\n\\n\\n        Marketplace\\n\\n\\n\\n    Explore\\n\\n\\n\\n\\n\\n\\n\\n\\n\\n\\n\\n\\n \\n\\n\\n\\n  New repository\\n\\n\\n    Import repository\\n  \\n\\n  New gist\\n\\n\\n    New organization\\n  \\n\\n    New project\\n  \\n\\n\\n\\n\\n\\n\\n\\n\\n\\n\\n\\nSigned in as linliu1127\\n\\n\\n\\n\\n\\n\\n\\n\\n\\n\\n\\n\\n\\nSet status\\n\\n\\n\\n\\n\\n\\n\\n\\n\\n\\nEdit status\\n\\n\\n\\n\\n\\n\\n\\n\\n\\n\\n\\n\\n\\n\\n\\n\\n\\n\\nCould not update your status, please try again.\\n\\n\\n              80 remaining\\n            \\n\\n\\n\\n\\nSuggestions:\\n\\n\\n\\n\\n🌴\\n\\n\\n                          On vacation\\n                        \\n\\n\\n\\n🤒\\n\\n\\n                          Out sick\\n                        \\n\\n\\n\\n\\n\\n🏠\\n\\n\\n                          Working from home\\n                        \\n\\n\\n\\n🎯\\n\\n\\n                          Focusing\\n                        \\n\\n\\n\\n\\n\\n\\n\\n\\n                  Busy\\n                \\n\\n                  When others mention you, assign you, or request your review,\\n                  GitHub will let them know that you have limited availability.\\n                \\n\\n\\n\\n\\n\\n    Clear status\\n  \\n\\n\\n\\n        Never\\n      \\n\\n\\n\\n\\n\\nNever\\nKeep this status until you clear your status or edit your status.\\n\\n\\n\\n\\n\\n            in 30 minutes\\n          \\n\\n\\n\\n            in 1 hour\\n          \\n\\n\\n\\n            in 4 hours\\n          \\n\\n\\n\\n            today\\n          \\n\\n\\n\\n            this week\\n          \\n\\n\\n\\n\\n\\n\\n\\n\\n\\n            Set status\\n          \\n\\n            Clear status\\n          \\n\\n \\n\\n\\n\\n\\nYour profile\\nYour repositories\\nYour projects\\nYour stars\\nYour gists\\n\\n\\n\\n    Feature preview\\n  \\n\\n\\nHelp\\nSettings\\n\\n\\n        Sign out\\n      \\n\\n \\n\\n\\n\\n\\n\\n\\n\\n\\n\\n\\n\\n\\n\\nCreate a new repository\\n\\n      A repository contains all project files, including the revision history.\\n\\n        Already have a project repository elsewhere? Import a repository.\\n\\n\\n\\n\\nOwner\\n\\n\\n\\n\\n    linliu1127\\n  \\n\\n\\n\\n\\n\\n\\n\\n\\n\\n\\n\\n      linliu1127\\n    \\n\\n\\n\\n\\n\\n\\n/\\n\\nRepository name\\n\\n\\n\\n\\n\\n        Great repository names are short and memorable. Need inspiration? How about\\n        improved-octo-spork?\\n      \\n\\nDescription (optional)\\n\\n\\n\\n\\n\\n          Public\\n        \\n\\n\\n            Anyone can see this repository. You choose who can commit.\\n        \\n\\n          You may not create public repositories by organization policy.\\n        \\n\\n\\n\\n\\n          Private\\n        \\n\\n\\n          You choose who can see and commit to this repository.\\n        \\n\\n          You may not create private repositories by organization policy.\\n        \\n\\n          Due to U.S. trade controls law restrictions, paid GitHub organization services have been restricted.\\n\\nFor free organization accounts, you may have access to free GitHub public repository services (such as access to GitHub Pages and public repositories used for open source projects) for personal communications only, and not for commercial purposes. The restriction also includes suspended access to private repository services and paid services (such as availability of private organizational accounts and GitHub Marketplace services).\\n\\nPlease read about GitHub and Trade Controls for more information.\\n\\n        \\n\\n          Due to U.S. trade controls law restrictions, your GitHub account has been restricted.\\n\\nThis means we have suspended access to private repository services and paid services for your account. For free individual accounts, you still have access to free GitHub public repository services (such as public repositories for open source projects and associated GitHub Pages and Gists).\\n\\nIf you believe your account has been flagged in error, and you are not located in or resident in a sanctioned region, please file an appeal.\\n\\nPlease read about GitHub and Trade Controls for more information.\\n\\n        \\n\\n          Your current plan does not support private repositories.\\n            \\n              Your organization\\'s owners will need to upgrade to Team.\\n            \\n\\n\\n\\n\\n\\n\\n\\n\\nSkip this step if you’re importing an existing repository.\\n\\n\\n\\n\\n            Initialize this repository with a README\\n          \\n\\n            This will let you immediately clone the repository to your computer.\\n          \\n\\n\\n\\n\\n\\nAdd .gitignore:\\nNone\\n\\n\\n\\n.gitignore\\n\\n\\n\\n\\n\\n\\n\\n\\n\\n\\n\\nNone\\n        \\n\\n\\n\\nActionscript\\n\\n\\n\\n\\nAda\\n\\n\\n\\n\\nAgda\\n\\n\\n\\n\\nAndroid\\n\\n\\n\\n\\nAppEngine\\n\\n\\n\\n\\nAppceleratorTitanium\\n\\n\\n\\n\\nArchLinuxPackages\\n\\n\\n\\n\\nAutotools\\n\\n\\n\\n\\nC\\n\\n\\n\\n\\nC++\\n\\n\\n\\n\\nCFWheels\\n\\n\\n\\n\\nCMake\\n\\n\\n\\n\\nCUDA\\n\\n\\n\\n\\nCakePHP\\n\\n\\n\\n\\nChefCookbook\\n\\n\\n\\n\\nClojure\\n\\n\\n\\n\\nCodeIgniter\\n\\n\\n\\n\\nCommonLisp\\n\\n\\n\\n\\nComposer\\n\\n\\n\\n\\nConcrete5\\n\\n\\n\\n\\nCoq\\n\\n\\n\\n\\nCraftCMS\\n\\n\\n\\n\\nD\\n\\n\\n\\n\\nDM\\n\\n\\n\\n\\nDart\\n\\n\\n\\n\\nDelphi\\n\\n\\n\\n\\nDrupal\\n\\n\\n\\n\\nEPiServer\\n\\n\\n\\n\\nEagle\\n\\n\\n\\n\\nElisp\\n\\n\\n\\n\\nElixir\\n\\n\\n\\n\\nElm\\n\\n\\n\\n\\nErlang\\n\\n\\n\\n\\nExpressionEngine\\n\\n\\n\\n\\nExtJs\\n\\n\\n\\n\\nFancy\\n\\n\\n\\n\\nFinale\\n\\n\\n\\n\\nForceDotCom\\n\\n\\n\\n\\nFortran\\n\\n\\n\\n\\nFuelPHP\\n\\n\\n\\n\\nGWT\\n\\n\\n\\n\\nGitBook\\n\\n\\n\\n\\nGo\\n\\n\\n\\n\\nGodot\\n\\n\\n\\n\\nGradle\\n\\n\\n\\n\\nGrails\\n\\n\\n\\n\\nHaskell\\n\\n\\n\\n\\nIGORPro\\n\\n\\n\\n\\nIdris\\n\\n\\n\\n\\nJENKINS_HOME\\n\\n\\n\\n\\nJava\\n\\n\\n\\n\\nJboss\\n\\n\\n\\n\\nJekyll\\n\\n\\n\\n\\nJoomla\\n\\n\\n\\n\\nJulia\\n\\n\\n\\n\\nKiCAD\\n\\n\\n\\n\\nKohana\\n\\n\\n\\n\\nKotlin\\n\\n\\n\\n\\nLabVIEW\\n\\n\\n\\n\\nLaravel\\n\\n\\n\\n\\nLeiningen\\n\\n\\n\\n\\nLemonStand\\n\\n\\n\\n\\nLilypond\\n\\n\\n\\n\\nLithium\\n\\n\\n\\n\\nLua\\n\\n\\n\\n\\nMagento\\n\\n\\n\\n\\nMaven\\n\\n\\n\\n\\nMercury\\n\\n\\n\\n\\nMetaProgrammingSystem\\n\\n\\n\\n\\nNim\\n\\n\\n\\n\\nNode\\n\\n\\n\\n\\nOCaml\\n\\n\\n\\n\\nObjective-C\\n\\n\\n\\n\\nOpa\\n\\n\\n\\n\\nOracleForms\\n\\n\\n\\n\\nPacker\\n\\n\\n\\n\\nPerl\\n\\n\\n\\n\\nPerl6\\n\\n\\n\\n\\nPhalcon\\n\\n\\n\\n\\nPlayFramework\\n\\n\\n\\n\\nPlone\\n\\n\\n\\n\\nPrestashop\\n\\n\\n\\n\\nProcessing\\n\\n\\n\\n\\nPureScript\\n\\n\\n\\n\\nPython\\n\\n\\n\\n\\nQooxdoo\\n\\n\\n\\n\\nQt\\n\\n\\n\\n\\nR\\n\\n\\n\\n\\nROS\\n\\n\\n\\n\\nRails\\n\\n\\n\\n\\nRhodesRhomobile\\n\\n\\n\\n\\nRuby\\n\\n\\n\\n\\nRust\\n\\n\\n\\n\\nSCons\\n\\n\\n\\n\\nSass\\n\\n\\n\\n\\nScala\\n\\n\\n\\n\\nScheme\\n\\n\\n\\n\\nScrivener\\n\\n\\n\\n\\nSdcc\\n\\n\\n\\n\\nSeamGen\\n\\n\\n\\n\\nSketchUp\\n\\n\\n\\n\\nSmalltalk\\n\\n\\n\\n\\nSugarCRM\\n\\n\\n\\n\\nSwift\\n\\n\\n\\n\\nSymfony\\n\\n\\n\\n\\nSymphonyCMS\\n\\n\\n\\n\\nTeX\\n\\n\\n\\n\\nTerraform\\n\\n\\n\\n\\nTextpattern\\n\\n\\n\\n\\nTurboGears2\\n\\n\\n\\n\\nTypo3\\n\\n\\n\\n\\nUmbraco\\n\\n\\n\\n\\nUnity\\n\\n\\n\\n\\nUnrealEngine\\n\\n\\n\\n\\nVVVV\\n\\n\\n\\n\\nVisualStudio\\n\\n\\n\\n\\nWaf\\n\\n\\n\\n\\nWordPress\\n\\n\\n\\n\\nXojo\\n\\n\\n\\n\\nYeoman\\n\\n\\n\\n\\nYii\\n\\n\\n\\n\\nZendFramework\\n\\n\\n\\n\\nZephir\\n\\n\\n\\n\\ngcov\\n\\n\\n\\n\\nnanoc\\n\\n\\n\\n\\nopencart\\n\\n\\n\\n\\nstella\\n\\n\\nNothing to show\\n\\n\\n\\n\\n\\n\\n\\nAdd a license:\\nNone\\n\\n\\n\\n\\nLicenses\\n\\n\\n\\n\\n\\n\\n\\n\\n\\n\\n\\n\\n            None\\n          \\n\\n\\n\\n              Apache License 2.0\\n            \\n\\n\\n\\n              GNU General Public License v3.0\\n            \\n\\n\\n\\n              MIT License\\n            \\n\\n\\n\\n              BSD 2-Clause \"Simplified\" License\\n            \\n\\n\\n\\n              BSD 3-Clause \"New\" or \"Revised\" License\\n            \\n\\n\\n\\n              Creative Commons Zero v1.0 Universal\\n            \\n\\n\\n\\n              Eclipse Public License 2.0\\n            \\n\\n\\n\\n              GNU Affero General Public License v3.0\\n            \\n\\n\\n\\n              GNU General Public License v2.0\\n            \\n\\n\\n\\n              GNU Lesser General Public License v2.1\\n            \\n\\n\\n\\n              GNU Lesser General Public License v3.0\\n            \\n\\n\\n\\n              Mozilla Public License 2.0\\n            \\n\\n\\n\\n              The Unlicense\\n            \\n\\n\\n          No results found.\\n        \\n\\n\\n\\n\\n\\n\\n\\n\\n\\n\\n\\n\\n\\n\\n\\n\\n\\n\\n\\n        Create repository\\n      \\n\\n\\n\\n        You don’t appear to have permission to create repositories for this organization. Sorry about that.\\n      \\n\\n\\n\\n\\n\\n\\n\\n\\n© 2020 GitHub, Inc.\\nTerms\\nPrivacy\\nSecurity\\nStatus\\nHelp\\n\\n\\n\\n\\n\\nContact GitHub\\nPricing\\nAPI\\nTraining\\nBlog\\nAbout\\n\\n\\n\\n\\n\\n\\n\\n\\n\\n\\n\\n    You can’t perform that action at this time.\\n  \\n\\n\\n\\n\\n\\n\\nYou signed in with another tab or window. Reload to refresh your session.\\nYou signed out in another tab or window. Reload to refresh your session.\\n\\n\\n\\n\\n\\n\\n\\n\\n\\n\\n\\n\\n\\n\\n\\n\\n\\n\\n\\n'"
     },
     "execution_count": 7,
     "metadata": {},
     "output_type": "execute_result"
    }
   ],
   "source": [
    "import requests\n",
    "from bs4 import BeautifulSoup\n",
    "cookie= '_octo=GH1.1.129834369.1568899088; _ga=GA1.2.468570053.1568899094; tz=Asia%2FTaipei; _device_id=f8da71a291d10724d622eb84af827140; ignored_unsupported_browser_notice=false; has_recent_activity=1; _gat=1; user_session=6bGq9G3l1AHh-FOZVz5Rt0LWXs3AjxdmVOwKVuC1t9KSR97B; __Host-user_session_same_site=6bGq9G3l1AHh-FOZVz5Rt0LWXs3AjxdmVOwKVuC1t9KSR97B; logged_in=yes; dotcom_user=linliu1127; _gh_sess=OXBTQ3MwMGc1aUV5NVdZVlFnejljMStydk81Yk9NeUpTZldZRU8rZEc5Z1R4YmlUSStGYXJxR2MwWEdHZm14RkZXNTh0bGtMbFZ6anBqZlBkako4S1JoZ1JIOGU2NGNkdGtWVUd4Y3RmY3BIaDJ6NHFGSUJPMWdzU09id1pFNDErWVlKQVZMVTk2aWZDa0JKczk1d0V2OEZETkJ0aUw3Um5RcTJzTGVsMW51clZEV09lYlRaVi81eEpJeWJ5TGRYeS9FRTRLTzJCUjVCWTFOQzJXU2ZWbTBOMkRLcUY1dzFET0lubjBEeTNPd1pXNGFVMmt6VFZpTk5JTHpzZG43OUFOQkpUcTRnVUUyRDZqMWhOZ0JnS2pGZVNkVjUxd0JSRjVtU1A5Zk1lWVA3SFkrMXRURXZlZ0pjSit3MU5YVVdsM2pFTjkwOW91TzFoWUFTQnQwN011WGRQSnRUNG51Mmt4OExDWTFFT3hUcVd0WHJiMk9SUHdMeTRDVUhtRmJjVlNmUFVSRTNBY3B3Ui9qU2praHg2WW1JZ3V5Yi9zTzdtR2hEZlVNYXVLUlVrb280WTQvRStMY1dvejZlTTk2N3cvU2srQTJZZDlDK2toVDNNK20xOXBERnd3THFoNnUzUk1sMkZiSWFmdmZMNTU3VGxHaE1vcUZBU25iZWxJalcwaEY1NHdsd0NFN2lNeHZNRVYwTkdPMU10cDdrL0IzWkp5aENTQ2R6ejFIUmJOWm5GaVdUQUN4STBsMkt6YkN1a1MxY2djamRSdS9FRHhWNUJlTjYzYXBYdVJOZndSc1BoMXcxYXNVZlV2US9yR3kxSElMM2lXZnlHeEVFWlh3dGNzYktWekVnWHpEQUVFQWM3N21IZXRoamUrRVlwbDNOMVdEdy9ORDhodmtBZnZhN2tWWHduekFIYjJnbjQ4NkNwK2RFcEN2bjhZTzVZb2FQRjFQdGR1TG9xNVNYRGNBR3B2RVR5MWEzV0hRd0FpTHJxckdzN0x4RWJyd1dQYzB6QzdDaHJ1eUtpRGtaZE5FSFpGdFlFS2dIV21WQU10L2NlVjFJSWF0STNKRm1mb2U3TWZxWEhxQWRRMk1LUmNuNkxXdmxLUEV6aE41dHcxTkhVdWpmcGVYSjhUbEc2cnUwRnlNSmVmUmtDSHdPREorT3RDa1NwSmhGYlYwNFdNMWQ4M2JzL3MxcFZqaWFod281aG15WUJwNlZoS3ZjS1NCUGdjVTU1WWVmeGFOQ2N2d1dHWHFwZE5Cay9NVThrWDl0WUpxeG5wTFo1c3EvMUJzNFUzNzI3NEFHL3F0RnRMYjgxQWpKYlVJUW9zaGdrTjA5c2grUzRlN2ZCdjhOcUZkcEl5VjA0a2pBdU5DZjg3OWJTWm5QUSswQ21iT2FzR0NPV3hZTms4L0JJTVVGTzkrbjU5Vk8wQXRBdy9MbzBEeGZveGFseDlENmcwNGk0a3hycWU3OVhZSWlYc2g4VHlsODhsVUhlVEYwNkE4PS0tVG0rOTZDNjAxUFU0ZnlycDNET0o4QT09--1cf6928548e07a561ad85985bdb96055a35af520'\n",
    "cookies={}#初始化cookies字典变量\n",
    "for line in cookie.split(';'):   #按照字符：进行划分读取\n",
    "    #其设置为1就会把字符串拆分成2份\n",
    "    name,value=line.strip().split('=',1)\n",
    "    cookies[name]=value  #为字典cookies添加内容\n",
    "r=requests.get('https://github.com/new',cookies=cookies)\n",
    "soup=BeautifulSoup(r.text)\n",
    "soup.text"
   ]
  },
  {
   "cell_type": "code",
   "execution_count": null,
   "metadata": {},
   "outputs": [],
   "source": []
  }
 ],
 "metadata": {
  "kernelspec": {
   "display_name": "Python 3.7.4 64-bit",
   "language": "python",
   "name": "python37464bita9990edcc1d34e4b85b4a57067bf3139"
  },
  "language_info": {
   "codemirror_mode": {
    "name": "ipython",
    "version": 3
   },
   "file_extension": ".py",
   "mimetype": "text/x-python",
   "name": "python",
   "nbconvert_exporter": "python",
   "pygments_lexer": "ipython3",
   "version": "3.7.4-final"
  }
 },
 "nbformat": 4,
 "nbformat_minor": 2
}
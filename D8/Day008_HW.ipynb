{
 "cells": [
  {
   "cell_type": "markdown",
   "metadata": {},
   "source": [
    "# 靜態網頁的資料爬蟲策略\n",
    "\n",
    "\n",
    "* 了解靜態網頁的資料爬蟲策略\n",
    "* 認識適用於靜態網頁爬蟲的相關套件工具：Request\n",
    "* 認識適用於靜態網頁爬蟲的相關套件工具：BeatifulSoup"
   ]
  },
  {
   "cell_type": "markdown",
   "metadata": {},
   "source": [
    "## 作業目標\n",
    "\n",
    "利用 Request + BeatifulSoup 爬取下列兩個網站內容並解析：\n",
    "\n",
    "1. Dcared 網址： https://www.dcard.tw/f\n",
    "2. 知乎： https://www.zhihu.com/explore\n",
    "\n",
    "並且回答下面問題：\n",
    "\n",
    "1. Request 取回之後該怎麼取出資料，資料型態是什麼？\n",
    "2. 為什麼要使用 BeatifulSoup 處理？處理後的型態是什麼？\n",
    "3. 觀察一下知乎回來的資料好像有點怪怪的，該怎麼解決？"
   ]
  },
  {
   "cell_type": "markdown",
   "metadata": {},
   "source": [
    "### 1. Dcard 網址： https://www.dcard.tw/f"
   ]
  },
  {
   "cell_type": "code",
   "execution_count": 1,
   "metadata": {},
   "outputs": [],
   "source": [
    "import requests\n",
    "from bs4 import BeautifulSoup\n"
   ]
  },
  {
   "cell_type": "code",
   "execution_count": 2,
   "metadata": {},
   "outputs": [
    {
     "name": "stdout",
     "output_type": "stream",
     "text": "\n  <!DOCTYPE html>\n  <html lang=\"zh-tw\">\n    <head>\n      <meta charset=\"UTF-8\">\n      <meta name=\"viewport\" content=\"width=device-width, initial-scale=1, maximum-scale=1\">\n      <meta http-equiv=\"X-UA-Compatible\" content=\"ie=edge\">\n      <meta name=\"theme-color\" content=\"#006aa6\">\n      <meta data-react-helmet=\"true\" property=\"og:type\" content=\"website\"/><meta data-react-helmet=\"true\" property=\"og:site_name\" content=\"Dcard\"/><meta data-react-helmet=\"true\" property=\"og:title\" content=\"全部  | Dcard\"/><meta data-react-helmet=\"true\" property=\"og:url\" content=\"https://www.dcard.tw/f\"/><meta data-react-helmet=\"true\" name=\"twitter:title\" content=\"全部 | Dcard\"/><meta data-react-helmet=\"true\" property=\"al:ios:url\" content=\"dcard://category/all/全部/hot\"/><meta data-react-helmet=\"true\" property=\"al:android:url\" content=\"dcard://category/all/全部/hot\"/>\n      <title data-react-helmet=\"true\">全部 | Dcard</title>\n      <link data-react-helmet=\"true\" rel=\"canonical\" href=\"https://www.dcard.tw/f\"/>\n      <link rel=\"manifest\" href=\"/build//manifest.json\">\n      <link rel='icon' sizes='32x32' type='image/png' href=\"/build//images/favicon_32.png\"/>\n      <link rel='icon' sizes='72x72' type='image/png' href=\"/build//images/favicon_72.png\"/>\n      <link rel='icon' sizes='512x512' type='image/png' href=\"/build//images/favicon_512.png\"/>\n\n      <link rel='apple-touch-icon-precomposed' size='144x144' href=\"/build//images/favicon_144.png\"/>\n      <link rel='apple-touch-icon-precomposed' size='114x114' href=\"/build//images/favicon_114.png\"/>\n      <link rel='apple-touch-icon-precomposed' size='72x72' href=\"/build//images/favicon_72.png\"/>\n      <link rel='apple-touch-icon-precomposed' href=\"/build//images/favicon_57.png\"/>\n\n      \n<script>\n(function(e,t){var n=e.amplitude||{_q:[],_iq:{}};var r=t.createElement(\"script\")\n;r.type=\"text/javascript\";r.async=true\n;r.src=\"https://cdn.amplitude.com/libs/amplitude-4.4.0-min.gz.js\"\n;r.onload=function(){if(e.amplitude.runQueuedFunctions){\ne.amplitude.runQueuedFunctions()}else{\nconsole.log(\"[Amplitude] Error: could not load SDK\")}}\n;var i=t.getElementsByTagName(\"script\")[0];i.parentNode.insertBefore(r,i)\n;function s(e,t){e.prototype[t]=function(){\nthis._q.push([t].concat(Array.prototype.slice.call(arguments,0)));return this}}\nvar o=function(){this._q=[];return this}\n;var a=[\"add\",\"append\",\"clearAll\",\"prepend\",\"set\",\"setOnce\",\"unset\"]\n;for(var u=0;u<a.length;u++){s(o,a[u])}n.Identify=o;var c=function(){this._q=[]\n;return this}\n;var l=[\"setProductId\",\"setQuantity\",\"setPrice\",\"setRevenueType\",\"setEventProperties\"]\n;for(var p=0;p<l.length;p++){s(c,l[p])}n.Revenue=c\n;var d=[\"init\",\"logEvent\",\"logRevenue\",\"setUserId\",\"setUserProperties\",\"setOptOut\",\"setVersionName\",\"setDomain\",\"setDeviceId\",\"setGlobalUserProperties\",\"identify\",\"clearUserProperties\",\"setGroup\",\"logRevenueV2\",\"regenerateDeviceId\",\"logEventWithTimestamp\",\"logEventWithGroups\",\"setSessionId\",\"resetSessionId\"]\n;function v(e){function t(t){e[t]=function(){\ne._q.push([t].concat(Array.pr\n"
    }
   ],
   "source": [
    "url = 'https://www.dcard.tw/f'\n",
    "\n",
    "r = requests.get(url)\n",
    "\n",
    "r.encoding = 'utf-8'\n",
    "print(r.text[0:3000])"
   ]
  },
  {
   "cell_type": "code",
   "execution_count": 3,
   "metadata": {},
   "outputs": [
    {
     "name": "stdout",
     "output_type": "stream",
     "text": "Request 取回之後該怎麼取出資料，資料型態是什麼？ =>\n"
    },
    {
     "data": {
      "text/plain": "str"
     },
     "execution_count": 3,
     "metadata": {},
     "output_type": "execute_result"
    }
   ],
   "source": [
    "print('Request 取回之後該怎麼取出資料，資料型態是什麼？ =>')\n",
    "type(r.text[0:3000])"
   ]
  },
  {
   "cell_type": "code",
   "execution_count": 4,
   "metadata": {},
   "outputs": [
    {
     "name": "stdout",
     "output_type": "stream",
     "text": "為什麼要使用 BeatifulSoup 處理？處理後的型態是什麼？ => \n\n<!DOCTYPE html>\n\n<html lang=\"zh-tw\">\n<head>\n<meta charset=\"utf-8\"/>\n<meta content=\"width=device-width, initial-scale=1, maximum-scale=1\" name=\"viewport\"/>\n<meta content=\"ie=edge\" http-equiv=\"X-UA-Compatible\"/>\n<meta content=\"#006aa6\" name=\"theme-color\"/>\n<meta content=\"website\" data-react-helmet=\"true\" property=\"og:type\"><meta content=\"Dcard\" data-react-helmet=\"true\" property=\"og:site_name\"><meta content=\"全部  | Dcard\" data-react-helmet=\"true\" property=\"og:title\"><meta content=\"https://www.dcard.tw/f\" data-react-helmet=\"true\" property=\"og:url\"><meta content=\"全部 | Dcard\" data-react-helmet=\"true\" name=\"twitter:title\"/><meta content=\"dcard://category/all/全部/hot\" data-react-helmet=\"true\" property=\"al:ios:url\"/><meta content=\"dcard://category/all/全部/hot\" data-react-helmet=\"true\" property=\"al:android:url\"/>\n<title data-react-helmet=\"true\">全部 | Dcard</title>\n<link data-react-helmet=\"true\" href=\"https://www.dcard.tw/f\" rel=\"canonical\"/>\n<link href=\"/build//manifest.json\" rel=\"manifest\"/>\n<link href=\"/build//images/favicon_32.png\" rel=\"icon\" sizes=\"32x32\" type=\"image/png\">\n<link href=\"/build//images/favicon_72.png\" rel=\"icon\" sizes=\"72x72\" type=\"image/png\"/>\n<link href=\"/build//images/favicon_512.png\" rel=\"icon\" sizes=\"512x512\" type=\"image/png\"/>\n<link href=\"/build//images/favicon_144.png\" rel=\"apple-touch-icon-precomposed\" size=\"144x144\"/>\n<link href=\"/build//images/favicon_114.png\" rel=\"apple-touch-icon-precomposed\" size=\"114x114\"/>\n<link href=\"/build//images/favicon_72.png\" rel=\"apple-touch-icon-precomposed\" size=\"72x72\"/>\n<link href=\"/build//images/favicon_57.png\" rel=\"apple-touch-icon-precomposed\"/>\n<script></script></link></meta></meta></meta></meta></head></html>\n<class 'bs4.BeautifulSoup'>\n"
    },
    {
     "data": {
      "text/plain": "'可為待解析的⾴頁⾯面建立⼀一棵樹，以便提取其中的資料。'"
     },
     "execution_count": 4,
     "metadata": {},
     "output_type": "execute_result"
    }
   ],
   "source": [
    "print('為什麼要使用 BeatifulSoup 處理？處理後的型態是什麼？ => ')\n",
    "\n",
    "soup = BeautifulSoup(r.text[0:3000], \"html.parser\")\n",
    "print(soup)\n",
    "print(type(soup))\n",
    "\"可為待解析的⾴頁⾯面建立⼀一棵樹，以便提取其中的資料。\""
   ]
  },
  {
   "cell_type": "markdown",
   "metadata": {},
   "source": [
    "### 2. 知乎： https://www.zhihu.com/explore"
   ]
  },
  {
   "cell_type": "code",
   "execution_count": 5,
   "metadata": {},
   "outputs": [
    {
     "name": "stdout",
     "output_type": "stream",
     "text": "<html>\n<head><title>400 Bad Request</title></head>\n<body bgcolor=\"white\">\n<center><h1>400 Bad Request</h1></center>\n<hr><center>openresty</center>\n</body>\n</html>\n\n"
    }
   ],
   "source": [
    "url = 'https://www.zhihu.com/explore'\n",
    "r = requests.get(url)\n",
    "r.encoding = 'utf-8'\n",
    "\n",
    "print(r.text[0:600])"
   ]
  },
  {
   "cell_type": "markdown",
   "metadata": {},
   "source": [
    "### 3. 觀察一下知乎回來的資料好像有點怪怪的，該怎麼解決？"
   ]
  },
  {
   "cell_type": "code",
   "execution_count": 6,
   "metadata": {},
   "outputs": [
    {
     "name": "stdout",
     "output_type": "stream",
     "text": "<!doctype html>\n<html lang=\"zh\" data-hairline=\"true\" data-theme=\"light\"><head><meta charSet=\"utf-8\"/><title data-react-helmet=\"true\">发现 - 知乎</title><meta name=\"viewport\" content=\"width=device-width,initial-scale=1,maximum-scale=1\"/><meta name=\"renderer\" content=\"webkit\"/><meta name=\"force-rendering\" content=\"webkit\"/><meta http-equiv=\"X-UA-Compatible\" content=\"IE=edge,chrome=1\"/><meta name=\"google-site-verification\" content=\"FTeR0c8arOPKh8c5DYh_9uu98_zJbaWw53J-Sch9MTg\"/><meta name=\"description\" property=\"og:description\" content=\"有问题，上知乎。知乎，可信赖的问答社区，以让每个人高效获得可信赖的解答为使命。知乎凭借认真、专业和友善的社区氛围，结构化、易获得的\n"
    }
   ],
   "source": [
    "import requests\n",
    "url = 'https://www.zhihu.com/explore'\n",
    "\n",
    "headers = {'user-agent': 'Mozilla/5.0 (Windows NT 10.0; Win64; x64) AppleWebKit/537.36 (KHTML, like Gecko) Chrome/78.0.3904.108 Safari/537.36'}\n",
    "r = requests.get(url,headers=headers)\n",
    "\n",
    "r.encoding = 'utf-8'\n",
    "print(r.text[0:600])"
   ]
  },
  {
   "cell_type": "code",
   "execution_count": null,
   "metadata": {},
   "outputs": [],
   "source": []
  },
  {
   "cell_type": "code",
   "execution_count": null,
   "metadata": {},
   "outputs": [],
   "source": []
  }
 ],
 "metadata": {
  "kernelspec": {
   "display_name": "Python 3.7.4 64-bit",
   "language": "python",
   "name": "python37464bita9990edcc1d34e4b85b4a57067bf3139"
  },
  "language_info": {
   "codemirror_mode": {
    "name": "ipython",
    "version": 3
   },
   "file_extension": ".py",
   "mimetype": "text/x-python",
   "name": "python",
   "nbconvert_exporter": "python",
   "pygments_lexer": "ipython3",
   "version": "3.7.4-final"
  }
 },
 "nbformat": 4,
 "nbformat_minor": 2
}
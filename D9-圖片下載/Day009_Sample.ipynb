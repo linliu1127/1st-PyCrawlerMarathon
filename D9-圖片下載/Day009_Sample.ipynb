{
 "cells": [
  {
   "cell_type": "markdown",
   "metadata": {},
   "source": [
    "# 範例\n",
    "\n",
    "以正確的副檔名下載網頁中的圖片\n",
    "範例網頁:https://www.ptt.cc/bbs/Beauty/M.1574854555.A.E5C.html\n",
    "\n",
    "Note：因為 PTT 會詢問「是否滿 18 歲」，這邊可以用 cookies 繞過\n",
    "\n",
    "`requests.get(URL, cookies={'over18': '1'}`"
   ]
  },
  {
   "cell_type": "code",
   "execution_count": 3,
   "metadata": {},
   "outputs": [],
   "source": [
    "import requests\n",
    "import os\n",
    "\n",
    "from bs4 import BeautifulSoup\n",
    "from PIL import Image"
   ]
  },
  {
   "cell_type": "code",
   "execution_count": 4,
   "metadata": {},
   "outputs": [],
   "source": [
    "url = 'https://www.ptt.cc/bbs/Beauty/M.1574854555.A.E5C.html'\n",
    "resp = requests.get(url, cookies={'over18': '1'})\n",
    "soup = BeautifulSoup(resp.text)"
   ]
  },
  {
   "cell_type": "code",
   "execution_count": 5,
   "metadata": {},
   "outputs": [
    {
     "name": "stdout",
     "output_type": "stream",
     "text": "https://i.imgur.com/Yvqa9MC.jpg\nYvqa9MC.jpg\nhttps://i.imgur.com/Yvqa9MC.jpg\nSave image downloads/Yvqa9MC.jpg.jpeg\nhttps://i.imgur.com/4aqPUFf.jpg\n4aqPUFf.jpg\nhttps://i.imgur.com/4aqPUFf.jpg\nSave image downloads/4aqPUFf.jpg.jpeg\nhttps://i.imgur.com/hG9seBk.jpg\nhG9seBk.jpg\nhttps://i.imgur.com/hG9seBk.jpg\nSave image downloads/hG9seBk.jpg.jpeg\nhttps://i.imgur.com/2M5b3z4.jpg\n2M5b3z4.jpg\nhttps://i.imgur.com/2M5b3z4.jpg\nSave image downloads/2M5b3z4.jpg.jpeg\nhttps://i.imgur.com/ncyh1pY.jpg\nncyh1pY.jpg\nhttps://i.imgur.com/ncyh1pY.jpg\nSave image downloads/ncyh1pY.jpg.jpeg\nhttps://i.imgur.com/Z8L1vqU.jpg\nZ8L1vqU.jpg\nhttps://i.imgur.com/Z8L1vqU.jpg\nSave image downloads/Z8L1vqU.jpg.jpeg\nhttps://i.imgur.com/tJyl8gf.jpg\ntJyl8gf.jpg\nhttps://i.imgur.com/tJyl8gf.jpg\nSave image downloads/tJyl8gf.jpg.jpeg\nhttps://i.imgur.com/hwry1vC.jpg\nhwry1vC.jpg\nhttps://i.imgur.com/hwry1vC.jpg\nSave image downloads/hwry1vC.jpg.jpeg\nhttps://i.imgur.com/WaPmVsl.jpg\nWaPmVsl.jpg\nhttps://i.imgur.com/WaPmVsl.jpg\nSave image downloads/WaPmVsl.jpg.jpeg\nhttps://i.imgur.com/u3a9fBO.jpg\nu3a9fBO.jpg\nhttps://i.imgur.com/u3a9fBO.jpg\nSave image downloads/u3a9fBO.jpg.jpeg\n"
    }
   ],
   "source": [
    "# 決定要儲存的資料夾\n",
    "output_dir = 'downloads'\n",
    "\n",
    "# 假如資料夾不存在就新增一個資料夾\n",
    "if not os.path.exists(output_dir):\n",
    "    os.makedirs(output_dir)\n",
    "\n",
    "# 定位所有圖片的 tag\n",
    "image_tags = soup.find(id='main-content').findChildren('a', recursive=False)#正常情況你對它 find ，會去找地下所有的節點。recursive=False 時，只會尋找你找的物件的下一層，而不會往更下層尋找。\n",
    "for img_tag in image_tags:\n",
    "    # 取得所有圖片在第三方服務的 id\n",
    "    if 'imgur' not in img_tag['href']:\n",
    "        continue#去掉網址中沒有imgur的\n",
    "    print(img_tag['href'])\n",
    "    img_id = img_tag['href'].split('/')[-1]#-1代表分開後取最尾端的部分\n",
    "    print(img_id)\n",
    "    # 組合圖片而非網站的網址\n",
    "    img_url = 'https://i.imgur.com/{}'.format(img_id)#'{}'搭配.format即可在大括號的位置放入指定的東西(這樣會有兩個.jpg但好像就算有無限個.jpg也沒差)\n",
    "    print(img_url)\n",
    "    # 對圖片送出請求\n",
    "    with requests.get(img_url, stream=True) as r:\n",
    "        r.raise_for_status()\n",
    "        # 檢查圖片副檔名\n",
    "        img = Image.open(r.raw)\n",
    "        img_savename = '{outdir}/{img_id}.{img_ext}'.format(\n",
    "            outdir=output_dir, img_id=img_id, img_ext=img.format.lower())\n",
    "        img.save(img_savename)\n",
    "        print('Save image {}'.format(img_savename))"
   ]
  },
  {
   "cell_type": "code",
   "execution_count": null,
   "metadata": {},
   "outputs": [],
   "source": []
  }
 ],
 "metadata": {
  "kernelspec": {
   "display_name": "Python 3.7.4 64-bit",
   "language": "python",
   "name": "python37464bita9990edcc1d34e4b85b4a57067bf3139"
  },
  "language_info": {
   "codemirror_mode": {
    "name": "ipython",
    "version": 3
   },
   "file_extension": ".py",
   "mimetype": "text/x-python",
   "name": "python",
   "nbconvert_exporter": "python",
   "pygments_lexer": "ipython3",
   "version": "3.7.4-final"
  }
 },
 "nbformat": 4,
 "nbformat_minor": 2
}